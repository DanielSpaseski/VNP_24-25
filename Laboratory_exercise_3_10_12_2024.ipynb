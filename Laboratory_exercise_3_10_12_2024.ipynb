{
 "cells": [
  {
   "cell_type": "markdown",
   "metadata": {
    "id": "rODb9vHvIEbp"
   },
   "source": [
    "# Requirements"
   ]
  },
  {
   "cell_type": "code",
   "execution_count": null,
   "metadata": {},
   "outputs": [],
   "source": [
    "!pip install tensorflow keras"
   ]
  },
  {
   "cell_type": "code",
   "execution_count": 17,
   "metadata": {
    "id": "-rgNa1IOH9KV"
   },
   "outputs": [],
   "source": [
    "import pandas as pd\n",
    "import seaborn as sns\n",
    "import matplotlib.pyplot as plt\n",
    "from sklearn.model_selection import train_test_split\n",
    "from sklearn.metrics import r2_score\n",
    "from sklearn.preprocessing import MinMaxScaler\n",
    "from keras.models import Sequential\n",
    "from keras.layers import Input, LSTM, Dense"
   ]
  },
  {
   "cell_type": "code",
   "execution_count": null,
   "metadata": {
    "id": "U4KmHBd2cdx9"
   },
   "outputs": [],
   "source": [
    "# Add as many imports as you need."
   ]
  },
  {
   "cell_type": "markdown",
   "metadata": {
    "id": "_rAh_91OIjeS"
   },
   "source": [
    "## Introduction\n",
    "In this laboratory assignment, the focus is on time series forecasting, specifically targeting the prediction of the current **close price** for Bitcoin. To accomplish this, you will use data from the preceding 7 days, and past statistics. \n"
   ]
  },
  {
   "cell_type": "markdown",
   "metadata": {
    "id": "zBYI-EypaWom"
   },
   "source": [
    "## The Amazon Stock Price Dataset"
   ]
  },
  {
   "cell_type": "markdown",
   "metadata": {
    "id": "iAtPoYzAZo1v"
   },
   "source": [
    "The dataset comprises the following columns:\n",
    "- date - the date of the recorded price\n",
    "- symbol - the resource for prediction\n",
    "- open - the open price of BTC\n",
    "- high - the high price of BTC\n",
    "- low - the low price of BTC\n",
    "- volumeBTC - the volume of trades BTC\n",
    "- volumeUSD - the volume of trades USD\n",
    "- close - the close price of BTC\n",
    "\n",
    "Target:\n",
    "close"
   ]
  },
  {
   "cell_type": "markdown",
   "metadata": {
    "id": "DCm1qm1mZwMr"
   },
   "source": [
    "Load the dataset into a `pandas` data frame."
   ]
  },
  {
   "cell_type": "code",
   "execution_count": 3,
   "metadata": {
    "id": "KMOn4fgcZn8s"
   },
   "outputs": [
    {
     "data": {
      "text/html": [
       "<div>\n",
       "<style scoped>\n",
       "    .dataframe tbody tr th:only-of-type {\n",
       "        vertical-align: middle;\n",
       "    }\n",
       "\n",
       "    .dataframe tbody tr th {\n",
       "        vertical-align: top;\n",
       "    }\n",
       "\n",
       "    .dataframe thead th {\n",
       "        text-align: right;\n",
       "    }\n",
       "</style>\n",
       "<table border=\"1\" class=\"dataframe\">\n",
       "  <thead>\n",
       "    <tr style=\"text-align: right;\">\n",
       "      <th></th>\n",
       "      <th>date</th>\n",
       "      <th>symbol</th>\n",
       "      <th>open</th>\n",
       "      <th>high</th>\n",
       "      <th>low</th>\n",
       "      <th>close</th>\n",
       "      <th>Volume BTC</th>\n",
       "      <th>Volume USD</th>\n",
       "    </tr>\n",
       "  </thead>\n",
       "  <tbody>\n",
       "    <tr>\n",
       "      <th>0</th>\n",
       "      <td>3/1/2022 0:00</td>\n",
       "      <td>BTC/USD</td>\n",
       "      <td>43221.71</td>\n",
       "      <td>43626.49</td>\n",
       "      <td>43185.48</td>\n",
       "      <td>43185.48</td>\n",
       "      <td>4.900629e+01</td>\n",
       "      <td>2.116360e+06</td>\n",
       "    </tr>\n",
       "    <tr>\n",
       "      <th>1</th>\n",
       "      <td>2/28/2022 0:00</td>\n",
       "      <td>BTC/USD</td>\n",
       "      <td>37717.10</td>\n",
       "      <td>44256.08</td>\n",
       "      <td>37468.99</td>\n",
       "      <td>43178.98</td>\n",
       "      <td>3.160618e+03</td>\n",
       "      <td>1.364723e+08</td>\n",
       "    </tr>\n",
       "    <tr>\n",
       "      <th>2</th>\n",
       "      <td>2/27/2022 0:00</td>\n",
       "      <td>BTC/USD</td>\n",
       "      <td>39146.66</td>\n",
       "      <td>39886.92</td>\n",
       "      <td>37015.74</td>\n",
       "      <td>37712.68</td>\n",
       "      <td>1.701817e+03</td>\n",
       "      <td>6.418008e+07</td>\n",
       "    </tr>\n",
       "    <tr>\n",
       "      <th>3</th>\n",
       "      <td>2/26/2022 0:00</td>\n",
       "      <td>BTC/USD</td>\n",
       "      <td>39242.64</td>\n",
       "      <td>40330.99</td>\n",
       "      <td>38600.00</td>\n",
       "      <td>39146.66</td>\n",
       "      <td>9.127241e+02</td>\n",
       "      <td>3.573010e+07</td>\n",
       "    </tr>\n",
       "    <tr>\n",
       "      <th>4</th>\n",
       "      <td>2/25/2022 0:00</td>\n",
       "      <td>BTC/USD</td>\n",
       "      <td>38360.93</td>\n",
       "      <td>39727.97</td>\n",
       "      <td>38027.61</td>\n",
       "      <td>39231.64</td>\n",
       "      <td>2.202852e+03</td>\n",
       "      <td>8.642149e+07</td>\n",
       "    </tr>\n",
       "    <tr>\n",
       "      <th>...</th>\n",
       "      <td>...</td>\n",
       "      <td>...</td>\n",
       "      <td>...</td>\n",
       "      <td>...</td>\n",
       "      <td>...</td>\n",
       "      <td>...</td>\n",
       "      <td>...</td>\n",
       "      <td>...</td>\n",
       "    </tr>\n",
       "    <tr>\n",
       "      <th>2646</th>\n",
       "      <td>12/2/2014 0:00</td>\n",
       "      <td>BTC/USD</td>\n",
       "      <td>378.39</td>\n",
       "      <td>382.86</td>\n",
       "      <td>375.23</td>\n",
       "      <td>379.25</td>\n",
       "      <td>2.593576e+06</td>\n",
       "      <td>6.832530e+03</td>\n",
       "    </tr>\n",
       "    <tr>\n",
       "      <th>2647</th>\n",
       "      <td>12/1/2014 0:00</td>\n",
       "      <td>BTC/USD</td>\n",
       "      <td>376.40</td>\n",
       "      <td>382.31</td>\n",
       "      <td>373.03</td>\n",
       "      <td>378.39</td>\n",
       "      <td>2.520662e+06</td>\n",
       "      <td>6.660560e+03</td>\n",
       "    </tr>\n",
       "    <tr>\n",
       "      <th>2648</th>\n",
       "      <td>11/30/2014 0:00</td>\n",
       "      <td>BTC/USD</td>\n",
       "      <td>376.57</td>\n",
       "      <td>381.99</td>\n",
       "      <td>373.32</td>\n",
       "      <td>373.34</td>\n",
       "      <td>1.145567e+06</td>\n",
       "      <td>3.046330e+03</td>\n",
       "    </tr>\n",
       "    <tr>\n",
       "      <th>2649</th>\n",
       "      <td>11/29/2014 0:00</td>\n",
       "      <td>BTC/USD</td>\n",
       "      <td>376.42</td>\n",
       "      <td>386.60</td>\n",
       "      <td>372.25</td>\n",
       "      <td>376.72</td>\n",
       "      <td>2.746157e+06</td>\n",
       "      <td>7.245190e+03</td>\n",
       "    </tr>\n",
       "    <tr>\n",
       "      <th>2650</th>\n",
       "      <td>11/28/2014 0:00</td>\n",
       "      <td>BTC/USD</td>\n",
       "      <td>363.59</td>\n",
       "      <td>381.34</td>\n",
       "      <td>360.57</td>\n",
       "      <td>376.28</td>\n",
       "      <td>3.220878e+06</td>\n",
       "      <td>8.617150e+03</td>\n",
       "    </tr>\n",
       "  </tbody>\n",
       "</table>\n",
       "<p>2651 rows × 8 columns</p>\n",
       "</div>"
      ],
      "text/plain": [
       "                 date   symbol      open      high       low     close  \\\n",
       "0       3/1/2022 0:00  BTC/USD  43221.71  43626.49  43185.48  43185.48   \n",
       "1      2/28/2022 0:00  BTC/USD  37717.10  44256.08  37468.99  43178.98   \n",
       "2      2/27/2022 0:00  BTC/USD  39146.66  39886.92  37015.74  37712.68   \n",
       "3      2/26/2022 0:00  BTC/USD  39242.64  40330.99  38600.00  39146.66   \n",
       "4      2/25/2022 0:00  BTC/USD  38360.93  39727.97  38027.61  39231.64   \n",
       "...               ...      ...       ...       ...       ...       ...   \n",
       "2646   12/2/2014 0:00  BTC/USD    378.39    382.86    375.23    379.25   \n",
       "2647   12/1/2014 0:00  BTC/USD    376.40    382.31    373.03    378.39   \n",
       "2648  11/30/2014 0:00  BTC/USD    376.57    381.99    373.32    373.34   \n",
       "2649  11/29/2014 0:00  BTC/USD    376.42    386.60    372.25    376.72   \n",
       "2650  11/28/2014 0:00  BTC/USD    363.59    381.34    360.57    376.28   \n",
       "\n",
       "        Volume BTC    Volume USD  \n",
       "0     4.900629e+01  2.116360e+06  \n",
       "1     3.160618e+03  1.364723e+08  \n",
       "2     1.701817e+03  6.418008e+07  \n",
       "3     9.127241e+02  3.573010e+07  \n",
       "4     2.202852e+03  8.642149e+07  \n",
       "...            ...           ...  \n",
       "2646  2.593576e+06  6.832530e+03  \n",
       "2647  2.520662e+06  6.660560e+03  \n",
       "2648  1.145567e+06  3.046330e+03  \n",
       "2649  2.746157e+06  7.245190e+03  \n",
       "2650  3.220878e+06  8.617150e+03  \n",
       "\n",
       "[2651 rows x 8 columns]"
      ]
     },
     "execution_count": 3,
     "metadata": {},
     "output_type": "execute_result"
    }
   ],
   "source": [
    "# Write your code here. Add as many boxes as you need.\n",
    "df = pd.read_csv(\"BTC-Daily.csv\")\n",
    "df"
   ]
  },
  {
   "cell_type": "code",
   "execution_count": 4,
   "metadata": {},
   "outputs": [
    {
     "data": {
      "text/html": [
       "<div>\n",
       "<style scoped>\n",
       "    .dataframe tbody tr th:only-of-type {\n",
       "        vertical-align: middle;\n",
       "    }\n",
       "\n",
       "    .dataframe tbody tr th {\n",
       "        vertical-align: top;\n",
       "    }\n",
       "\n",
       "    .dataframe thead th {\n",
       "        text-align: right;\n",
       "    }\n",
       "</style>\n",
       "<table border=\"1\" class=\"dataframe\">\n",
       "  <thead>\n",
       "    <tr style=\"text-align: right;\">\n",
       "      <th></th>\n",
       "      <th>symbol</th>\n",
       "      <th>open</th>\n",
       "      <th>high</th>\n",
       "      <th>low</th>\n",
       "      <th>close</th>\n",
       "      <th>Volume BTC</th>\n",
       "      <th>Volume USD</th>\n",
       "    </tr>\n",
       "    <tr>\n",
       "      <th>date</th>\n",
       "      <th></th>\n",
       "      <th></th>\n",
       "      <th></th>\n",
       "      <th></th>\n",
       "      <th></th>\n",
       "      <th></th>\n",
       "      <th></th>\n",
       "    </tr>\n",
       "  </thead>\n",
       "  <tbody>\n",
       "    <tr>\n",
       "      <th>2014-11-28</th>\n",
       "      <td>BTC/USD</td>\n",
       "      <td>363.59</td>\n",
       "      <td>381.34</td>\n",
       "      <td>360.57</td>\n",
       "      <td>376.28</td>\n",
       "      <td>3.220878e+06</td>\n",
       "      <td>8.617150e+03</td>\n",
       "    </tr>\n",
       "    <tr>\n",
       "      <th>2014-11-29</th>\n",
       "      <td>BTC/USD</td>\n",
       "      <td>376.42</td>\n",
       "      <td>386.60</td>\n",
       "      <td>372.25</td>\n",
       "      <td>376.72</td>\n",
       "      <td>2.746157e+06</td>\n",
       "      <td>7.245190e+03</td>\n",
       "    </tr>\n",
       "    <tr>\n",
       "      <th>2014-11-30</th>\n",
       "      <td>BTC/USD</td>\n",
       "      <td>376.57</td>\n",
       "      <td>381.99</td>\n",
       "      <td>373.32</td>\n",
       "      <td>373.34</td>\n",
       "      <td>1.145567e+06</td>\n",
       "      <td>3.046330e+03</td>\n",
       "    </tr>\n",
       "    <tr>\n",
       "      <th>2014-12-01</th>\n",
       "      <td>BTC/USD</td>\n",
       "      <td>376.40</td>\n",
       "      <td>382.31</td>\n",
       "      <td>373.03</td>\n",
       "      <td>378.39</td>\n",
       "      <td>2.520662e+06</td>\n",
       "      <td>6.660560e+03</td>\n",
       "    </tr>\n",
       "    <tr>\n",
       "      <th>2014-12-02</th>\n",
       "      <td>BTC/USD</td>\n",
       "      <td>378.39</td>\n",
       "      <td>382.86</td>\n",
       "      <td>375.23</td>\n",
       "      <td>379.25</td>\n",
       "      <td>2.593576e+06</td>\n",
       "      <td>6.832530e+03</td>\n",
       "    </tr>\n",
       "    <tr>\n",
       "      <th>...</th>\n",
       "      <td>...</td>\n",
       "      <td>...</td>\n",
       "      <td>...</td>\n",
       "      <td>...</td>\n",
       "      <td>...</td>\n",
       "      <td>...</td>\n",
       "      <td>...</td>\n",
       "    </tr>\n",
       "    <tr>\n",
       "      <th>2022-02-25</th>\n",
       "      <td>BTC/USD</td>\n",
       "      <td>38360.93</td>\n",
       "      <td>39727.97</td>\n",
       "      <td>38027.61</td>\n",
       "      <td>39231.64</td>\n",
       "      <td>2.202852e+03</td>\n",
       "      <td>8.642149e+07</td>\n",
       "    </tr>\n",
       "    <tr>\n",
       "      <th>2022-02-26</th>\n",
       "      <td>BTC/USD</td>\n",
       "      <td>39242.64</td>\n",
       "      <td>40330.99</td>\n",
       "      <td>38600.00</td>\n",
       "      <td>39146.66</td>\n",
       "      <td>9.127241e+02</td>\n",
       "      <td>3.573010e+07</td>\n",
       "    </tr>\n",
       "    <tr>\n",
       "      <th>2022-02-27</th>\n",
       "      <td>BTC/USD</td>\n",
       "      <td>39146.66</td>\n",
       "      <td>39886.92</td>\n",
       "      <td>37015.74</td>\n",
       "      <td>37712.68</td>\n",
       "      <td>1.701817e+03</td>\n",
       "      <td>6.418008e+07</td>\n",
       "    </tr>\n",
       "    <tr>\n",
       "      <th>2022-02-28</th>\n",
       "      <td>BTC/USD</td>\n",
       "      <td>37717.10</td>\n",
       "      <td>44256.08</td>\n",
       "      <td>37468.99</td>\n",
       "      <td>43178.98</td>\n",
       "      <td>3.160618e+03</td>\n",
       "      <td>1.364723e+08</td>\n",
       "    </tr>\n",
       "    <tr>\n",
       "      <th>2022-03-01</th>\n",
       "      <td>BTC/USD</td>\n",
       "      <td>43221.71</td>\n",
       "      <td>43626.49</td>\n",
       "      <td>43185.48</td>\n",
       "      <td>43185.48</td>\n",
       "      <td>4.900629e+01</td>\n",
       "      <td>2.116360e+06</td>\n",
       "    </tr>\n",
       "  </tbody>\n",
       "</table>\n",
       "<p>2651 rows × 7 columns</p>\n",
       "</div>"
      ],
      "text/plain": [
       "             symbol      open      high       low     close    Volume BTC  \\\n",
       "date                                                                        \n",
       "2014-11-28  BTC/USD    363.59    381.34    360.57    376.28  3.220878e+06   \n",
       "2014-11-29  BTC/USD    376.42    386.60    372.25    376.72  2.746157e+06   \n",
       "2014-11-30  BTC/USD    376.57    381.99    373.32    373.34  1.145567e+06   \n",
       "2014-12-01  BTC/USD    376.40    382.31    373.03    378.39  2.520662e+06   \n",
       "2014-12-02  BTC/USD    378.39    382.86    375.23    379.25  2.593576e+06   \n",
       "...             ...       ...       ...       ...       ...           ...   \n",
       "2022-02-25  BTC/USD  38360.93  39727.97  38027.61  39231.64  2.202852e+03   \n",
       "2022-02-26  BTC/USD  39242.64  40330.99  38600.00  39146.66  9.127241e+02   \n",
       "2022-02-27  BTC/USD  39146.66  39886.92  37015.74  37712.68  1.701817e+03   \n",
       "2022-02-28  BTC/USD  37717.10  44256.08  37468.99  43178.98  3.160618e+03   \n",
       "2022-03-01  BTC/USD  43221.71  43626.49  43185.48  43185.48  4.900629e+01   \n",
       "\n",
       "              Volume USD  \n",
       "date                      \n",
       "2014-11-28  8.617150e+03  \n",
       "2014-11-29  7.245190e+03  \n",
       "2014-11-30  3.046330e+03  \n",
       "2014-12-01  6.660560e+03  \n",
       "2014-12-02  6.832530e+03  \n",
       "...                  ...  \n",
       "2022-02-25  8.642149e+07  \n",
       "2022-02-26  3.573010e+07  \n",
       "2022-02-27  6.418008e+07  \n",
       "2022-02-28  1.364723e+08  \n",
       "2022-03-01  2.116360e+06  \n",
       "\n",
       "[2651 rows x 7 columns]"
      ]
     },
     "execution_count": 4,
     "metadata": {},
     "output_type": "execute_result"
    }
   ],
   "source": [
    "df[\"date\"] = pd.to_datetime(df[\"date\"])\n",
    "df.set_index(keys=[\"date\"], inplace=True)\n",
    "df.sort_index(inplace=True)\n",
    "df"
   ]
  },
  {
   "cell_type": "code",
   "execution_count": 5,
   "metadata": {},
   "outputs": [
    {
     "data": {
      "text/plain": [
       "array(['BTC/USD'], dtype=object)"
      ]
     },
     "execution_count": 5,
     "metadata": {},
     "output_type": "execute_result"
    }
   ],
   "source": [
    "df.symbol.unique()"
   ]
  },
  {
   "cell_type": "code",
   "execution_count": 6,
   "metadata": {},
   "outputs": [
    {
     "data": {
      "text/html": [
       "<div>\n",
       "<style scoped>\n",
       "    .dataframe tbody tr th:only-of-type {\n",
       "        vertical-align: middle;\n",
       "    }\n",
       "\n",
       "    .dataframe tbody tr th {\n",
       "        vertical-align: top;\n",
       "    }\n",
       "\n",
       "    .dataframe thead th {\n",
       "        text-align: right;\n",
       "    }\n",
       "</style>\n",
       "<table border=\"1\" class=\"dataframe\">\n",
       "  <thead>\n",
       "    <tr style=\"text-align: right;\">\n",
       "      <th></th>\n",
       "      <th>open</th>\n",
       "      <th>high</th>\n",
       "      <th>low</th>\n",
       "      <th>close</th>\n",
       "      <th>Volume BTC</th>\n",
       "      <th>Volume USD</th>\n",
       "    </tr>\n",
       "    <tr>\n",
       "      <th>date</th>\n",
       "      <th></th>\n",
       "      <th></th>\n",
       "      <th></th>\n",
       "      <th></th>\n",
       "      <th></th>\n",
       "      <th></th>\n",
       "    </tr>\n",
       "  </thead>\n",
       "  <tbody>\n",
       "    <tr>\n",
       "      <th>2014-11-28</th>\n",
       "      <td>363.59</td>\n",
       "      <td>381.34</td>\n",
       "      <td>360.57</td>\n",
       "      <td>376.28</td>\n",
       "      <td>3.220878e+06</td>\n",
       "      <td>8.617150e+03</td>\n",
       "    </tr>\n",
       "    <tr>\n",
       "      <th>2014-11-29</th>\n",
       "      <td>376.42</td>\n",
       "      <td>386.60</td>\n",
       "      <td>372.25</td>\n",
       "      <td>376.72</td>\n",
       "      <td>2.746157e+06</td>\n",
       "      <td>7.245190e+03</td>\n",
       "    </tr>\n",
       "    <tr>\n",
       "      <th>2014-11-30</th>\n",
       "      <td>376.57</td>\n",
       "      <td>381.99</td>\n",
       "      <td>373.32</td>\n",
       "      <td>373.34</td>\n",
       "      <td>1.145567e+06</td>\n",
       "      <td>3.046330e+03</td>\n",
       "    </tr>\n",
       "    <tr>\n",
       "      <th>2014-12-01</th>\n",
       "      <td>376.40</td>\n",
       "      <td>382.31</td>\n",
       "      <td>373.03</td>\n",
       "      <td>378.39</td>\n",
       "      <td>2.520662e+06</td>\n",
       "      <td>6.660560e+03</td>\n",
       "    </tr>\n",
       "    <tr>\n",
       "      <th>2014-12-02</th>\n",
       "      <td>378.39</td>\n",
       "      <td>382.86</td>\n",
       "      <td>375.23</td>\n",
       "      <td>379.25</td>\n",
       "      <td>2.593576e+06</td>\n",
       "      <td>6.832530e+03</td>\n",
       "    </tr>\n",
       "    <tr>\n",
       "      <th>...</th>\n",
       "      <td>...</td>\n",
       "      <td>...</td>\n",
       "      <td>...</td>\n",
       "      <td>...</td>\n",
       "      <td>...</td>\n",
       "      <td>...</td>\n",
       "    </tr>\n",
       "    <tr>\n",
       "      <th>2022-02-25</th>\n",
       "      <td>38360.93</td>\n",
       "      <td>39727.97</td>\n",
       "      <td>38027.61</td>\n",
       "      <td>39231.64</td>\n",
       "      <td>2.202852e+03</td>\n",
       "      <td>8.642149e+07</td>\n",
       "    </tr>\n",
       "    <tr>\n",
       "      <th>2022-02-26</th>\n",
       "      <td>39242.64</td>\n",
       "      <td>40330.99</td>\n",
       "      <td>38600.00</td>\n",
       "      <td>39146.66</td>\n",
       "      <td>9.127241e+02</td>\n",
       "      <td>3.573010e+07</td>\n",
       "    </tr>\n",
       "    <tr>\n",
       "      <th>2022-02-27</th>\n",
       "      <td>39146.66</td>\n",
       "      <td>39886.92</td>\n",
       "      <td>37015.74</td>\n",
       "      <td>37712.68</td>\n",
       "      <td>1.701817e+03</td>\n",
       "      <td>6.418008e+07</td>\n",
       "    </tr>\n",
       "    <tr>\n",
       "      <th>2022-02-28</th>\n",
       "      <td>37717.10</td>\n",
       "      <td>44256.08</td>\n",
       "      <td>37468.99</td>\n",
       "      <td>43178.98</td>\n",
       "      <td>3.160618e+03</td>\n",
       "      <td>1.364723e+08</td>\n",
       "    </tr>\n",
       "    <tr>\n",
       "      <th>2022-03-01</th>\n",
       "      <td>43221.71</td>\n",
       "      <td>43626.49</td>\n",
       "      <td>43185.48</td>\n",
       "      <td>43185.48</td>\n",
       "      <td>4.900629e+01</td>\n",
       "      <td>2.116360e+06</td>\n",
       "    </tr>\n",
       "  </tbody>\n",
       "</table>\n",
       "<p>2651 rows × 6 columns</p>\n",
       "</div>"
      ],
      "text/plain": [
       "                open      high       low     close    Volume BTC    Volume USD\n",
       "date                                                                          \n",
       "2014-11-28    363.59    381.34    360.57    376.28  3.220878e+06  8.617150e+03\n",
       "2014-11-29    376.42    386.60    372.25    376.72  2.746157e+06  7.245190e+03\n",
       "2014-11-30    376.57    381.99    373.32    373.34  1.145567e+06  3.046330e+03\n",
       "2014-12-01    376.40    382.31    373.03    378.39  2.520662e+06  6.660560e+03\n",
       "2014-12-02    378.39    382.86    375.23    379.25  2.593576e+06  6.832530e+03\n",
       "...              ...       ...       ...       ...           ...           ...\n",
       "2022-02-25  38360.93  39727.97  38027.61  39231.64  2.202852e+03  8.642149e+07\n",
       "2022-02-26  39242.64  40330.99  38600.00  39146.66  9.127241e+02  3.573010e+07\n",
       "2022-02-27  39146.66  39886.92  37015.74  37712.68  1.701817e+03  6.418008e+07\n",
       "2022-02-28  37717.10  44256.08  37468.99  43178.98  3.160618e+03  1.364723e+08\n",
       "2022-03-01  43221.71  43626.49  43185.48  43185.48  4.900629e+01  2.116360e+06\n",
       "\n",
       "[2651 rows x 6 columns]"
      ]
     },
     "execution_count": 6,
     "metadata": {},
     "output_type": "execute_result"
    }
   ],
   "source": [
    "df.drop(columns=['symbol'], inplace=True)\n",
    "df"
   ]
  },
  {
   "cell_type": "markdown",
   "metadata": {
    "id": "5slwyyhCKRo9"
   },
   "source": [
    "Explore the dataset using visualizations of your choice."
   ]
  },
  {
   "cell_type": "code",
   "execution_count": 7,
   "metadata": {
    "id": "DFY6TKhGKOY4"
   },
   "outputs": [
    {
     "data": {
      "text/plain": [
       "<Axes: >"
      ]
     },
     "execution_count": 7,
     "metadata": {},
     "output_type": "execute_result"
    },
    {
     "data": {
      "image/png": "[encoded data removed]",
      "text/plain": [
       "<Figure size 640x480 with 2 Axes>"
      ]
     },
     "metadata": {},
     "output_type": "display_data"
    }
   ],
   "source": [
    "# Write your code here. Add as many boxes as you need.\n",
    "sns.heatmap(df.corr(), annot=True)"
   ]
  },
  {
   "cell_type": "markdown",
   "metadata": {
    "id": "hZceBEFuiGpI"
   },
   "source": [
    "# Feauture Extraction\n",
    "Select the relevant features for prediction and apply a lag of up to 7 days to each chosen feature\n",
    "\n",
    "Hint: Use `df['column_name'].shift(period)`. Check the documentation at https://pandas.pydata.org/docs/reference/api/pandas.DataFrame.shift.html."
   ]
  },
  {
   "cell_type": "code",
   "execution_count": 8,
   "metadata": {
    "id": "qHwGg9ieiFL1"
   },
   "outputs": [],
   "source": [
    "# Write your code here. Add as many boxes as you need.\n",
    "df = df[[\"close\"]].copy()"
   ]
  },
  {
   "cell_type": "code",
   "execution_count": 9,
   "metadata": {},
   "outputs": [],
   "source": [
    "lag = 7"
   ]
  },
  {
   "cell_type": "code",
   "execution_count": 10,
   "metadata": {},
   "outputs": [],
   "source": [
    "periods = range(lag, 0, -1)"
   ]
  },
  {
   "cell_type": "code",
   "execution_count": 11,
   "metadata": {},
   "outputs": [
    {
     "data": {
      "text/html": [
       "<div>\n",
       "<style scoped>\n",
       "    .dataframe tbody tr th:only-of-type {\n",
       "        vertical-align: middle;\n",
       "    }\n",
       "\n",
       "    .dataframe tbody tr th {\n",
       "        vertical-align: top;\n",
       "    }\n",
       "\n",
       "    .dataframe thead th {\n",
       "        text-align: right;\n",
       "    }\n",
       "</style>\n",
       "<table border=\"1\" class=\"dataframe\">\n",
       "  <thead>\n",
       "    <tr style=\"text-align: right;\">\n",
       "      <th></th>\n",
       "      <th>close_7</th>\n",
       "      <th>close_6</th>\n",
       "      <th>close_5</th>\n",
       "      <th>close_4</th>\n",
       "      <th>close_3</th>\n",
       "      <th>close_2</th>\n",
       "      <th>close_1</th>\n",
       "    </tr>\n",
       "    <tr>\n",
       "      <th>date</th>\n",
       "      <th></th>\n",
       "      <th></th>\n",
       "      <th></th>\n",
       "      <th></th>\n",
       "      <th></th>\n",
       "      <th></th>\n",
       "      <th></th>\n",
       "    </tr>\n",
       "  </thead>\n",
       "  <tbody>\n",
       "    <tr>\n",
       "      <th>2014-11-28</th>\n",
       "      <td>NaN</td>\n",
       "      <td>NaN</td>\n",
       "      <td>NaN</td>\n",
       "      <td>NaN</td>\n",
       "      <td>NaN</td>\n",
       "      <td>NaN</td>\n",
       "      <td>NaN</td>\n",
       "    </tr>\n",
       "    <tr>\n",
       "      <th>2014-11-29</th>\n",
       "      <td>NaN</td>\n",
       "      <td>NaN</td>\n",
       "      <td>NaN</td>\n",
       "      <td>NaN</td>\n",
       "      <td>NaN</td>\n",
       "      <td>NaN</td>\n",
       "      <td>376.28</td>\n",
       "    </tr>\n",
       "    <tr>\n",
       "      <th>2014-11-30</th>\n",
       "      <td>NaN</td>\n",
       "      <td>NaN</td>\n",
       "      <td>NaN</td>\n",
       "      <td>NaN</td>\n",
       "      <td>NaN</td>\n",
       "      <td>376.28</td>\n",
       "      <td>376.72</td>\n",
       "    </tr>\n",
       "    <tr>\n",
       "      <th>2014-12-01</th>\n",
       "      <td>NaN</td>\n",
       "      <td>NaN</td>\n",
       "      <td>NaN</td>\n",
       "      <td>NaN</td>\n",
       "      <td>376.28</td>\n",
       "      <td>376.72</td>\n",
       "      <td>373.34</td>\n",
       "    </tr>\n",
       "    <tr>\n",
       "      <th>2014-12-02</th>\n",
       "      <td>NaN</td>\n",
       "      <td>NaN</td>\n",
       "      <td>NaN</td>\n",
       "      <td>376.28</td>\n",
       "      <td>376.72</td>\n",
       "      <td>373.34</td>\n",
       "      <td>378.39</td>\n",
       "    </tr>\n",
       "    <tr>\n",
       "      <th>...</th>\n",
       "      <td>...</td>\n",
       "      <td>...</td>\n",
       "      <td>...</td>\n",
       "      <td>...</td>\n",
       "      <td>...</td>\n",
       "      <td>...</td>\n",
       "      <td>...</td>\n",
       "    </tr>\n",
       "    <tr>\n",
       "      <th>2022-02-25</th>\n",
       "      <td>39996.99</td>\n",
       "      <td>40109.02</td>\n",
       "      <td>38373.90</td>\n",
       "      <td>37076.60</td>\n",
       "      <td>38269.94</td>\n",
       "      <td>37274.18</td>\n",
       "      <td>38376.88</td>\n",
       "    </tr>\n",
       "    <tr>\n",
       "      <th>2022-02-26</th>\n",
       "      <td>40109.02</td>\n",
       "      <td>38373.90</td>\n",
       "      <td>37076.60</td>\n",
       "      <td>38269.94</td>\n",
       "      <td>37274.18</td>\n",
       "      <td>38376.88</td>\n",
       "      <td>39231.64</td>\n",
       "    </tr>\n",
       "    <tr>\n",
       "      <th>2022-02-27</th>\n",
       "      <td>38373.90</td>\n",
       "      <td>37076.60</td>\n",
       "      <td>38269.94</td>\n",
       "      <td>37274.18</td>\n",
       "      <td>38376.88</td>\n",
       "      <td>39231.64</td>\n",
       "      <td>39146.66</td>\n",
       "    </tr>\n",
       "    <tr>\n",
       "      <th>2022-02-28</th>\n",
       "      <td>37076.60</td>\n",
       "      <td>38269.94</td>\n",
       "      <td>37274.18</td>\n",
       "      <td>38376.88</td>\n",
       "      <td>39231.64</td>\n",
       "      <td>39146.66</td>\n",
       "      <td>37712.68</td>\n",
       "    </tr>\n",
       "    <tr>\n",
       "      <th>2022-03-01</th>\n",
       "      <td>38269.94</td>\n",
       "      <td>37274.18</td>\n",
       "      <td>38376.88</td>\n",
       "      <td>39231.64</td>\n",
       "      <td>39146.66</td>\n",
       "      <td>37712.68</td>\n",
       "      <td>43178.98</td>\n",
       "    </tr>\n",
       "  </tbody>\n",
       "</table>\n",
       "<p>2651 rows × 7 columns</p>\n",
       "</div>"
      ],
      "text/plain": [
       "             close_7   close_6   close_5   close_4   close_3   close_2  \\\n",
       "date                                                                     \n",
       "2014-11-28       NaN       NaN       NaN       NaN       NaN       NaN   \n",
       "2014-11-29       NaN       NaN       NaN       NaN       NaN       NaN   \n",
       "2014-11-30       NaN       NaN       NaN       NaN       NaN    376.28   \n",
       "2014-12-01       NaN       NaN       NaN       NaN    376.28    376.72   \n",
       "2014-12-02       NaN       NaN       NaN    376.28    376.72    373.34   \n",
       "...              ...       ...       ...       ...       ...       ...   \n",
       "2022-02-25  39996.99  40109.02  38373.90  37076.60  38269.94  37274.18   \n",
       "2022-02-26  40109.02  38373.90  37076.60  38269.94  37274.18  38376.88   \n",
       "2022-02-27  38373.90  37076.60  38269.94  37274.18  38376.88  39231.64   \n",
       "2022-02-28  37076.60  38269.94  37274.18  38376.88  39231.64  39146.66   \n",
       "2022-03-01  38269.94  37274.18  38376.88  39231.64  39146.66  37712.68   \n",
       "\n",
       "             close_1  \n",
       "date                  \n",
       "2014-11-28       NaN  \n",
       "2014-11-29    376.28  \n",
       "2014-11-30    376.72  \n",
       "2014-12-01    373.34  \n",
       "2014-12-02    378.39  \n",
       "...              ...  \n",
       "2022-02-25  38376.88  \n",
       "2022-02-26  39231.64  \n",
       "2022-02-27  39146.66  \n",
       "2022-02-28  37712.68  \n",
       "2022-03-01  43178.98  \n",
       "\n",
       "[2651 rows x 7 columns]"
      ]
     },
     "execution_count": 11,
     "metadata": {},
     "output_type": "execute_result"
    }
   ],
   "source": [
    "df.shift(periods=periods)"
   ]
  },
  {
   "cell_type": "code",
   "execution_count": 12,
   "metadata": {},
   "outputs": [],
   "source": [
    "df = pd.concat([df, df.shift(periods=periods)], axis=1)"
   ]
  },
  {
   "cell_type": "code",
   "execution_count": 13,
   "metadata": {},
   "outputs": [],
   "source": [
    "df.dropna(axis=0, inplace=True)"
   ]
  },
  {
   "cell_type": "code",
   "execution_count": 14,
   "metadata": {},
   "outputs": [
    {
     "data": {
      "text/html": [
       "<div>\n",
       "<style scoped>\n",
       "    .dataframe tbody tr th:only-of-type {\n",
       "        vertical-align: middle;\n",
       "    }\n",
       "\n",
       "    .dataframe tbody tr th {\n",
       "        vertical-align: top;\n",
       "    }\n",
       "\n",
       "    .dataframe thead th {\n",
       "        text-align: right;\n",
       "    }\n",
       "</style>\n",
       "<table border=\"1\" class=\"dataframe\">\n",
       "  <thead>\n",
       "    <tr style=\"text-align: right;\">\n",
       "      <th></th>\n",
       "      <th>close</th>\n",
       "      <th>close_7</th>\n",
       "      <th>close_6</th>\n",
       "      <th>close_5</th>\n",
       "      <th>close_4</th>\n",
       "      <th>close_3</th>\n",
       "      <th>close_2</th>\n",
       "      <th>close_1</th>\n",
       "    </tr>\n",
       "    <tr>\n",
       "      <th>date</th>\n",
       "      <th></th>\n",
       "      <th></th>\n",
       "      <th></th>\n",
       "      <th></th>\n",
       "      <th></th>\n",
       "      <th></th>\n",
       "      <th></th>\n",
       "      <th></th>\n",
       "    </tr>\n",
       "  </thead>\n",
       "  <tbody>\n",
       "    <tr>\n",
       "      <th>2014-12-05</th>\n",
       "      <td>374.95</td>\n",
       "      <td>376.28</td>\n",
       "      <td>376.72</td>\n",
       "      <td>373.34</td>\n",
       "      <td>378.39</td>\n",
       "      <td>379.25</td>\n",
       "      <td>376.67</td>\n",
       "      <td>365.20</td>\n",
       "    </tr>\n",
       "    <tr>\n",
       "      <th>2014-12-06</th>\n",
       "      <td>375.07</td>\n",
       "      <td>376.72</td>\n",
       "      <td>373.34</td>\n",
       "      <td>378.39</td>\n",
       "      <td>379.25</td>\n",
       "      <td>376.67</td>\n",
       "      <td>365.20</td>\n",
       "      <td>374.95</td>\n",
       "    </tr>\n",
       "    <tr>\n",
       "      <th>2014-12-07</th>\n",
       "      <td>376.87</td>\n",
       "      <td>373.34</td>\n",
       "      <td>378.39</td>\n",
       "      <td>379.25</td>\n",
       "      <td>376.67</td>\n",
       "      <td>365.20</td>\n",
       "      <td>374.95</td>\n",
       "      <td>375.07</td>\n",
       "    </tr>\n",
       "    <tr>\n",
       "      <th>2014-12-08</th>\n",
       "      <td>364.61</td>\n",
       "      <td>378.39</td>\n",
       "      <td>379.25</td>\n",
       "      <td>376.67</td>\n",
       "      <td>365.20</td>\n",
       "      <td>374.95</td>\n",
       "      <td>375.07</td>\n",
       "      <td>376.87</td>\n",
       "    </tr>\n",
       "    <tr>\n",
       "      <th>2014-12-09</th>\n",
       "      <td>350.49</td>\n",
       "      <td>379.25</td>\n",
       "      <td>376.67</td>\n",
       "      <td>365.20</td>\n",
       "      <td>374.95</td>\n",
       "      <td>375.07</td>\n",
       "      <td>376.87</td>\n",
       "      <td>364.61</td>\n",
       "    </tr>\n",
       "  </tbody>\n",
       "</table>\n",
       "</div>"
      ],
      "text/plain": [
       "             close  close_7  close_6  close_5  close_4  close_3  close_2  \\\n",
       "date                                                                       \n",
       "2014-12-05  374.95   376.28   376.72   373.34   378.39   379.25   376.67   \n",
       "2014-12-06  375.07   376.72   373.34   378.39   379.25   376.67   365.20   \n",
       "2014-12-07  376.87   373.34   378.39   379.25   376.67   365.20   374.95   \n",
       "2014-12-08  364.61   378.39   379.25   376.67   365.20   374.95   375.07   \n",
       "2014-12-09  350.49   379.25   376.67   365.20   374.95   375.07   376.87   \n",
       "\n",
       "            close_1  \n",
       "date                 \n",
       "2014-12-05   365.20  \n",
       "2014-12-06   374.95  \n",
       "2014-12-07   375.07  \n",
       "2014-12-08   376.87  \n",
       "2014-12-09   364.61  "
      ]
     },
     "execution_count": 14,
     "metadata": {},
     "output_type": "execute_result"
    }
   ],
   "source": [
    "df.head()"
   ]
  },
  {
   "cell_type": "markdown",
   "metadata": {
    "id": "tls69_PrbJKW"
   },
   "source": [
    "## Dataset Splitting\n",
    "Partition the dataset into training and testing sets with an 80:20 ratio.\n",
    "\n",
    "**WARNING: DO NOT SHUFFLE THE DATASET.**\n",
    "\n"
   ]
  },
  {
   "cell_type": "code",
   "execution_count": 15,
   "metadata": {
    "id": "PjGGGMxebeoB"
   },
   "outputs": [],
   "source": [
    "# Write your code here. Add as many boxes as you need.\n",
    "X, y = df.drop(columns=[\"close\"]), df[\"close\"]"
   ]
  },
  {
   "cell_type": "code",
   "execution_count": 18,
   "metadata": {},
   "outputs": [],
   "source": [
    "train_X, test_X, train_y, test_y = train_test_split(X, y, test_size=0.2, shuffle=False)"
   ]
  },
  {
   "cell_type": "code",
   "execution_count": 19,
   "metadata": {},
   "outputs": [],
   "source": [
    "scaler = MinMaxScaler()\n",
    "train_X = scaler.fit_transform(train_X)\n",
    "test_X = scaler.transform(test_X)"
   ]
  },
  {
   "cell_type": "code",
   "execution_count": 20,
   "metadata": {},
   "outputs": [],
   "source": [
    "scaler = MinMaxScaler()\n",
    "train_y = scaler.fit_transform(train_y.to_numpy().reshape(-1, 1))"
   ]
  },
  {
   "cell_type": "code",
   "execution_count": 21,
   "metadata": {},
   "outputs": [
    {
     "data": {
      "text/plain": [
       "(2115, 7, 1)"
      ]
     },
     "execution_count": 21,
     "metadata": {},
     "output_type": "execute_result"
    }
   ],
   "source": [
    "(train_X.shape[0], lag, (train_X.shape[1] // lag))"
   ]
  },
  {
   "cell_type": "code",
   "execution_count": 22,
   "metadata": {},
   "outputs": [],
   "source": [
    "train_X = train_X.reshape(train_X.shape[0], lag, (train_X.shape[1] // lag))\n",
    "test_X = test_X.reshape(test_X.shape[0], lag, (test_X.shape[1] // lag))"
   ]
  },
  {
   "cell_type": "markdown",
   "metadata": {
    "id": "VIkAR1Hibiwr"
   },
   "source": [
    "## Neural Networks"
   ]
  },
  {
   "cell_type": "markdown",
   "metadata": {
    "id": "qWn1pafKbnxH"
   },
   "source": [
    "Create an LSTM model and train it using the `train` function."
   ]
  },
  {
   "cell_type": "code",
   "execution_count": 31,
   "metadata": {
    "id": "IXFIrQthbnkb"
   },
   "outputs": [],
   "source": [
    "# Write your code here. Add as many boxes as you need.\n",
    "model = Sequential([\n",
    "    Input((train_X.shape[1], train_X.shape[2],)),\n",
    "    LSTM(64, activation=\"relu\", return_sequences=True),\n",
    "    LSTM(32, activation=\"relu\"),\n",
    "    Dense(1, activation=\"linear\")\n",
    "])"
   ]
  },
  {
   "cell_type": "code",
   "execution_count": 32,
   "metadata": {},
   "outputs": [
    {
     "data": {
      "text/html": [
       "<pre style=\"white-space:pre;overflow-x:auto;line-height:normal;font-family:Menlo,'DejaVu Sans Mono',consolas,'Courier New',monospace\"><span style=\"font-weight: bold\">Model: \"sequential_1\"</span>\n",
       "</pre>\n"
      ],
      "text/plain": [
       "\u001b[1mModel: \"sequential_1\"\u001b[0m\n"
      ]
     },
     "metadata": {},
     "output_type": "display_data"
    },
    {
     "data": {
      "text/html": [
       "<pre style=\"white-space:pre;overflow-x:auto;line-height:normal;font-family:Menlo,'DejaVu Sans Mono',consolas,'Courier New',monospace\">┏━━━━━━━━━━━━━━━━━━━━━━━━━━━━━━━━━━━━━━┳━━━━━━━━━━━━━━━━━━━━━━━━━━━━━┳━━━━━━━━━━━━━━━━━┓\n",
       "┃<span style=\"font-weight: bold\"> Layer (type)                         </span>┃<span style=\"font-weight: bold\"> Output Shape                </span>┃<span style=\"font-weight: bold\">         Param # </span>┃\n",
       "┡━━━━━━━━━━━━━━━━━━━━━━━━━━━━━━━━━━━━━━╇━━━━━━━━━━━━━━━━━━━━━━━━━━━━━╇━━━━━━━━━━━━━━━━━┩\n",
       "│ lstm_2 (<span style=\"color: #0087ff; text-decoration-color: #0087ff\">LSTM</span>)                        │ (<span style=\"color: #00d7ff; text-decoration-color: #00d7ff\">None</span>, <span style=\"color: #00af00; text-decoration-color: #00af00\">7</span>, <span style=\"color: #00af00; text-decoration-color: #00af00\">64</span>)               │          <span style=\"color: #00af00; text-decoration-color: #00af00\">16,896</span> │\n",
       "├──────────────────────────────────────┼─────────────────────────────┼─────────────────┤\n",
       "│ lstm_3 (<span style=\"color: #0087ff; text-decoration-color: #0087ff\">LSTM</span>)                        │ (<span style=\"color: #00d7ff; text-decoration-color: #00d7ff\">None</span>, <span style=\"color: #00af00; text-decoration-color: #00af00\">32</span>)                  │          <span style=\"color: #00af00; text-decoration-color: #00af00\">12,416</span> │\n",
       "├──────────────────────────────────────┼─────────────────────────────┼─────────────────┤\n",
       "│ dense_1 (<span style=\"color: #0087ff; text-decoration-color: #0087ff\">Dense</span>)                      │ (<span style=\"color: #00d7ff; text-decoration-color: #00d7ff\">None</span>, <span style=\"color: #00af00; text-decoration-color: #00af00\">1</span>)                   │              <span style=\"color: #00af00; text-decoration-color: #00af00\">33</span> │\n",
       "└──────────────────────────────────────┴─────────────────────────────┴─────────────────┘\n",
       "</pre>\n"
      ],
      "text/plain": [
       "┏━━━━━━━━━━━━━━━━━━━━━━━━━━━━━━━━━━━━━━┳━━━━━━━━━━━━━━━━━━━━━━━━━━━━━┳━━━━━━━━━━━━━━━━━┓\n",
       "┃\u001b[1m \u001b[0m\u001b[1mLayer (type)                        \u001b[0m\u001b[1m \u001b[0m┃\u001b[1m \u001b[0m\u001b[1mOutput Shape               \u001b[0m\u001b[1m \u001b[0m┃\u001b[1m \u001b[0m\u001b[1m        Param #\u001b[0m\u001b[1m \u001b[0m┃\n",
       "┡━━━━━━━━━━━━━━━━━━━━━━━━━━━━━━━━━━━━━━╇━━━━━━━━━━━━━━━━━━━━━━━━━━━━━╇━━━━━━━━━━━━━━━━━┩\n",
       "│ lstm_2 (\u001b[38;5;33mLSTM\u001b[0m)                        │ (\u001b[38;5;45mNone\u001b[0m, \u001b[38;5;34m7\u001b[0m, \u001b[38;5;34m64\u001b[0m)               │          \u001b[38;5;34m16,896\u001b[0m │\n",
       "├──────────────────────────────────────┼─────────────────────────────┼─────────────────┤\n",
       "│ lstm_3 (\u001b[38;5;33mLSTM\u001b[0m)                        │ (\u001b[38;5;45mNone\u001b[0m, \u001b[38;5;34m32\u001b[0m)                  │          \u001b[38;5;34m12,416\u001b[0m │\n",
       "├──────────────────────────────────────┼─────────────────────────────┼─────────────────┤\n",
       "│ dense_1 (\u001b[38;5;33mDense\u001b[0m)                      │ (\u001b[38;5;45mNone\u001b[0m, \u001b[38;5;34m1\u001b[0m)                   │              \u001b[38;5;34m33\u001b[0m │\n",
       "└──────────────────────────────────────┴─────────────────────────────┴─────────────────┘\n"
      ]
     },
     "metadata": {},
     "output_type": "display_data"
    },
    {
     "data": {
      "text/html": [
       "<pre style=\"white-space:pre;overflow-x:auto;line-height:normal;font-family:Menlo,'DejaVu Sans Mono',consolas,'Courier New',monospace\"><span style=\"font-weight: bold\"> Total params: </span><span style=\"color: #00af00; text-decoration-color: #00af00\">29,345</span> (114.63 KB)\n",
       "</pre>\n"
      ],
      "text/plain": [
       "\u001b[1m Total params: \u001b[0m\u001b[38;5;34m29,345\u001b[0m (114.63 KB)\n"
      ]
     },
     "metadata": {},
     "output_type": "display_data"
    },
    {
     "data": {
      "text/html": [
       "<pre style=\"white-space:pre;overflow-x:auto;line-height:normal;font-family:Menlo,'DejaVu Sans Mono',consolas,'Courier New',monospace\"><span style=\"font-weight: bold\"> Trainable params: </span><span style=\"color: #00af00; text-decoration-color: #00af00\">29,345</span> (114.63 KB)\n",
       "</pre>\n"
      ],
      "text/plain": [
       "\u001b[1m Trainable params: \u001b[0m\u001b[38;5;34m29,345\u001b[0m (114.63 KB)\n"
      ]
     },
     "metadata": {},
     "output_type": "display_data"
    },
    {
     "data": {
      "text/html": [
       "<pre style=\"white-space:pre;overflow-x:auto;line-height:normal;font-family:Menlo,'DejaVu Sans Mono',consolas,'Courier New',monospace\"><span style=\"font-weight: bold\"> Non-trainable params: </span><span style=\"color: #00af00; text-decoration-color: #00af00\">0</span> (0.00 B)\n",
       "</pre>\n"
      ],
      "text/plain": [
       "\u001b[1m Non-trainable params: \u001b[0m\u001b[38;5;34m0\u001b[0m (0.00 B)\n"
      ]
     },
     "metadata": {},
     "output_type": "display_data"
    }
   ],
   "source": [
    "model.summary()"
   ]
  },
  {
   "cell_type": "code",
   "execution_count": 33,
   "metadata": {},
   "outputs": [],
   "source": [
    "model.compile(\n",
    "    loss=\"mean_squared_error\",\n",
    "    optimizer=\"adam\",\n",
    "    metrics=[\"mean_squared_error\"],\n",
    ")"
   ]
  },
  {
   "cell_type": "markdown",
   "metadata": {
    "id": "gyXZwAVab8Cp"
   },
   "source": [
    "Use the trained model to make predictions for the test set."
   ]
  },
  {
   "cell_type": "code",
   "execution_count": 34,
   "metadata": {
    "id": "EvMfVum6b_9b"
   },
   "outputs": [
    {
     "name": "stdout",
     "output_type": "stream",
     "text": [
      "Epoch 1/16\n",
      "\u001b[1m106/106\u001b[0m \u001b[32m━━━━━━━━━━━━━━━━━━━━\u001b[0m\u001b[37m\u001b[0m \u001b[1m11s\u001b[0m 27ms/step - loss: 0.0036 - mean_squared_error: 0.0036 - val_loss: 0.0336 - val_mean_squared_error: 0.0336\n",
      "Epoch 2/16\n",
      "\u001b[1m106/106\u001b[0m \u001b[32m━━━━━━━━━━━━━━━━━━━━\u001b[0m\u001b[37m\u001b[0m \u001b[1m2s\u001b[0m 17ms/step - loss: 0.0176 - mean_squared_error: 0.0176 - val_loss: 0.0127 - val_mean_squared_error: 0.0127\n",
      "Epoch 3/16\n",
      "\u001b[1m106/106\u001b[0m \u001b[32m━━━━━━━━━━━━━━━━━━━━\u001b[0m\u001b[37m\u001b[0m \u001b[1m2s\u001b[0m 17ms/step - loss: 0.0104 - mean_squared_error: 0.0104 - val_loss: 0.0033 - val_mean_squared_error: 0.0033\n",
      "Epoch 4/16\n",
      "\u001b[1m106/106\u001b[0m \u001b[32m━━━━━━━━━━━━━━━━━━━━\u001b[0m\u001b[37m\u001b[0m \u001b[1m2s\u001b[0m 17ms/step - loss: 0.0034 - mean_squared_error: 0.0034 - val_loss: 0.0017 - val_mean_squared_error: 0.0017\n",
      "Epoch 5/16\n",
      "\u001b[1m106/106\u001b[0m \u001b[32m━━━━━━━━━━━━━━━━━━━━\u001b[0m\u001b[37m\u001b[0m \u001b[1m2s\u001b[0m 17ms/step - loss: 0.0049 - mean_squared_error: 0.0049 - val_loss: 0.0025 - val_mean_squared_error: 0.0025\n",
      "Epoch 6/16\n",
      "\u001b[1m106/106\u001b[0m \u001b[32m━━━━━━━━━━━━━━━━━━━━\u001b[0m\u001b[37m\u001b[0m \u001b[1m2s\u001b[0m 17ms/step - loss: 0.0019 - mean_squared_error: 0.0019 - val_loss: 0.0012 - val_mean_squared_error: 0.0012\n",
      "Epoch 7/16\n",
      "\u001b[1m106/106\u001b[0m \u001b[32m━━━━━━━━━━━━━━━━━━━━\u001b[0m\u001b[37m\u001b[0m \u001b[1m2s\u001b[0m 17ms/step - loss: 0.0013 - mean_squared_error: 0.0013 - val_loss: 0.0014 - val_mean_squared_error: 0.0014\n",
      "Epoch 8/16\n",
      "\u001b[1m106/106\u001b[0m \u001b[32m━━━━━━━━━━━━━━━━━━━━\u001b[0m\u001b[37m\u001b[0m \u001b[1m3s\u001b[0m 17ms/step - loss: 0.0012 - mean_squared_error: 0.0012 - val_loss: 0.0014 - val_mean_squared_error: 0.0014\n",
      "Epoch 9/16\n",
      "\u001b[1m106/106\u001b[0m \u001b[32m━━━━━━━━━━━━━━━━━━━━\u001b[0m\u001b[37m\u001b[0m \u001b[1m2s\u001b[0m 16ms/step - loss: 9.4856e-04 - mean_squared_error: 9.4856e-04 - val_loss: 0.0011 - val_mean_squared_error: 0.0011\n",
      "Epoch 10/16\n",
      "\u001b[1m106/106\u001b[0m \u001b[32m━━━━━━━━━━━━━━━━━━━━\u001b[0m\u001b[37m\u001b[0m \u001b[1m2s\u001b[0m 16ms/step - loss: 7.3698e-04 - mean_squared_error: 7.3698e-04 - val_loss: 0.0010 - val_mean_squared_error: 0.0010\n",
      "Epoch 11/16\n",
      "\u001b[1m106/106\u001b[0m \u001b[32m━━━━━━━━━━━━━━━━━━━━\u001b[0m\u001b[37m\u001b[0m \u001b[1m2s\u001b[0m 16ms/step - loss: 5.6158e-04 - mean_squared_error: 5.6158e-04 - val_loss: 0.0010 - val_mean_squared_error: 0.0010\n",
      "Epoch 12/16\n",
      "\u001b[1m106/106\u001b[0m \u001b[32m━━━━━━━━━━━━━━━━━━━━\u001b[0m\u001b[37m\u001b[0m \u001b[1m2s\u001b[0m 17ms/step - loss: 4.2382e-04 - mean_squared_error: 4.2382e-04 - val_loss: 0.0011 - val_mean_squared_error: 0.0011\n",
      "Epoch 13/16\n",
      "\u001b[1m106/106\u001b[0m \u001b[32m━━━━━━━━━━━━━━━━━━━━\u001b[0m\u001b[37m\u001b[0m \u001b[1m2s\u001b[0m 17ms/step - loss: 3.5756e-04 - mean_squared_error: 3.5756e-04 - val_loss: 0.0011 - val_mean_squared_error: 0.0011\n",
      "Epoch 14/16\n",
      "\u001b[1m106/106\u001b[0m \u001b[32m━━━━━━━━━━━━━━━━━━━━\u001b[0m\u001b[37m\u001b[0m \u001b[1m2s\u001b[0m 17ms/step - loss: 3.2552e-04 - mean_squared_error: 3.2552e-04 - val_loss: 0.0011 - val_mean_squared_error: 0.0011\n",
      "Epoch 15/16\n",
      "\u001b[1m106/106\u001b[0m \u001b[32m━━━━━━━━━━━━━━━━━━━━\u001b[0m\u001b[37m\u001b[0m \u001b[1m2s\u001b[0m 16ms/step - loss: 3.1364e-04 - mean_squared_error: 3.1364e-04 - val_loss: 0.0011 - val_mean_squared_error: 0.0011\n",
      "Epoch 16/16\n",
      "\u001b[1m106/106\u001b[0m \u001b[32m━━━━━━━━━━━━━━━━━━━━\u001b[0m\u001b[37m\u001b[0m \u001b[1m2s\u001b[0m 16ms/step - loss: 3.1667e-04 - mean_squared_error: 3.1667e-04 - val_loss: 0.0012 - val_mean_squared_error: 0.0012\n"
     ]
    }
   ],
   "source": [
    "# Write your code here. Add as many boxes as you need.\n",
    "history = model.fit(train_X, train_y, validation_split=0.2, epochs=16, batch_size=16, shuffle=False)"
   ]
  },
  {
   "cell_type": "code",
   "execution_count": 35,
   "metadata": {},
   "outputs": [
    {
     "data": {
      "text/plain": [
       "<Axes: >"
      ]
     },
     "execution_count": 35,
     "metadata": {},
     "output_type": "execute_result"
    },
    {
     "data": {
      "image/png": "[encoded data removed]",
      "text/plain": [
       "<Figure size 640x480 with 1 Axes>"
      ]
     },
     "metadata": {},
     "output_type": "display_data"
    }
   ],
   "source": [
    "sns.lineplot(history.history[\"loss\"], label=\"loss\")\n",
    "sns.lineplot(history.history[\"val_loss\"], label=\"val_loss\")"
   ]
  },
  {
   "cell_type": "code",
   "execution_count": 36,
   "metadata": {},
   "outputs": [
    {
     "name": "stdout",
     "output_type": "stream",
     "text": [
      "\u001b[1m17/17\u001b[0m \u001b[32m━━━━━━━━━━━━━━━━━━━━\u001b[0m\u001b[37m\u001b[0m \u001b[1m2s\u001b[0m 56ms/step\n"
     ]
    }
   ],
   "source": [
    "pred_y = model.predict(test_X)"
   ]
  },
  {
   "cell_type": "code",
   "execution_count": 37,
   "metadata": {},
   "outputs": [],
   "source": [
    "pred_y = scaler.inverse_transform(pred_y)"
   ]
  },
  {
   "cell_type": "markdown",
   "metadata": {
    "id": "3VxAvDPtcNCh"
   },
   "source": [
    "Assess the performance of the model by using different metrics provided by the `scikit-learn` library."
   ]
  },
  {
   "cell_type": "code",
   "execution_count": 38,
   "metadata": {
    "id": "V4axpktycQhp"
   },
   "outputs": [
    {
     "data": {
      "text/plain": [
       "0.9344584848145774"
      ]
     },
     "execution_count": 38,
     "metadata": {},
     "output_type": "execute_result"
    }
   ],
   "source": [
    "# Write your code here. Add as many boxes as you need.\n",
    "r2_score(test_y, pred_y)"
   ]
  },
  {
   "cell_type": "markdown",
   "metadata": {},
   "source": [
    "# Additional Bonus Task"
   ]
  },
  {
   "cell_type": "markdown",
   "metadata": {},
   "source": [
    "Group the data by month. You can use [pandas.Grouper](https://pandas.pydata.org/docs/reference/api/pandas.Grouper.html) function."
   ]
  },
  {
   "cell_type": "markdown",
   "metadata": {},
   "source": [
    "Create an LSTM model to predict the 'close' price on a montly frequency."
   ]
  },
  {
   "cell_type": "code",
   "execution_count": 40,
   "metadata": {},
   "outputs": [
    {
     "name": "stderr",
     "output_type": "stream",
     "text": [
      "C:\\Users\\spase\\AppData\\Local\\Temp\\ipykernel_7268\\2909579976.py:1: FutureWarning: 'm' is deprecated and will be removed in a future version, please use 'ME' instead.\n",
      "  df = df.groupby(pd.Grouper(freq=\"1m\")).mean()\n"
     ]
    },
    {
     "data": {
      "text/html": [
       "<div>\n",
       "<style scoped>\n",
       "    .dataframe tbody tr th:only-of-type {\n",
       "        vertical-align: middle;\n",
       "    }\n",
       "\n",
       "    .dataframe tbody tr th {\n",
       "        vertical-align: top;\n",
       "    }\n",
       "\n",
       "    .dataframe thead th {\n",
       "        text-align: right;\n",
       "    }\n",
       "</style>\n",
       "<table border=\"1\" class=\"dataframe\">\n",
       "  <thead>\n",
       "    <tr style=\"text-align: right;\">\n",
       "      <th></th>\n",
       "      <th>close</th>\n",
       "      <th>close_7</th>\n",
       "      <th>close_6</th>\n",
       "      <th>close_5</th>\n",
       "      <th>close_4</th>\n",
       "      <th>close_3</th>\n",
       "      <th>close_2</th>\n",
       "      <th>close_1</th>\n",
       "    </tr>\n",
       "    <tr>\n",
       "      <th>date</th>\n",
       "      <th></th>\n",
       "      <th></th>\n",
       "      <th></th>\n",
       "      <th></th>\n",
       "      <th></th>\n",
       "      <th></th>\n",
       "      <th></th>\n",
       "      <th></th>\n",
       "    </tr>\n",
       "  </thead>\n",
       "  <tbody>\n",
       "    <tr>\n",
       "      <th>2014-12-31</th>\n",
       "      <td>336.915185</td>\n",
       "      <td>351.622222</td>\n",
       "      <td>349.515185</td>\n",
       "      <td>347.817407</td>\n",
       "      <td>345.689630</td>\n",
       "      <td>343.402222</td>\n",
       "      <td>341.014444</td>\n",
       "      <td>338.617037</td>\n",
       "    </tr>\n",
       "    <tr>\n",
       "      <th>2015-01-31</th>\n",
       "      <td>247.703871</td>\n",
       "      <td>264.531290</td>\n",
       "      <td>262.392581</td>\n",
       "      <td>260.412581</td>\n",
       "      <td>258.706129</td>\n",
       "      <td>256.111613</td>\n",
       "      <td>253.530000</td>\n",
       "      <td>250.970645</td>\n",
       "    </tr>\n",
       "    <tr>\n",
       "      <th>2015-02-28</th>\n",
       "      <td>234.278214</td>\n",
       "      <td>234.673929</td>\n",
       "      <td>234.087857</td>\n",
       "      <td>232.995714</td>\n",
       "      <td>232.163571</td>\n",
       "      <td>232.227857</td>\n",
       "      <td>232.297500</td>\n",
       "      <td>233.028214</td>\n",
       "    </tr>\n",
       "    <tr>\n",
       "      <th>2015-03-31</th>\n",
       "      <td>268.596774</td>\n",
       "      <td>267.455806</td>\n",
       "      <td>267.810645</td>\n",
       "      <td>268.150645</td>\n",
       "      <td>268.421613</td>\n",
       "      <td>268.883226</td>\n",
       "      <td>269.060323</td>\n",
       "      <td>268.887097</td>\n",
       "    </tr>\n",
       "    <tr>\n",
       "      <th>2015-04-30</th>\n",
       "      <td>234.833333</td>\n",
       "      <td>239.573667</td>\n",
       "      <td>239.019667</td>\n",
       "      <td>238.247000</td>\n",
       "      <td>237.293667</td>\n",
       "      <td>236.417000</td>\n",
       "      <td>235.847667</td>\n",
       "      <td>235.107667</td>\n",
       "    </tr>\n",
       "    <tr>\n",
       "      <th>...</th>\n",
       "      <td>...</td>\n",
       "      <td>...</td>\n",
       "      <td>...</td>\n",
       "      <td>...</td>\n",
       "      <td>...</td>\n",
       "      <td>...</td>\n",
       "      <td>...</td>\n",
       "      <td>...</td>\n",
       "    </tr>\n",
       "    <tr>\n",
       "      <th>2021-11-30</th>\n",
       "      <td>60705.494000</td>\n",
       "      <td>61744.982000</td>\n",
       "      <td>61547.769667</td>\n",
       "      <td>61503.167000</td>\n",
       "      <td>61347.282000</td>\n",
       "      <td>61153.345333</td>\n",
       "      <td>60987.910667</td>\n",
       "      <td>60851.671333</td>\n",
       "    </tr>\n",
       "    <tr>\n",
       "      <th>2021-12-31</th>\n",
       "      <td>49328.349032</td>\n",
       "      <td>51184.920645</td>\n",
       "      <td>50967.409677</td>\n",
       "      <td>50702.928065</td>\n",
       "      <td>50603.855806</td>\n",
       "      <td>50370.586129</td>\n",
       "      <td>50020.418710</td>\n",
       "      <td>49675.437742</td>\n",
       "    </tr>\n",
       "    <tr>\n",
       "      <th>2022-01-31</th>\n",
       "      <td>41111.849677</td>\n",
       "      <td>43562.009032</td>\n",
       "      <td>43127.611935</td>\n",
       "      <td>42677.228387</td>\n",
       "      <td>42241.430000</td>\n",
       "      <td>41925.464194</td>\n",
       "      <td>41658.021935</td>\n",
       "      <td>41360.960968</td>\n",
       "    </tr>\n",
       "    <tr>\n",
       "      <th>2022-02-28</th>\n",
       "      <td>40763.182143</td>\n",
       "      <td>40413.088571</td>\n",
       "      <td>40459.303929</td>\n",
       "      <td>40475.191786</td>\n",
       "      <td>40516.924643</td>\n",
       "      <td>40569.898929</td>\n",
       "      <td>40603.970714</td>\n",
       "      <td>40595.787143</td>\n",
       "    </tr>\n",
       "    <tr>\n",
       "      <th>2022-03-31</th>\n",
       "      <td>43185.480000</td>\n",
       "      <td>38269.940000</td>\n",
       "      <td>37274.180000</td>\n",
       "      <td>38376.880000</td>\n",
       "      <td>39231.640000</td>\n",
       "      <td>39146.660000</td>\n",
       "      <td>37712.680000</td>\n",
       "      <td>43178.980000</td>\n",
       "    </tr>\n",
       "  </tbody>\n",
       "</table>\n",
       "<p>88 rows × 8 columns</p>\n",
       "</div>"
      ],
      "text/plain": [
       "                   close       close_7       close_6       close_5  \\\n",
       "date                                                                 \n",
       "2014-12-31    336.915185    351.622222    349.515185    347.817407   \n",
       "2015-01-31    247.703871    264.531290    262.392581    260.412581   \n",
       "2015-02-28    234.278214    234.673929    234.087857    232.995714   \n",
       "2015-03-31    268.596774    267.455806    267.810645    268.150645   \n",
       "2015-04-30    234.833333    239.573667    239.019667    238.247000   \n",
       "...                  ...           ...           ...           ...   \n",
       "2021-11-30  60705.494000  61744.982000  61547.769667  61503.167000   \n",
       "2021-12-31  49328.349032  51184.920645  50967.409677  50702.928065   \n",
       "2022-01-31  41111.849677  43562.009032  43127.611935  42677.228387   \n",
       "2022-02-28  40763.182143  40413.088571  40459.303929  40475.191786   \n",
       "2022-03-31  43185.480000  38269.940000  37274.180000  38376.880000   \n",
       "\n",
       "                 close_4       close_3       close_2       close_1  \n",
       "date                                                                \n",
       "2014-12-31    345.689630    343.402222    341.014444    338.617037  \n",
       "2015-01-31    258.706129    256.111613    253.530000    250.970645  \n",
       "2015-02-28    232.163571    232.227857    232.297500    233.028214  \n",
       "2015-03-31    268.421613    268.883226    269.060323    268.887097  \n",
       "2015-04-30    237.293667    236.417000    235.847667    235.107667  \n",
       "...                  ...           ...           ...           ...  \n",
       "2021-11-30  61347.282000  61153.345333  60987.910667  60851.671333  \n",
       "2021-12-31  50603.855806  50370.586129  50020.418710  49675.437742  \n",
       "2022-01-31  42241.430000  41925.464194  41658.021935  41360.960968  \n",
       "2022-02-28  40516.924643  40569.898929  40603.970714  40595.787143  \n",
       "2022-03-31  39231.640000  39146.660000  37712.680000  43178.980000  \n",
       "\n",
       "[88 rows x 8 columns]"
      ]
     },
     "execution_count": 40,
     "metadata": {},
     "output_type": "execute_result"
    }
   ],
   "source": [
    "df = df.groupby(pd.Grouper(freq=\"1m\")).mean()\n",
    "df"
   ]
  },
  {
   "cell_type": "code",
   "execution_count": 41,
   "metadata": {},
   "outputs": [],
   "source": [
    "X, y = df.drop(columns=[\"close\"]), df[\"close\"]"
   ]
  },
  {
   "cell_type": "code",
   "execution_count": 42,
   "metadata": {},
   "outputs": [],
   "source": [
    "train_X, test_X, train_y, test_y = train_test_split(X, y, test_size=0.2, shuffle=False)"
   ]
  },
  {
   "cell_type": "code",
   "execution_count": 43,
   "metadata": {},
   "outputs": [],
   "source": [
    "scaler = MinMaxScaler()\n",
    "train_X = scaler.fit_transform(train_X)\n",
    "test_X = scaler.transform(test_X)"
   ]
  },
  {
   "cell_type": "code",
   "execution_count": 44,
   "metadata": {},
   "outputs": [],
   "source": [
    "scaler = MinMaxScaler()\n",
    "train_y = scaler.fit_transform(train_y.to_numpy().reshape(-1, 1))"
   ]
  },
  {
   "cell_type": "code",
   "execution_count": 45,
   "metadata": {},
   "outputs": [],
   "source": [
    "train_X = train_X.reshape(train_X.shape[0], lag, (train_X.shape[1] // lag))\n",
    "test_X = test_X.reshape(test_X.shape[0], lag, (test_X.shape[1] // lag))"
   ]
  },
  {
   "cell_type": "code",
   "execution_count": 85,
   "metadata": {},
   "outputs": [],
   "source": [
    "model = Sequential([\n",
    "    Input((train_X.shape[1], train_X.shape[2],)),\n",
    "    LSTM(64, activation=\"relu\", return_sequences=True),\n",
    "    LSTM(32, activation=\"relu\", return_sequences=True),\n",
    "    LSTM(16, activation=\"relu\"),\n",
    "    Dense(1, activation=\"linear\")\n",
    "])"
   ]
  },
  {
   "cell_type": "code",
   "execution_count": 86,
   "metadata": {},
   "outputs": [],
   "source": [
    "model.compile(\n",
    "    loss=\"mean_squared_error\",\n",
    "    optimizer=\"adam\",\n",
    "    metrics=[\"mean_squared_error\"],\n",
    ")"
   ]
  },
  {
   "cell_type": "code",
   "execution_count": 87,
   "metadata": {},
   "outputs": [
    {
     "name": "stdout",
     "output_type": "stream",
     "text": [
      "Epoch 1/12\n",
      "\u001b[1m4/4\u001b[0m \u001b[32m━━━━━━━━━━━━━━━━━━━━\u001b[0m\u001b[37m\u001b[0m \u001b[1m13s\u001b[0m 589ms/step - loss: 0.0639 - mean_squared_error: 0.0639 - val_loss: 0.3542 - val_mean_squared_error: 0.3542\n",
      "Epoch 2/12\n",
      "\u001b[1m4/4\u001b[0m \u001b[32m━━━━━━━━━━━━━━━━━━━━\u001b[0m\u001b[37m\u001b[0m \u001b[1m0s\u001b[0m 78ms/step - loss: 0.0597 - mean_squared_error: 0.0597 - val_loss: 0.3334 - val_mean_squared_error: 0.3334\n",
      "Epoch 3/12\n",
      "\u001b[1m4/4\u001b[0m \u001b[32m━━━━━━━━━━━━━━━━━━━━\u001b[0m\u001b[37m\u001b[0m \u001b[1m0s\u001b[0m 82ms/step - loss: 0.0557 - mean_squared_error: 0.0557 - val_loss: 0.3113 - val_mean_squared_error: 0.3113\n",
      "Epoch 4/12\n",
      "\u001b[1m4/4\u001b[0m \u001b[32m━━━━━━━━━━━━━━━━━━━━\u001b[0m\u001b[37m\u001b[0m \u001b[1m0s\u001b[0m 81ms/step - loss: 0.0517 - mean_squared_error: 0.0517 - val_loss: 0.2876 - val_mean_squared_error: 0.2876\n",
      "Epoch 5/12\n",
      "\u001b[1m4/4\u001b[0m \u001b[32m━━━━━━━━━━━━━━━━━━━━\u001b[0m\u001b[37m\u001b[0m \u001b[1m0s\u001b[0m 80ms/step - loss: 0.0475 - mean_squared_error: 0.0475 - val_loss: 0.2612 - val_mean_squared_error: 0.2612\n",
      "Epoch 6/12\n",
      "\u001b[1m4/4\u001b[0m \u001b[32m━━━━━━━━━━━━━━━━━━━━\u001b[0m\u001b[37m\u001b[0m \u001b[1m0s\u001b[0m 80ms/step - loss: 0.0432 - mean_squared_error: 0.0432 - val_loss: 0.2317 - val_mean_squared_error: 0.2317\n",
      "Epoch 7/12\n",
      "\u001b[1m4/4\u001b[0m \u001b[32m━━━━━━━━━━━━━━━━━━━━\u001b[0m\u001b[37m\u001b[0m \u001b[1m0s\u001b[0m 80ms/step - loss: 0.0389 - mean_squared_error: 0.0389 - val_loss: 0.1987 - val_mean_squared_error: 0.1987\n",
      "Epoch 8/12\n",
      "\u001b[1m4/4\u001b[0m \u001b[32m━━━━━━━━━━━━━━━━━━━━\u001b[0m\u001b[37m\u001b[0m \u001b[1m0s\u001b[0m 80ms/step - loss: 0.0347 - mean_squared_error: 0.0347 - val_loss: 0.1618 - val_mean_squared_error: 0.1618\n",
      "Epoch 9/12\n",
      "\u001b[1m4/4\u001b[0m \u001b[32m━━━━━━━━━━━━━━━━━━━━\u001b[0m\u001b[37m\u001b[0m \u001b[1m0s\u001b[0m 84ms/step - loss: 0.0307 - mean_squared_error: 0.0307 - val_loss: 0.1212 - val_mean_squared_error: 0.1212\n",
      "Epoch 10/12\n",
      "\u001b[1m4/4\u001b[0m \u001b[32m━━━━━━━━━━━━━━━━━━━━\u001b[0m\u001b[37m\u001b[0m \u001b[1m0s\u001b[0m 81ms/step - loss: 0.0272 - mean_squared_error: 0.0272 - val_loss: 0.0788 - val_mean_squared_error: 0.0788\n",
      "Epoch 11/12\n",
      "\u001b[1m4/4\u001b[0m \u001b[32m━━━━━━━━━━━━━━━━━━━━\u001b[0m\u001b[37m\u001b[0m \u001b[1m0s\u001b[0m 78ms/step - loss: 0.0247 - mean_squared_error: 0.0247 - val_loss: 0.0391 - val_mean_squared_error: 0.0391\n",
      "Epoch 12/12\n",
      "\u001b[1m4/4\u001b[0m \u001b[32m━━━━━━━━━━━━━━━━━━━━\u001b[0m\u001b[37m\u001b[0m \u001b[1m0s\u001b[0m 79ms/step - loss: 0.0234 - mean_squared_error: 0.0234 - val_loss: 0.0106 - val_mean_squared_error: 0.0106\n"
     ]
    }
   ],
   "source": [
    "history = model.fit(train_X, train_y, validation_split=0.2, epochs=12, batch_size=16, shuffle=False)"
   ]
  },
  {
   "cell_type": "code",
   "execution_count": 88,
   "metadata": {},
   "outputs": [
    {
     "data": {
      "text/plain": [
       "<Axes: >"
      ]
     },
     "execution_count": 88,
     "metadata": {},
     "output_type": "execute_result"
    },
    {
     "data": {
      "image/png": "[encoded data removed]",
      "text/plain": [
       "<Figure size 640x480 with 1 Axes>"
      ]
     },
     "metadata": {},
     "output_type": "display_data"
    }
   ],
   "source": [
    "sns.lineplot(history.history[\"loss\"], label=\"loss\")\n",
    "sns.lineplot(history.history[\"val_loss\"], label=\"val_loss\")"
   ]
  },
  {
   "cell_type": "code",
   "execution_count": 89,
   "metadata": {},
   "outputs": [
    {
     "name": "stdout",
     "output_type": "stream",
     "text": [
      "\u001b[1m1/1\u001b[0m \u001b[32m━━━━━━━━━━━━━━━━━━━━\u001b[0m\u001b[37m\u001b[0m \u001b[1m1s\u001b[0m 1s/step\n"
     ]
    }
   ],
   "source": [
    "pred_y = model.predict(test_X)"
   ]
  },
  {
   "cell_type": "code",
   "execution_count": 90,
   "metadata": {},
   "outputs": [],
   "source": [
    "pred_y = scaler.inverse_transform(pred_y)"
   ]
  },
  {
   "cell_type": "code",
   "execution_count": 91,
   "metadata": {},
   "outputs": [
    {
     "data": {
      "text/plain": [
       "-122.84744932227731"
      ]
     },
     "execution_count": 91,
     "metadata": {},
     "output_type": "execute_result"
    }
   ],
   "source": [
    "r2_score(test_y, pred_y)"
   ]
  },
  {
   "cell_type": "code",
   "execution_count": null,
   "metadata": {},
   "outputs": [],
   "source": []
  }
 ],
 "metadata": {
  "colab": {
   "provenance": []
  },
  "kernelspec": {
   "display_name": "Python 3 (ipykernel)",
   "language": "python",
   "name": "python3"
  },
  "language_info": {
   "codemirror_mode": {
    "name": "ipython",
    "version": 3
   },
   "file_extension": ".py",
   "mimetype": "text/x-python",
   "name": "python",
   "nbconvert_exporter": "python",
   "pygments_lexer": "ipython3",
   "version": "3.12.4"
  }
 },
 "nbformat": 4,
 "nbformat_minor": 4
}
