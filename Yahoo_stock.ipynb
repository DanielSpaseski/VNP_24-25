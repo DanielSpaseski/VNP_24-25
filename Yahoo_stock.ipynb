{
 "cells": [
  {
   "cell_type": "code",
   "execution_count": 23,
   "id": "b508f452-c517-42fc-92e0-0312f75d559f",
   "metadata": {},
   "outputs": [],
   "source": [
    "import pandas as pd\n",
    "import seaborn as sns\n",
    "from sklearn.model_selection import train_test_split\n",
    "from sklearn.metrics import r2_score\n",
    "from sklearn.preprocessing import MinMaxScaler\n",
    "from keras.models import Sequential\n",
    "from keras.layers import Input, LSTM, Dense"
   ]
  },
  {
   "cell_type": "code",
   "execution_count": 7,
   "id": "23d8ea86-f58b-4952-91b2-1e1b7a711b19",
   "metadata": {},
   "outputs": [
    {
     "data": {
      "text/html": [
       "<div>\n",
       "<style scoped>\n",
       "    .dataframe tbody tr th:only-of-type {\n",
       "        vertical-align: middle;\n",
       "    }\n",
       "\n",
       "    .dataframe tbody tr th {\n",
       "        vertical-align: top;\n",
       "    }\n",
       "\n",
       "    .dataframe thead th {\n",
       "        text-align: right;\n",
       "    }\n",
       "</style>\n",
       "<table border=\"1\" class=\"dataframe\">\n",
       "  <thead>\n",
       "    <tr style=\"text-align: right;\">\n",
       "      <th></th>\n",
       "      <th>Date</th>\n",
       "      <th>High</th>\n",
       "      <th>Low</th>\n",
       "      <th>Open</th>\n",
       "      <th>Close</th>\n",
       "      <th>Volume</th>\n",
       "      <th>Adj Close</th>\n",
       "    </tr>\n",
       "  </thead>\n",
       "  <tbody>\n",
       "    <tr>\n",
       "      <th>0</th>\n",
       "      <td>2015-11-23</td>\n",
       "      <td>2095.610107</td>\n",
       "      <td>2081.389893</td>\n",
       "      <td>2089.409912</td>\n",
       "      <td>2086.590088</td>\n",
       "      <td>3.587980e+09</td>\n",
       "      <td>2086.590088</td>\n",
       "    </tr>\n",
       "    <tr>\n",
       "      <th>1</th>\n",
       "      <td>2015-11-24</td>\n",
       "      <td>2094.120117</td>\n",
       "      <td>2070.290039</td>\n",
       "      <td>2084.419922</td>\n",
       "      <td>2089.139893</td>\n",
       "      <td>3.884930e+09</td>\n",
       "      <td>2089.139893</td>\n",
       "    </tr>\n",
       "    <tr>\n",
       "      <th>2</th>\n",
       "      <td>2015-11-25</td>\n",
       "      <td>2093.000000</td>\n",
       "      <td>2086.300049</td>\n",
       "      <td>2089.300049</td>\n",
       "      <td>2088.870117</td>\n",
       "      <td>2.852940e+09</td>\n",
       "      <td>2088.870117</td>\n",
       "    </tr>\n",
       "    <tr>\n",
       "      <th>3</th>\n",
       "      <td>2015-11-26</td>\n",
       "      <td>2093.000000</td>\n",
       "      <td>2086.300049</td>\n",
       "      <td>2089.300049</td>\n",
       "      <td>2088.870117</td>\n",
       "      <td>2.852940e+09</td>\n",
       "      <td>2088.870117</td>\n",
       "    </tr>\n",
       "    <tr>\n",
       "      <th>4</th>\n",
       "      <td>2015-11-27</td>\n",
       "      <td>2093.290039</td>\n",
       "      <td>2084.129883</td>\n",
       "      <td>2088.820068</td>\n",
       "      <td>2090.110107</td>\n",
       "      <td>1.466840e+09</td>\n",
       "      <td>2090.110107</td>\n",
       "    </tr>\n",
       "    <tr>\n",
       "      <th>...</th>\n",
       "      <td>...</td>\n",
       "      <td>...</td>\n",
       "      <td>...</td>\n",
       "      <td>...</td>\n",
       "      <td>...</td>\n",
       "      <td>...</td>\n",
       "      <td>...</td>\n",
       "    </tr>\n",
       "    <tr>\n",
       "      <th>1820</th>\n",
       "      <td>2020-11-16</td>\n",
       "      <td>3628.510010</td>\n",
       "      <td>3600.159912</td>\n",
       "      <td>3600.159912</td>\n",
       "      <td>3626.909912</td>\n",
       "      <td>5.281980e+09</td>\n",
       "      <td>3626.909912</td>\n",
       "    </tr>\n",
       "    <tr>\n",
       "      <th>1821</th>\n",
       "      <td>2020-11-17</td>\n",
       "      <td>3623.110107</td>\n",
       "      <td>3588.679932</td>\n",
       "      <td>3610.310059</td>\n",
       "      <td>3609.530029</td>\n",
       "      <td>4.799570e+09</td>\n",
       "      <td>3609.530029</td>\n",
       "    </tr>\n",
       "    <tr>\n",
       "      <th>1822</th>\n",
       "      <td>2020-11-18</td>\n",
       "      <td>3619.090088</td>\n",
       "      <td>3567.330078</td>\n",
       "      <td>3612.090088</td>\n",
       "      <td>3567.790039</td>\n",
       "      <td>5.274450e+09</td>\n",
       "      <td>3567.790039</td>\n",
       "    </tr>\n",
       "    <tr>\n",
       "      <th>1823</th>\n",
       "      <td>2020-11-19</td>\n",
       "      <td>3585.219971</td>\n",
       "      <td>3543.840088</td>\n",
       "      <td>3559.409912</td>\n",
       "      <td>3581.870117</td>\n",
       "      <td>4.347200e+09</td>\n",
       "      <td>3581.870117</td>\n",
       "    </tr>\n",
       "    <tr>\n",
       "      <th>1824</th>\n",
       "      <td>2020-11-20</td>\n",
       "      <td>3581.229980</td>\n",
       "      <td>3556.850098</td>\n",
       "      <td>3579.310059</td>\n",
       "      <td>3557.540039</td>\n",
       "      <td>2.236662e+09</td>\n",
       "      <td>3557.540039</td>\n",
       "    </tr>\n",
       "  </tbody>\n",
       "</table>\n",
       "<p>1825 rows × 7 columns</p>\n",
       "</div>"
      ],
      "text/plain": [
       "            Date         High          Low         Open        Close  \\\n",
       "0     2015-11-23  2095.610107  2081.389893  2089.409912  2086.590088   \n",
       "1     2015-11-24  2094.120117  2070.290039  2084.419922  2089.139893   \n",
       "2     2015-11-25  2093.000000  2086.300049  2089.300049  2088.870117   \n",
       "3     2015-11-26  2093.000000  2086.300049  2089.300049  2088.870117   \n",
       "4     2015-11-27  2093.290039  2084.129883  2088.820068  2090.110107   \n",
       "...          ...          ...          ...          ...          ...   \n",
       "1820  2020-11-16  3628.510010  3600.159912  3600.159912  3626.909912   \n",
       "1821  2020-11-17  3623.110107  3588.679932  3610.310059  3609.530029   \n",
       "1822  2020-11-18  3619.090088  3567.330078  3612.090088  3567.790039   \n",
       "1823  2020-11-19  3585.219971  3543.840088  3559.409912  3581.870117   \n",
       "1824  2020-11-20  3581.229980  3556.850098  3579.310059  3557.540039   \n",
       "\n",
       "            Volume    Adj Close  \n",
       "0     3.587980e+09  2086.590088  \n",
       "1     3.884930e+09  2089.139893  \n",
       "2     2.852940e+09  2088.870117  \n",
       "3     2.852940e+09  2088.870117  \n",
       "4     1.466840e+09  2090.110107  \n",
       "...            ...          ...  \n",
       "1820  5.281980e+09  3626.909912  \n",
       "1821  4.799570e+09  3609.530029  \n",
       "1822  5.274450e+09  3567.790039  \n",
       "1823  4.347200e+09  3581.870117  \n",
       "1824  2.236662e+09  3557.540039  \n",
       "\n",
       "[1825 rows x 7 columns]"
      ]
     },
     "execution_count": 7,
     "metadata": {},
     "output_type": "execute_result"
    }
   ],
   "source": [
    "df = pd.read_csv(\"archive/yahoo_stock.csv\")\n",
    "df"
   ]
  },
  {
   "cell_type": "code",
   "execution_count": 8,
   "id": "5451e484-631f-4424-91e5-709613a81e05",
   "metadata": {},
   "outputs": [],
   "source": [
    "df[\"Date\"] = pd.to_datetime(df[\"Date\"])\n",
    "df.set_index(keys=[\"Date\"], inplace=True)\n",
    "df.sort_index(inplace=True)"
   ]
  },
  {
   "cell_type": "code",
   "execution_count": 9,
   "id": "02abe0f7-3e8f-4708-908d-2c2b81ebad43",
   "metadata": {},
   "outputs": [
    {
     "data": {
      "text/html": [
       "<div>\n",
       "<style scoped>\n",
       "    .dataframe tbody tr th:only-of-type {\n",
       "        vertical-align: middle;\n",
       "    }\n",
       "\n",
       "    .dataframe tbody tr th {\n",
       "        vertical-align: top;\n",
       "    }\n",
       "\n",
       "    .dataframe thead th {\n",
       "        text-align: right;\n",
       "    }\n",
       "</style>\n",
       "<table border=\"1\" class=\"dataframe\">\n",
       "  <thead>\n",
       "    <tr style=\"text-align: right;\">\n",
       "      <th></th>\n",
       "      <th>High</th>\n",
       "      <th>Low</th>\n",
       "      <th>Open</th>\n",
       "      <th>Close</th>\n",
       "      <th>Volume</th>\n",
       "      <th>Adj Close</th>\n",
       "    </tr>\n",
       "    <tr>\n",
       "      <th>Date</th>\n",
       "      <th></th>\n",
       "      <th></th>\n",
       "      <th></th>\n",
       "      <th></th>\n",
       "      <th></th>\n",
       "      <th></th>\n",
       "    </tr>\n",
       "  </thead>\n",
       "  <tbody>\n",
       "    <tr>\n",
       "      <th>2015-11-23</th>\n",
       "      <td>2095.610107</td>\n",
       "      <td>2081.389893</td>\n",
       "      <td>2089.409912</td>\n",
       "      <td>2086.590088</td>\n",
       "      <td>3.587980e+09</td>\n",
       "      <td>2086.590088</td>\n",
       "    </tr>\n",
       "    <tr>\n",
       "      <th>2015-11-24</th>\n",
       "      <td>2094.120117</td>\n",
       "      <td>2070.290039</td>\n",
       "      <td>2084.419922</td>\n",
       "      <td>2089.139893</td>\n",
       "      <td>3.884930e+09</td>\n",
       "      <td>2089.139893</td>\n",
       "    </tr>\n",
       "    <tr>\n",
       "      <th>2015-11-25</th>\n",
       "      <td>2093.000000</td>\n",
       "      <td>2086.300049</td>\n",
       "      <td>2089.300049</td>\n",
       "      <td>2088.870117</td>\n",
       "      <td>2.852940e+09</td>\n",
       "      <td>2088.870117</td>\n",
       "    </tr>\n",
       "    <tr>\n",
       "      <th>2015-11-26</th>\n",
       "      <td>2093.000000</td>\n",
       "      <td>2086.300049</td>\n",
       "      <td>2089.300049</td>\n",
       "      <td>2088.870117</td>\n",
       "      <td>2.852940e+09</td>\n",
       "      <td>2088.870117</td>\n",
       "    </tr>\n",
       "    <tr>\n",
       "      <th>2015-11-27</th>\n",
       "      <td>2093.290039</td>\n",
       "      <td>2084.129883</td>\n",
       "      <td>2088.820068</td>\n",
       "      <td>2090.110107</td>\n",
       "      <td>1.466840e+09</td>\n",
       "      <td>2090.110107</td>\n",
       "    </tr>\n",
       "    <tr>\n",
       "      <th>...</th>\n",
       "      <td>...</td>\n",
       "      <td>...</td>\n",
       "      <td>...</td>\n",
       "      <td>...</td>\n",
       "      <td>...</td>\n",
       "      <td>...</td>\n",
       "    </tr>\n",
       "    <tr>\n",
       "      <th>2020-11-16</th>\n",
       "      <td>3628.510010</td>\n",
       "      <td>3600.159912</td>\n",
       "      <td>3600.159912</td>\n",
       "      <td>3626.909912</td>\n",
       "      <td>5.281980e+09</td>\n",
       "      <td>3626.909912</td>\n",
       "    </tr>\n",
       "    <tr>\n",
       "      <th>2020-11-17</th>\n",
       "      <td>3623.110107</td>\n",
       "      <td>3588.679932</td>\n",
       "      <td>3610.310059</td>\n",
       "      <td>3609.530029</td>\n",
       "      <td>4.799570e+09</td>\n",
       "      <td>3609.530029</td>\n",
       "    </tr>\n",
       "    <tr>\n",
       "      <th>2020-11-18</th>\n",
       "      <td>3619.090088</td>\n",
       "      <td>3567.330078</td>\n",
       "      <td>3612.090088</td>\n",
       "      <td>3567.790039</td>\n",
       "      <td>5.274450e+09</td>\n",
       "      <td>3567.790039</td>\n",
       "    </tr>\n",
       "    <tr>\n",
       "      <th>2020-11-19</th>\n",
       "      <td>3585.219971</td>\n",
       "      <td>3543.840088</td>\n",
       "      <td>3559.409912</td>\n",
       "      <td>3581.870117</td>\n",
       "      <td>4.347200e+09</td>\n",
       "      <td>3581.870117</td>\n",
       "    </tr>\n",
       "    <tr>\n",
       "      <th>2020-11-20</th>\n",
       "      <td>3581.229980</td>\n",
       "      <td>3556.850098</td>\n",
       "      <td>3579.310059</td>\n",
       "      <td>3557.540039</td>\n",
       "      <td>2.236662e+09</td>\n",
       "      <td>3557.540039</td>\n",
       "    </tr>\n",
       "  </tbody>\n",
       "</table>\n",
       "<p>1825 rows × 6 columns</p>\n",
       "</div>"
      ],
      "text/plain": [
       "                   High          Low         Open        Close        Volume  \\\n",
       "Date                                                                           \n",
       "2015-11-23  2095.610107  2081.389893  2089.409912  2086.590088  3.587980e+09   \n",
       "2015-11-24  2094.120117  2070.290039  2084.419922  2089.139893  3.884930e+09   \n",
       "2015-11-25  2093.000000  2086.300049  2089.300049  2088.870117  2.852940e+09   \n",
       "2015-11-26  2093.000000  2086.300049  2089.300049  2088.870117  2.852940e+09   \n",
       "2015-11-27  2093.290039  2084.129883  2088.820068  2090.110107  1.466840e+09   \n",
       "...                 ...          ...          ...          ...           ...   \n",
       "2020-11-16  3628.510010  3600.159912  3600.159912  3626.909912  5.281980e+09   \n",
       "2020-11-17  3623.110107  3588.679932  3610.310059  3609.530029  4.799570e+09   \n",
       "2020-11-18  3619.090088  3567.330078  3612.090088  3567.790039  5.274450e+09   \n",
       "2020-11-19  3585.219971  3543.840088  3559.409912  3581.870117  4.347200e+09   \n",
       "2020-11-20  3581.229980  3556.850098  3579.310059  3557.540039  2.236662e+09   \n",
       "\n",
       "              Adj Close  \n",
       "Date                     \n",
       "2015-11-23  2086.590088  \n",
       "2015-11-24  2089.139893  \n",
       "2015-11-25  2088.870117  \n",
       "2015-11-26  2088.870117  \n",
       "2015-11-27  2090.110107  \n",
       "...                 ...  \n",
       "2020-11-16  3626.909912  \n",
       "2020-11-17  3609.530029  \n",
       "2020-11-18  3567.790039  \n",
       "2020-11-19  3581.870117  \n",
       "2020-11-20  3557.540039  \n",
       "\n",
       "[1825 rows x 6 columns]"
      ]
     },
     "execution_count": 9,
     "metadata": {},
     "output_type": "execute_result"
    }
   ],
   "source": [
    "df"
   ]
  },
  {
   "cell_type": "code",
   "execution_count": 10,
   "id": "04990c69-53dc-4fff-b26e-69cef3f694f0",
   "metadata": {},
   "outputs": [
    {
     "data": {
      "text/plain": [
       "High         0\n",
       "Low          0\n",
       "Open         0\n",
       "Close        0\n",
       "Volume       0\n",
       "Adj Close    0\n",
       "dtype: int64"
      ]
     },
     "execution_count": 10,
     "metadata": {},
     "output_type": "execute_result"
    }
   ],
   "source": [
    "df.isnull().sum()"
   ]
  },
  {
   "cell_type": "code",
   "execution_count": 12,
   "id": "ad6a718e-3d01-4262-865b-541864f0d564",
   "metadata": {},
   "outputs": [
    {
     "data": {
      "text/plain": [
       "<Axes: >"
      ]
     },
     "execution_count": 12,
     "metadata": {},
     "output_type": "execute_result"
    },
    {
     "data": {
      "image/png": "[encoded data removed]",
      "text/plain": [
       "<Figure size 640x480 with 2 Axes>"
      ]
     },
     "metadata": {},
     "output_type": "display_data"
    }
   ],
   "source": [
    "sns.heatmap(df.corr(), annot=True, fmt='.2f')"
   ]
  },
  {
   "cell_type": "code",
   "execution_count": 13,
   "id": "a91b0608-82d8-4f65-9fc5-aa4ecb5d1ea8",
   "metadata": {},
   "outputs": [],
   "source": [
    "df = df[[\"Close\"]].copy()"
   ]
  },
  {
   "cell_type": "code",
   "execution_count": 15,
   "id": "5ac94344-5a27-426b-882e-ff959e2efe72",
   "metadata": {},
   "outputs": [],
   "source": [
    "lag = 5\n",
    "periods = range(lag, 0, -1)"
   ]
  },
  {
   "cell_type": "code",
   "execution_count": 16,
   "id": "ccb14d44-78a3-44b8-9b9c-732ee3ef0fa1",
   "metadata": {},
   "outputs": [
    {
     "data": {
      "text/html": [
       "<div>\n",
       "<style scoped>\n",
       "    .dataframe tbody tr th:only-of-type {\n",
       "        vertical-align: middle;\n",
       "    }\n",
       "\n",
       "    .dataframe tbody tr th {\n",
       "        vertical-align: top;\n",
       "    }\n",
       "\n",
       "    .dataframe thead th {\n",
       "        text-align: right;\n",
       "    }\n",
       "</style>\n",
       "<table border=\"1\" class=\"dataframe\">\n",
       "  <thead>\n",
       "    <tr style=\"text-align: right;\">\n",
       "      <th></th>\n",
       "      <th>Close_5</th>\n",
       "      <th>Close_4</th>\n",
       "      <th>Close_3</th>\n",
       "      <th>Close_2</th>\n",
       "      <th>Close_1</th>\n",
       "    </tr>\n",
       "    <tr>\n",
       "      <th>Date</th>\n",
       "      <th></th>\n",
       "      <th></th>\n",
       "      <th></th>\n",
       "      <th></th>\n",
       "      <th></th>\n",
       "    </tr>\n",
       "  </thead>\n",
       "  <tbody>\n",
       "    <tr>\n",
       "      <th>2015-11-23</th>\n",
       "      <td>NaN</td>\n",
       "      <td>NaN</td>\n",
       "      <td>NaN</td>\n",
       "      <td>NaN</td>\n",
       "      <td>NaN</td>\n",
       "    </tr>\n",
       "    <tr>\n",
       "      <th>2015-11-24</th>\n",
       "      <td>NaN</td>\n",
       "      <td>NaN</td>\n",
       "      <td>NaN</td>\n",
       "      <td>NaN</td>\n",
       "      <td>2086.590088</td>\n",
       "    </tr>\n",
       "    <tr>\n",
       "      <th>2015-11-25</th>\n",
       "      <td>NaN</td>\n",
       "      <td>NaN</td>\n",
       "      <td>NaN</td>\n",
       "      <td>2086.590088</td>\n",
       "      <td>2089.139893</td>\n",
       "    </tr>\n",
       "    <tr>\n",
       "      <th>2015-11-26</th>\n",
       "      <td>NaN</td>\n",
       "      <td>NaN</td>\n",
       "      <td>2086.590088</td>\n",
       "      <td>2089.139893</td>\n",
       "      <td>2088.870117</td>\n",
       "    </tr>\n",
       "    <tr>\n",
       "      <th>2015-11-27</th>\n",
       "      <td>NaN</td>\n",
       "      <td>2086.590088</td>\n",
       "      <td>2089.139893</td>\n",
       "      <td>2088.870117</td>\n",
       "      <td>2088.870117</td>\n",
       "    </tr>\n",
       "    <tr>\n",
       "      <th>...</th>\n",
       "      <td>...</td>\n",
       "      <td>...</td>\n",
       "      <td>...</td>\n",
       "      <td>...</td>\n",
       "      <td>...</td>\n",
       "    </tr>\n",
       "    <tr>\n",
       "      <th>2020-11-16</th>\n",
       "      <td>3572.659912</td>\n",
       "      <td>3537.010010</td>\n",
       "      <td>3585.149902</td>\n",
       "      <td>3585.149902</td>\n",
       "      <td>3585.149902</td>\n",
       "    </tr>\n",
       "    <tr>\n",
       "      <th>2020-11-17</th>\n",
       "      <td>3537.010010</td>\n",
       "      <td>3585.149902</td>\n",
       "      <td>3585.149902</td>\n",
       "      <td>3585.149902</td>\n",
       "      <td>3626.909912</td>\n",
       "    </tr>\n",
       "    <tr>\n",
       "      <th>2020-11-18</th>\n",
       "      <td>3585.149902</td>\n",
       "      <td>3585.149902</td>\n",
       "      <td>3585.149902</td>\n",
       "      <td>3626.909912</td>\n",
       "      <td>3609.530029</td>\n",
       "    </tr>\n",
       "    <tr>\n",
       "      <th>2020-11-19</th>\n",
       "      <td>3585.149902</td>\n",
       "      <td>3585.149902</td>\n",
       "      <td>3626.909912</td>\n",
       "      <td>3609.530029</td>\n",
       "      <td>3567.790039</td>\n",
       "    </tr>\n",
       "    <tr>\n",
       "      <th>2020-11-20</th>\n",
       "      <td>3585.149902</td>\n",
       "      <td>3626.909912</td>\n",
       "      <td>3609.530029</td>\n",
       "      <td>3567.790039</td>\n",
       "      <td>3581.870117</td>\n",
       "    </tr>\n",
       "  </tbody>\n",
       "</table>\n",
       "<p>1825 rows × 5 columns</p>\n",
       "</div>"
      ],
      "text/plain": [
       "                Close_5      Close_4      Close_3      Close_2      Close_1\n",
       "Date                                                                       \n",
       "2015-11-23          NaN          NaN          NaN          NaN          NaN\n",
       "2015-11-24          NaN          NaN          NaN          NaN  2086.590088\n",
       "2015-11-25          NaN          NaN          NaN  2086.590088  2089.139893\n",
       "2015-11-26          NaN          NaN  2086.590088  2089.139893  2088.870117\n",
       "2015-11-27          NaN  2086.590088  2089.139893  2088.870117  2088.870117\n",
       "...                 ...          ...          ...          ...          ...\n",
       "2020-11-16  3572.659912  3537.010010  3585.149902  3585.149902  3585.149902\n",
       "2020-11-17  3537.010010  3585.149902  3585.149902  3585.149902  3626.909912\n",
       "2020-11-18  3585.149902  3585.149902  3585.149902  3626.909912  3609.530029\n",
       "2020-11-19  3585.149902  3585.149902  3626.909912  3609.530029  3567.790039\n",
       "2020-11-20  3585.149902  3626.909912  3609.530029  3567.790039  3581.870117\n",
       "\n",
       "[1825 rows x 5 columns]"
      ]
     },
     "execution_count": 16,
     "metadata": {},
     "output_type": "execute_result"
    }
   ],
   "source": [
    "df.shift(periods=periods)"
   ]
  },
  {
   "cell_type": "code",
   "execution_count": 17,
   "id": "7f4ea462-0067-4c75-86c0-4ab3543a417f",
   "metadata": {},
   "outputs": [],
   "source": [
    "df = pd.concat([df, df.shift(periods=periods)], axis=1)"
   ]
  },
  {
   "cell_type": "code",
   "execution_count": 18,
   "id": "4894453e-561b-4856-b23c-6b700ba892f7",
   "metadata": {},
   "outputs": [
    {
     "data": {
      "text/html": [
       "<div>\n",
       "<style scoped>\n",
       "    .dataframe tbody tr th:only-of-type {\n",
       "        vertical-align: middle;\n",
       "    }\n",
       "\n",
       "    .dataframe tbody tr th {\n",
       "        vertical-align: top;\n",
       "    }\n",
       "\n",
       "    .dataframe thead th {\n",
       "        text-align: right;\n",
       "    }\n",
       "</style>\n",
       "<table border=\"1\" class=\"dataframe\">\n",
       "  <thead>\n",
       "    <tr style=\"text-align: right;\">\n",
       "      <th></th>\n",
       "      <th>Close</th>\n",
       "      <th>Close_5</th>\n",
       "      <th>Close_4</th>\n",
       "      <th>Close_3</th>\n",
       "      <th>Close_2</th>\n",
       "      <th>Close_1</th>\n",
       "    </tr>\n",
       "    <tr>\n",
       "      <th>Date</th>\n",
       "      <th></th>\n",
       "      <th></th>\n",
       "      <th></th>\n",
       "      <th></th>\n",
       "      <th></th>\n",
       "      <th></th>\n",
       "    </tr>\n",
       "  </thead>\n",
       "  <tbody>\n",
       "    <tr>\n",
       "      <th>2015-11-23</th>\n",
       "      <td>2086.590088</td>\n",
       "      <td>NaN</td>\n",
       "      <td>NaN</td>\n",
       "      <td>NaN</td>\n",
       "      <td>NaN</td>\n",
       "      <td>NaN</td>\n",
       "    </tr>\n",
       "    <tr>\n",
       "      <th>2015-11-24</th>\n",
       "      <td>2089.139893</td>\n",
       "      <td>NaN</td>\n",
       "      <td>NaN</td>\n",
       "      <td>NaN</td>\n",
       "      <td>NaN</td>\n",
       "      <td>2086.590088</td>\n",
       "    </tr>\n",
       "    <tr>\n",
       "      <th>2015-11-25</th>\n",
       "      <td>2088.870117</td>\n",
       "      <td>NaN</td>\n",
       "      <td>NaN</td>\n",
       "      <td>NaN</td>\n",
       "      <td>2086.590088</td>\n",
       "      <td>2089.139893</td>\n",
       "    </tr>\n",
       "    <tr>\n",
       "      <th>2015-11-26</th>\n",
       "      <td>2088.870117</td>\n",
       "      <td>NaN</td>\n",
       "      <td>NaN</td>\n",
       "      <td>2086.590088</td>\n",
       "      <td>2089.139893</td>\n",
       "      <td>2088.870117</td>\n",
       "    </tr>\n",
       "    <tr>\n",
       "      <th>2015-11-27</th>\n",
       "      <td>2090.110107</td>\n",
       "      <td>NaN</td>\n",
       "      <td>2086.590088</td>\n",
       "      <td>2089.139893</td>\n",
       "      <td>2088.870117</td>\n",
       "      <td>2088.870117</td>\n",
       "    </tr>\n",
       "    <tr>\n",
       "      <th>...</th>\n",
       "      <td>...</td>\n",
       "      <td>...</td>\n",
       "      <td>...</td>\n",
       "      <td>...</td>\n",
       "      <td>...</td>\n",
       "      <td>...</td>\n",
       "    </tr>\n",
       "    <tr>\n",
       "      <th>2020-11-16</th>\n",
       "      <td>3626.909912</td>\n",
       "      <td>3572.659912</td>\n",
       "      <td>3537.010010</td>\n",
       "      <td>3585.149902</td>\n",
       "      <td>3585.149902</td>\n",
       "      <td>3585.149902</td>\n",
       "    </tr>\n",
       "    <tr>\n",
       "      <th>2020-11-17</th>\n",
       "      <td>3609.530029</td>\n",
       "      <td>3537.010010</td>\n",
       "      <td>3585.149902</td>\n",
       "      <td>3585.149902</td>\n",
       "      <td>3585.149902</td>\n",
       "      <td>3626.909912</td>\n",
       "    </tr>\n",
       "    <tr>\n",
       "      <th>2020-11-18</th>\n",
       "      <td>3567.790039</td>\n",
       "      <td>3585.149902</td>\n",
       "      <td>3585.149902</td>\n",
       "      <td>3585.149902</td>\n",
       "      <td>3626.909912</td>\n",
       "      <td>3609.530029</td>\n",
       "    </tr>\n",
       "    <tr>\n",
       "      <th>2020-11-19</th>\n",
       "      <td>3581.870117</td>\n",
       "      <td>3585.149902</td>\n",
       "      <td>3585.149902</td>\n",
       "      <td>3626.909912</td>\n",
       "      <td>3609.530029</td>\n",
       "      <td>3567.790039</td>\n",
       "    </tr>\n",
       "    <tr>\n",
       "      <th>2020-11-20</th>\n",
       "      <td>3557.540039</td>\n",
       "      <td>3585.149902</td>\n",
       "      <td>3626.909912</td>\n",
       "      <td>3609.530029</td>\n",
       "      <td>3567.790039</td>\n",
       "      <td>3581.870117</td>\n",
       "    </tr>\n",
       "  </tbody>\n",
       "</table>\n",
       "<p>1825 rows × 6 columns</p>\n",
       "</div>"
      ],
      "text/plain": [
       "                  Close      Close_5      Close_4      Close_3      Close_2  \\\n",
       "Date                                                                          \n",
       "2015-11-23  2086.590088          NaN          NaN          NaN          NaN   \n",
       "2015-11-24  2089.139893          NaN          NaN          NaN          NaN   \n",
       "2015-11-25  2088.870117          NaN          NaN          NaN  2086.590088   \n",
       "2015-11-26  2088.870117          NaN          NaN  2086.590088  2089.139893   \n",
       "2015-11-27  2090.110107          NaN  2086.590088  2089.139893  2088.870117   \n",
       "...                 ...          ...          ...          ...          ...   \n",
       "2020-11-16  3626.909912  3572.659912  3537.010010  3585.149902  3585.149902   \n",
       "2020-11-17  3609.530029  3537.010010  3585.149902  3585.149902  3585.149902   \n",
       "2020-11-18  3567.790039  3585.149902  3585.149902  3585.149902  3626.909912   \n",
       "2020-11-19  3581.870117  3585.149902  3585.149902  3626.909912  3609.530029   \n",
       "2020-11-20  3557.540039  3585.149902  3626.909912  3609.530029  3567.790039   \n",
       "\n",
       "                Close_1  \n",
       "Date                     \n",
       "2015-11-23          NaN  \n",
       "2015-11-24  2086.590088  \n",
       "2015-11-25  2089.139893  \n",
       "2015-11-26  2088.870117  \n",
       "2015-11-27  2088.870117  \n",
       "...                 ...  \n",
       "2020-11-16  3585.149902  \n",
       "2020-11-17  3626.909912  \n",
       "2020-11-18  3609.530029  \n",
       "2020-11-19  3567.790039  \n",
       "2020-11-20  3581.870117  \n",
       "\n",
       "[1825 rows x 6 columns]"
      ]
     },
     "execution_count": 18,
     "metadata": {},
     "output_type": "execute_result"
    }
   ],
   "source": [
    "df"
   ]
  },
  {
   "cell_type": "code",
   "execution_count": 19,
   "id": "1b47b0c9-f92d-47d8-b231-b63e8e64a5f5",
   "metadata": {},
   "outputs": [],
   "source": [
    "df.dropna(axis=0, inplace=True)"
   ]
  },
  {
   "cell_type": "code",
   "execution_count": 20,
   "id": "3842adef-fc32-4849-b0e8-4745a8852924",
   "metadata": {},
   "outputs": [
    {
     "data": {
      "text/html": [
       "<div>\n",
       "<style scoped>\n",
       "    .dataframe tbody tr th:only-of-type {\n",
       "        vertical-align: middle;\n",
       "    }\n",
       "\n",
       "    .dataframe tbody tr th {\n",
       "        vertical-align: top;\n",
       "    }\n",
       "\n",
       "    .dataframe thead th {\n",
       "        text-align: right;\n",
       "    }\n",
       "</style>\n",
       "<table border=\"1\" class=\"dataframe\">\n",
       "  <thead>\n",
       "    <tr style=\"text-align: right;\">\n",
       "      <th></th>\n",
       "      <th>Close</th>\n",
       "      <th>Close_5</th>\n",
       "      <th>Close_4</th>\n",
       "      <th>Close_3</th>\n",
       "      <th>Close_2</th>\n",
       "      <th>Close_1</th>\n",
       "    </tr>\n",
       "    <tr>\n",
       "      <th>Date</th>\n",
       "      <th></th>\n",
       "      <th></th>\n",
       "      <th></th>\n",
       "      <th></th>\n",
       "      <th></th>\n",
       "      <th></th>\n",
       "    </tr>\n",
       "  </thead>\n",
       "  <tbody>\n",
       "    <tr>\n",
       "      <th>2015-11-28</th>\n",
       "      <td>2090.110107</td>\n",
       "      <td>2086.590088</td>\n",
       "      <td>2089.139893</td>\n",
       "      <td>2088.870117</td>\n",
       "      <td>2088.870117</td>\n",
       "      <td>2090.110107</td>\n",
       "    </tr>\n",
       "    <tr>\n",
       "      <th>2015-11-29</th>\n",
       "      <td>2090.110107</td>\n",
       "      <td>2089.139893</td>\n",
       "      <td>2088.870117</td>\n",
       "      <td>2088.870117</td>\n",
       "      <td>2090.110107</td>\n",
       "      <td>2090.110107</td>\n",
       "    </tr>\n",
       "    <tr>\n",
       "      <th>2015-11-30</th>\n",
       "      <td>2080.409912</td>\n",
       "      <td>2088.870117</td>\n",
       "      <td>2088.870117</td>\n",
       "      <td>2090.110107</td>\n",
       "      <td>2090.110107</td>\n",
       "      <td>2090.110107</td>\n",
       "    </tr>\n",
       "    <tr>\n",
       "      <th>2015-12-01</th>\n",
       "      <td>2102.629883</td>\n",
       "      <td>2088.870117</td>\n",
       "      <td>2090.110107</td>\n",
       "      <td>2090.110107</td>\n",
       "      <td>2090.110107</td>\n",
       "      <td>2080.409912</td>\n",
       "    </tr>\n",
       "    <tr>\n",
       "      <th>2015-12-02</th>\n",
       "      <td>2079.510010</td>\n",
       "      <td>2090.110107</td>\n",
       "      <td>2090.110107</td>\n",
       "      <td>2090.110107</td>\n",
       "      <td>2080.409912</td>\n",
       "      <td>2102.629883</td>\n",
       "    </tr>\n",
       "    <tr>\n",
       "      <th>...</th>\n",
       "      <td>...</td>\n",
       "      <td>...</td>\n",
       "      <td>...</td>\n",
       "      <td>...</td>\n",
       "      <td>...</td>\n",
       "      <td>...</td>\n",
       "    </tr>\n",
       "    <tr>\n",
       "      <th>2020-11-16</th>\n",
       "      <td>3626.909912</td>\n",
       "      <td>3572.659912</td>\n",
       "      <td>3537.010010</td>\n",
       "      <td>3585.149902</td>\n",
       "      <td>3585.149902</td>\n",
       "      <td>3585.149902</td>\n",
       "    </tr>\n",
       "    <tr>\n",
       "      <th>2020-11-17</th>\n",
       "      <td>3609.530029</td>\n",
       "      <td>3537.010010</td>\n",
       "      <td>3585.149902</td>\n",
       "      <td>3585.149902</td>\n",
       "      <td>3585.149902</td>\n",
       "      <td>3626.909912</td>\n",
       "    </tr>\n",
       "    <tr>\n",
       "      <th>2020-11-18</th>\n",
       "      <td>3567.790039</td>\n",
       "      <td>3585.149902</td>\n",
       "      <td>3585.149902</td>\n",
       "      <td>3585.149902</td>\n",
       "      <td>3626.909912</td>\n",
       "      <td>3609.530029</td>\n",
       "    </tr>\n",
       "    <tr>\n",
       "      <th>2020-11-19</th>\n",
       "      <td>3581.870117</td>\n",
       "      <td>3585.149902</td>\n",
       "      <td>3585.149902</td>\n",
       "      <td>3626.909912</td>\n",
       "      <td>3609.530029</td>\n",
       "      <td>3567.790039</td>\n",
       "    </tr>\n",
       "    <tr>\n",
       "      <th>2020-11-20</th>\n",
       "      <td>3557.540039</td>\n",
       "      <td>3585.149902</td>\n",
       "      <td>3626.909912</td>\n",
       "      <td>3609.530029</td>\n",
       "      <td>3567.790039</td>\n",
       "      <td>3581.870117</td>\n",
       "    </tr>\n",
       "  </tbody>\n",
       "</table>\n",
       "<p>1820 rows × 6 columns</p>\n",
       "</div>"
      ],
      "text/plain": [
       "                  Close      Close_5      Close_4      Close_3      Close_2  \\\n",
       "Date                                                                          \n",
       "2015-11-28  2090.110107  2086.590088  2089.139893  2088.870117  2088.870117   \n",
       "2015-11-29  2090.110107  2089.139893  2088.870117  2088.870117  2090.110107   \n",
       "2015-11-30  2080.409912  2088.870117  2088.870117  2090.110107  2090.110107   \n",
       "2015-12-01  2102.629883  2088.870117  2090.110107  2090.110107  2090.110107   \n",
       "2015-12-02  2079.510010  2090.110107  2090.110107  2090.110107  2080.409912   \n",
       "...                 ...          ...          ...          ...          ...   \n",
       "2020-11-16  3626.909912  3572.659912  3537.010010  3585.149902  3585.149902   \n",
       "2020-11-17  3609.530029  3537.010010  3585.149902  3585.149902  3585.149902   \n",
       "2020-11-18  3567.790039  3585.149902  3585.149902  3585.149902  3626.909912   \n",
       "2020-11-19  3581.870117  3585.149902  3585.149902  3626.909912  3609.530029   \n",
       "2020-11-20  3557.540039  3585.149902  3626.909912  3609.530029  3567.790039   \n",
       "\n",
       "                Close_1  \n",
       "Date                     \n",
       "2015-11-28  2090.110107  \n",
       "2015-11-29  2090.110107  \n",
       "2015-11-30  2090.110107  \n",
       "2015-12-01  2080.409912  \n",
       "2015-12-02  2102.629883  \n",
       "...                 ...  \n",
       "2020-11-16  3585.149902  \n",
       "2020-11-17  3626.909912  \n",
       "2020-11-18  3609.530029  \n",
       "2020-11-19  3567.790039  \n",
       "2020-11-20  3581.870117  \n",
       "\n",
       "[1820 rows x 6 columns]"
      ]
     },
     "execution_count": 20,
     "metadata": {},
     "output_type": "execute_result"
    }
   ],
   "source": [
    "df"
   ]
  },
  {
   "cell_type": "code",
   "execution_count": 21,
   "id": "9fdcb3a2-cbb0-4b75-ae33-8f1d8e4e61cf",
   "metadata": {},
   "outputs": [],
   "source": [
    "X, y = df.drop(columns=[\"Close\"]), df[\"Close\"]"
   ]
  },
  {
   "cell_type": "code",
   "execution_count": 24,
   "id": "58490969-53e5-494b-8d8d-1790488571a7",
   "metadata": {},
   "outputs": [],
   "source": [
    "train_X, test_X, train_y, test_y = train_test_split(X, y, test_size=0.2, shuffle=False)"
   ]
  },
  {
   "cell_type": "code",
   "execution_count": 25,
   "id": "7cf409d8-99ce-40fd-bc7c-b2d70d224493",
   "metadata": {},
   "outputs": [],
   "source": [
    "scaler = MinMaxScaler()\n",
    "train_X = scaler.fit_transform(train_X)\n",
    "test_X = scaler.transform(test_X)"
   ]
  },
  {
   "cell_type": "code",
   "execution_count": 26,
   "id": "4f5f08b1-5053-47b3-bb52-493c6a8ddfa2",
   "metadata": {},
   "outputs": [],
   "source": [
    "scaler = MinMaxScaler()\n",
    "train_y = scaler.fit_transform(train_y.to_numpy().reshape(-1, 1))"
   ]
  },
  {
   "cell_type": "code",
   "execution_count": 27,
   "id": "4366a0f7-26ad-476b-8629-28c5d5a3b13f",
   "metadata": {},
   "outputs": [
    {
     "data": {
      "text/plain": [
       "(1456, 5, 1)"
      ]
     },
     "execution_count": 27,
     "metadata": {},
     "output_type": "execute_result"
    }
   ],
   "source": [
    "(train_X.shape[0], lag, (train_X.shape[1] // lag))"
   ]
  },
  {
   "cell_type": "code",
   "execution_count": 28,
   "id": "f465c979-6f17-4360-8a98-eaf9b2c1310d",
   "metadata": {},
   "outputs": [],
   "source": [
    "train_X = train_X.reshape(train_X.shape[0], lag, (train_X.shape[1] // lag))\n",
    "test_X = test_X.reshape(test_X.shape[0], lag, (test_X.shape[1] // lag))"
   ]
  },
  {
   "cell_type": "code",
   "execution_count": 29,
   "id": "19ce369c-fbde-435c-9fad-07d3b235734b",
   "metadata": {},
   "outputs": [
    {
     "data": {
      "text/plain": [
       "(5, 1)"
      ]
     },
     "execution_count": 29,
     "metadata": {},
     "output_type": "execute_result"
    }
   ],
   "source": [
    "(train_X.shape[1], train_X.shape[2])"
   ]
  },
  {
   "cell_type": "code",
   "execution_count": 67,
   "id": "c91ffc3d-7264-4ce8-bc7c-3c04e5361399",
   "metadata": {},
   "outputs": [],
   "source": [
    "model = Sequential([\n",
    "    Input((train_X.shape[1], train_X.shape[2],)),\n",
    "    LSTM(16, activation=\"relu\", return_sequences=True),\n",
    "    LSTM(16, activation=\"relu\"),\n",
    "    Dense(1, activation=\"linear\")\n",
    "])"
   ]
  },
  {
   "cell_type": "code",
   "execution_count": 68,
   "id": "c8068ccd-5f54-4d77-8fb4-0501145e3d39",
   "metadata": {},
   "outputs": [
    {
     "data": {
      "text/html": [
       "<pre style=\"white-space:pre;overflow-x:auto;line-height:normal;font-family:Menlo,'DejaVu Sans Mono',consolas,'Courier New',monospace\"><span style=\"font-weight: bold\">Model: \"sequential_5\"</span>\n",
       "</pre>\n"
      ],
      "text/plain": [
       "\u001b[1mModel: \"sequential_5\"\u001b[0m\n"
      ]
     },
     "metadata": {},
     "output_type": "display_data"
    },
    {
     "data": {
      "text/html": [
       "<pre style=\"white-space:pre;overflow-x:auto;line-height:normal;font-family:Menlo,'DejaVu Sans Mono',consolas,'Courier New',monospace\">┏━━━━━━━━━━━━━━━━━━━━━━━━━━━━━━━━━━━━━━┳━━━━━━━━━━━━━━━━━━━━━━━━━━━━━┳━━━━━━━━━━━━━━━━━┓\n",
       "┃<span style=\"font-weight: bold\"> Layer (type)                         </span>┃<span style=\"font-weight: bold\"> Output Shape                </span>┃<span style=\"font-weight: bold\">         Param # </span>┃\n",
       "┡━━━━━━━━━━━━━━━━━━━━━━━━━━━━━━━━━━━━━━╇━━━━━━━━━━━━━━━━━━━━━━━━━━━━━╇━━━━━━━━━━━━━━━━━┩\n",
       "│ lstm_13 (<span style=\"color: #0087ff; text-decoration-color: #0087ff\">LSTM</span>)                       │ (<span style=\"color: #00d7ff; text-decoration-color: #00d7ff\">None</span>, <span style=\"color: #00af00; text-decoration-color: #00af00\">5</span>, <span style=\"color: #00af00; text-decoration-color: #00af00\">16</span>)               │           <span style=\"color: #00af00; text-decoration-color: #00af00\">1,152</span> │\n",
       "├──────────────────────────────────────┼─────────────────────────────┼─────────────────┤\n",
       "│ lstm_14 (<span style=\"color: #0087ff; text-decoration-color: #0087ff\">LSTM</span>)                       │ (<span style=\"color: #00d7ff; text-decoration-color: #00d7ff\">None</span>, <span style=\"color: #00af00; text-decoration-color: #00af00\">16</span>)                  │           <span style=\"color: #00af00; text-decoration-color: #00af00\">2,112</span> │\n",
       "├──────────────────────────────────────┼─────────────────────────────┼─────────────────┤\n",
       "│ dense_5 (<span style=\"color: #0087ff; text-decoration-color: #0087ff\">Dense</span>)                      │ (<span style=\"color: #00d7ff; text-decoration-color: #00d7ff\">None</span>, <span style=\"color: #00af00; text-decoration-color: #00af00\">1</span>)                   │              <span style=\"color: #00af00; text-decoration-color: #00af00\">17</span> │\n",
       "└──────────────────────────────────────┴─────────────────────────────┴─────────────────┘\n",
       "</pre>\n"
      ],
      "text/plain": [
       "┏━━━━━━━━━━━━━━━━━━━━━━━━━━━━━━━━━━━━━━┳━━━━━━━━━━━━━━━━━━━━━━━━━━━━━┳━━━━━━━━━━━━━━━━━┓\n",
       "┃\u001b[1m \u001b[0m\u001b[1mLayer (type)                        \u001b[0m\u001b[1m \u001b[0m┃\u001b[1m \u001b[0m\u001b[1mOutput Shape               \u001b[0m\u001b[1m \u001b[0m┃\u001b[1m \u001b[0m\u001b[1m        Param #\u001b[0m\u001b[1m \u001b[0m┃\n",
       "┡━━━━━━━━━━━━━━━━━━━━━━━━━━━━━━━━━━━━━━╇━━━━━━━━━━━━━━━━━━━━━━━━━━━━━╇━━━━━━━━━━━━━━━━━┩\n",
       "│ lstm_13 (\u001b[38;5;33mLSTM\u001b[0m)                       │ (\u001b[38;5;45mNone\u001b[0m, \u001b[38;5;34m5\u001b[0m, \u001b[38;5;34m16\u001b[0m)               │           \u001b[38;5;34m1,152\u001b[0m │\n",
       "├──────────────────────────────────────┼─────────────────────────────┼─────────────────┤\n",
       "│ lstm_14 (\u001b[38;5;33mLSTM\u001b[0m)                       │ (\u001b[38;5;45mNone\u001b[0m, \u001b[38;5;34m16\u001b[0m)                  │           \u001b[38;5;34m2,112\u001b[0m │\n",
       "├──────────────────────────────────────┼─────────────────────────────┼─────────────────┤\n",
       "│ dense_5 (\u001b[38;5;33mDense\u001b[0m)                      │ (\u001b[38;5;45mNone\u001b[0m, \u001b[38;5;34m1\u001b[0m)                   │              \u001b[38;5;34m17\u001b[0m │\n",
       "└──────────────────────────────────────┴─────────────────────────────┴─────────────────┘\n"
      ]
     },
     "metadata": {},
     "output_type": "display_data"
    },
    {
     "data": {
      "text/html": [
       "<pre style=\"white-space:pre;overflow-x:auto;line-height:normal;font-family:Menlo,'DejaVu Sans Mono',consolas,'Courier New',monospace\"><span style=\"font-weight: bold\"> Total params: </span><span style=\"color: #00af00; text-decoration-color: #00af00\">3,281</span> (12.82 KB)\n",
       "</pre>\n"
      ],
      "text/plain": [
       "\u001b[1m Total params: \u001b[0m\u001b[38;5;34m3,281\u001b[0m (12.82 KB)\n"
      ]
     },
     "metadata": {},
     "output_type": "display_data"
    },
    {
     "data": {
      "text/html": [
       "<pre style=\"white-space:pre;overflow-x:auto;line-height:normal;font-family:Menlo,'DejaVu Sans Mono',consolas,'Courier New',monospace\"><span style=\"font-weight: bold\"> Trainable params: </span><span style=\"color: #00af00; text-decoration-color: #00af00\">3,281</span> (12.82 KB)\n",
       "</pre>\n"
      ],
      "text/plain": [
       "\u001b[1m Trainable params: \u001b[0m\u001b[38;5;34m3,281\u001b[0m (12.82 KB)\n"
      ]
     },
     "metadata": {},
     "output_type": "display_data"
    },
    {
     "data": {
      "text/html": [
       "<pre style=\"white-space:pre;overflow-x:auto;line-height:normal;font-family:Menlo,'DejaVu Sans Mono',consolas,'Courier New',monospace\"><span style=\"font-weight: bold\"> Non-trainable params: </span><span style=\"color: #00af00; text-decoration-color: #00af00\">0</span> (0.00 B)\n",
       "</pre>\n"
      ],
      "text/plain": [
       "\u001b[1m Non-trainable params: \u001b[0m\u001b[38;5;34m0\u001b[0m (0.00 B)\n"
      ]
     },
     "metadata": {},
     "output_type": "display_data"
    }
   ],
   "source": [
    "model.summary()"
   ]
  },
  {
   "cell_type": "code",
   "execution_count": 69,
   "id": "be2696dd-072a-4d99-9708-e119d75f9827",
   "metadata": {},
   "outputs": [],
   "source": [
    "model.compile(\n",
    "    loss=\"mean_squared_error\",\n",
    "    optimizer=\"adam\",\n",
    "    metrics=[\"mean_squared_error\"],\n",
    ")"
   ]
  },
  {
   "cell_type": "code",
   "execution_count": 70,
   "id": "684017ad-d3f5-432d-a6b8-a6e5e86d65e2",
   "metadata": {},
   "outputs": [
    {
     "name": "stdout",
     "output_type": "stream",
     "text": [
      "Epoch 1/8\n",
      "\u001b[1m19/19\u001b[0m \u001b[32m━━━━━━━━━━━━━━━━━━━━\u001b[0m\u001b[37m\u001b[0m \u001b[1m9s\u001b[0m 90ms/step - loss: 0.1204 - mean_squared_error: 0.1204 - val_loss: 0.6297 - val_mean_squared_error: 0.6297\n",
      "Epoch 2/8\n",
      "\u001b[1m19/19\u001b[0m \u001b[32m━━━━━━━━━━━━━━━━━━━━\u001b[0m\u001b[37m\u001b[0m \u001b[1m1s\u001b[0m 23ms/step - loss: 0.0884 - mean_squared_error: 0.0884 - val_loss: 0.4760 - val_mean_squared_error: 0.4760\n",
      "Epoch 3/8\n",
      "\u001b[1m19/19\u001b[0m \u001b[32m━━━━━━━━━━━━━━━━━━━━\u001b[0m\u001b[37m\u001b[0m \u001b[1m0s\u001b[0m 23ms/step - loss: 0.0503 - mean_squared_error: 0.0503 - val_loss: 0.2848 - val_mean_squared_error: 0.2848\n",
      "Epoch 4/8\n",
      "\u001b[1m19/19\u001b[0m \u001b[32m━━━━━━━━━━━━━━━━━━━━\u001b[0m\u001b[37m\u001b[0m \u001b[1m0s\u001b[0m 23ms/step - loss: 0.0187 - mean_squared_error: 0.0187 - val_loss: 0.0784 - val_mean_squared_error: 0.0784\n",
      "Epoch 5/8\n",
      "\u001b[1m19/19\u001b[0m \u001b[32m━━━━━━━━━━━━━━━━━━━━\u001b[0m\u001b[37m\u001b[0m \u001b[1m1s\u001b[0m 23ms/step - loss: 0.0176 - mean_squared_error: 0.0176 - val_loss: 0.0035 - val_mean_squared_error: 0.0035\n",
      "Epoch 6/8\n",
      "\u001b[1m19/19\u001b[0m \u001b[32m━━━━━━━━━━━━━━━━━━━━\u001b[0m\u001b[37m\u001b[0m \u001b[1m1s\u001b[0m 24ms/step - loss: 0.0336 - mean_squared_error: 0.0336 - val_loss: 0.0064 - val_mean_squared_error: 0.0064\n",
      "Epoch 7/8\n",
      "\u001b[1m19/19\u001b[0m \u001b[32m━━━━━━━━━━━━━━━━━━━━\u001b[0m\u001b[37m\u001b[0m \u001b[1m1s\u001b[0m 23ms/step - loss: 0.0255 - mean_squared_error: 0.0255 - val_loss: 0.0052 - val_mean_squared_error: 0.0052\n",
      "Epoch 8/8\n",
      "\u001b[1m19/19\u001b[0m \u001b[32m━━━━━━━━━━━━━━━━━━━━\u001b[0m\u001b[37m\u001b[0m \u001b[1m0s\u001b[0m 23ms/step - loss: 0.0216 - mean_squared_error: 0.0216 - val_loss: 0.0015 - val_mean_squared_error: 0.0015\n"
     ]
    }
   ],
   "source": [
    "history = model.fit(train_X, train_y, validation_split=0.20, epochs=8, batch_size=64, shuffle=False)"
   ]
  },
  {
   "cell_type": "code",
   "execution_count": 71,
   "id": "87cf700f-23da-4dcf-a863-4a3569e7ff60",
   "metadata": {},
   "outputs": [
    {
     "data": {
      "text/plain": [
       "<Axes: >"
      ]
     },
     "execution_count": 71,
     "metadata": {},
     "output_type": "execute_result"
    },
    {
     "data": {
      "image/png": "[encoded data removed]",
      "text/plain": [
       "<Figure size 640x480 with 1 Axes>"
      ]
     },
     "metadata": {},
     "output_type": "display_data"
    }
   ],
   "source": [
    "sns.lineplot(history.history[\"loss\"], label=\"loss\")\n",
    "sns.lineplot(history.history[\"val_loss\"], label=\"val_loss\")"
   ]
  },
  {
   "cell_type": "code",
   "execution_count": 72,
   "id": "b5879c3c-6073-49d5-a0eb-758daf9e4ff8",
   "metadata": {},
   "outputs": [
    {
     "name": "stdout",
     "output_type": "stream",
     "text": [
      "\u001b[1m12/12\u001b[0m \u001b[32m━━━━━━━━━━━━━━━━━━━━\u001b[0m\u001b[37m\u001b[0m \u001b[1m2s\u001b[0m 78ms/step\n"
     ]
    }
   ],
   "source": [
    "pred_y = model.predict(test_X)"
   ]
  },
  {
   "cell_type": "code",
   "execution_count": 73,
   "id": "8b8a8953-f685-4891-a52e-c7048ab377ea",
   "metadata": {},
   "outputs": [],
   "source": [
    "pred_y = scaler.inverse_transform(pred_y)"
   ]
  },
  {
   "cell_type": "code",
   "execution_count": 74,
   "id": "c4067aa5-9418-4b25-8af7-793ff9b7eef6",
   "metadata": {},
   "outputs": [
    {
     "data": {
      "text/plain": [
       "(np.float64(89.57495586688702),\n",
       " np.float64(14078.822715306838),\n",
       " 0.8108594353653782)"
      ]
     },
     "execution_count": 74,
     "metadata": {},
     "output_type": "execute_result"
    }
   ],
   "source": [
    "from sklearn.metrics import mean_absolute_error, mean_squared_error, r2_score\n",
    "(mean_absolute_error(test_y, pred_y), mean_squared_error(test_y, pred_y), r2_score(test_y, pred_y))"
   ]
  },
  {
   "cell_type": "code",
   "execution_count": null,
   "id": "c065c5e6-9c13-4f04-920c-1a0b7708a40e",
   "metadata": {},
   "outputs": [],
   "source": []
  }
 ],
 "metadata": {
  "kernelspec": {
   "display_name": "Python 3 (ipykernel)",
   "language": "python",
   "name": "python3"
  },
  "language_info": {
   "codemirror_mode": {
    "name": "ipython",
    "version": 3
   },
   "file_extension": ".py",
   "mimetype": "text/x-python",
   "name": "python",
   "nbconvert_exporter": "python",
   "pygments_lexer": "ipython3",
   "version": "3.12.4"
  }
 },
 "nbformat": 4,
 "nbformat_minor": 5
}
