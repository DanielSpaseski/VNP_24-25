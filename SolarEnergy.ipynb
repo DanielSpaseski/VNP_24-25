{
 "cells": [
  {
   "cell_type": "code",
   "execution_count": 1,
   "id": "c505f7b0-f5ab-44ce-b22b-3ac298ba79fc",
   "metadata": {},
   "outputs": [],
   "source": [
    "import pandas as pd"
   ]
  },
  {
   "cell_type": "code",
   "execution_count": 4,
   "id": "166b7aa7-6acc-415f-8a75-a5c5d41d523f",
   "metadata": {},
   "outputs": [
    {
     "name": "stderr",
     "output_type": "stream",
     "text": [
      "C:\\Users\\spase\\AppData\\Local\\Temp\\ipykernel_11764\\2684062141.py:1: DtypeWarning: Columns (2) have mixed types. Specify dtype option on import or set low_memory=False.\n",
      "  df = pd.read_csv(\"solarenergy.csv\")\n"
     ]
    }
   ],
   "source": [
    "df = pd.read_csv(\"solarenergy.csv\")\n",
    "df = df.head(20000)"
   ]
  },
  {
   "cell_type": "code",
   "execution_count": 5,
   "id": "e8c4d648-f207-456e-8f8e-75c4b02a4863",
   "metadata": {},
   "outputs": [
    {
     "data": {
      "text/html": [
       "<div>\n",
       "<style scoped>\n",
       "    .dataframe tbody tr th:only-of-type {\n",
       "        vertical-align: middle;\n",
       "    }\n",
       "\n",
       "    .dataframe tbody tr th {\n",
       "        vertical-align: top;\n",
       "    }\n",
       "\n",
       "    .dataframe thead th {\n",
       "        text-align: right;\n",
       "    }\n",
       "</style>\n",
       "<table border=\"1\" class=\"dataframe\">\n",
       "  <thead>\n",
       "    <tr style=\"text-align: right;\">\n",
       "      <th></th>\n",
       "      <th>Datetime</th>\n",
       "      <th>solar_mw</th>\n",
       "      <th>wind-direction</th>\n",
       "      <th>wind-speed</th>\n",
       "      <th>humidity</th>\n",
       "      <th>average-wind-speed-(period)</th>\n",
       "      <th>average-pressure-(period)</th>\n",
       "      <th>temperature</th>\n",
       "    </tr>\n",
       "  </thead>\n",
       "  <tbody>\n",
       "    <tr>\n",
       "      <th>0</th>\n",
       "      <td>03/08/2020 0:00</td>\n",
       "      <td>11385</td>\n",
       "      <td>27</td>\n",
       "      <td>7.5</td>\n",
       "      <td>75.0</td>\n",
       "      <td>8.0</td>\n",
       "      <td>29.82</td>\n",
       "      <td>69.0</td>\n",
       "    </tr>\n",
       "    <tr>\n",
       "      <th>1</th>\n",
       "      <td>02/08/2020 23:00</td>\n",
       "      <td>12390</td>\n",
       "      <td>27</td>\n",
       "      <td>7.5</td>\n",
       "      <td>77.0</td>\n",
       "      <td>5.0</td>\n",
       "      <td>29.85</td>\n",
       "      <td>69.0</td>\n",
       "    </tr>\n",
       "    <tr>\n",
       "      <th>2</th>\n",
       "      <td>02/08/2020 22:00</td>\n",
       "      <td>13312</td>\n",
       "      <td>27</td>\n",
       "      <td>7.5</td>\n",
       "      <td>70.0</td>\n",
       "      <td>0.0</td>\n",
       "      <td>29.89</td>\n",
       "      <td>69.0</td>\n",
       "    </tr>\n",
       "    <tr>\n",
       "      <th>3</th>\n",
       "      <td>02/08/2020 21:00</td>\n",
       "      <td>13832</td>\n",
       "      <td>27</td>\n",
       "      <td>7.5</td>\n",
       "      <td>33.0</td>\n",
       "      <td>0.0</td>\n",
       "      <td>29.91</td>\n",
       "      <td>69.0</td>\n",
       "    </tr>\n",
       "    <tr>\n",
       "      <th>4</th>\n",
       "      <td>02/08/2020 20:00</td>\n",
       "      <td>14038</td>\n",
       "      <td>27</td>\n",
       "      <td>7.5</td>\n",
       "      <td>21.0</td>\n",
       "      <td>3.0</td>\n",
       "      <td>29.89</td>\n",
       "      <td>69.0</td>\n",
       "    </tr>\n",
       "    <tr>\n",
       "      <th>...</th>\n",
       "      <td>...</td>\n",
       "      <td>...</td>\n",
       "      <td>...</td>\n",
       "      <td>...</td>\n",
       "      <td>...</td>\n",
       "      <td>...</td>\n",
       "      <td>...</td>\n",
       "      <td>...</td>\n",
       "    </tr>\n",
       "    <tr>\n",
       "      <th>19995</th>\n",
       "      <td>21/04/2018 21:00</td>\n",
       "      <td>10590</td>\n",
       "      <td>NaN</td>\n",
       "      <td>NaN</td>\n",
       "      <td>NaN</td>\n",
       "      <td>NaN</td>\n",
       "      <td>NaN</td>\n",
       "      <td>NaN</td>\n",
       "    </tr>\n",
       "    <tr>\n",
       "      <th>19996</th>\n",
       "      <td>21/04/2018 20:00</td>\n",
       "      <td>10263</td>\n",
       "      <td>NaN</td>\n",
       "      <td>NaN</td>\n",
       "      <td>NaN</td>\n",
       "      <td>NaN</td>\n",
       "      <td>NaN</td>\n",
       "      <td>NaN</td>\n",
       "    </tr>\n",
       "    <tr>\n",
       "      <th>19997</th>\n",
       "      <td>21/04/2018 19:00</td>\n",
       "      <td>10074</td>\n",
       "      <td>NaN</td>\n",
       "      <td>NaN</td>\n",
       "      <td>NaN</td>\n",
       "      <td>NaN</td>\n",
       "      <td>NaN</td>\n",
       "      <td>NaN</td>\n",
       "    </tr>\n",
       "    <tr>\n",
       "      <th>19998</th>\n",
       "      <td>21/04/2018 18:00</td>\n",
       "      <td>10076</td>\n",
       "      <td>NaN</td>\n",
       "      <td>NaN</td>\n",
       "      <td>NaN</td>\n",
       "      <td>NaN</td>\n",
       "      <td>NaN</td>\n",
       "      <td>NaN</td>\n",
       "    </tr>\n",
       "    <tr>\n",
       "      <th>19999</th>\n",
       "      <td>21/04/2018 17:00</td>\n",
       "      <td>9980</td>\n",
       "      <td>NaN</td>\n",
       "      <td>NaN</td>\n",
       "      <td>NaN</td>\n",
       "      <td>NaN</td>\n",
       "      <td>NaN</td>\n",
       "      <td>NaN</td>\n",
       "    </tr>\n",
       "  </tbody>\n",
       "</table>\n",
       "<p>20000 rows × 8 columns</p>\n",
       "</div>"
      ],
      "text/plain": [
       "               Datetime  solar_mw wind-direction  wind-speed  humidity  \\\n",
       "0       03/08/2020 0:00     11385             27         7.5      75.0   \n",
       "1      02/08/2020 23:00     12390             27         7.5      77.0   \n",
       "2      02/08/2020 22:00     13312             27         7.5      70.0   \n",
       "3      02/08/2020 21:00     13832             27         7.5      33.0   \n",
       "4      02/08/2020 20:00     14038             27         7.5      21.0   \n",
       "...                 ...       ...            ...         ...       ...   \n",
       "19995  21/04/2018 21:00     10590            NaN         NaN       NaN   \n",
       "19996  21/04/2018 20:00     10263            NaN         NaN       NaN   \n",
       "19997  21/04/2018 19:00     10074            NaN         NaN       NaN   \n",
       "19998  21/04/2018 18:00     10076            NaN         NaN       NaN   \n",
       "19999  21/04/2018 17:00      9980            NaN         NaN       NaN   \n",
       "\n",
       "       average-wind-speed-(period)  average-pressure-(period)  temperature  \n",
       "0                              8.0                      29.82         69.0  \n",
       "1                              5.0                      29.85         69.0  \n",
       "2                              0.0                      29.89         69.0  \n",
       "3                              0.0                      29.91         69.0  \n",
       "4                              3.0                      29.89         69.0  \n",
       "...                            ...                        ...          ...  \n",
       "19995                          NaN                        NaN          NaN  \n",
       "19996                          NaN                        NaN          NaN  \n",
       "19997                          NaN                        NaN          NaN  \n",
       "19998                          NaN                        NaN          NaN  \n",
       "19999                          NaN                        NaN          NaN  \n",
       "\n",
       "[20000 rows x 8 columns]"
      ]
     },
     "execution_count": 5,
     "metadata": {},
     "output_type": "execute_result"
    }
   ],
   "source": [
    "df"
   ]
  },
  {
   "cell_type": "code",
   "execution_count": 7,
   "id": "84a51260-16b2-4319-a1ed-cd29c84e1c60",
   "metadata": {},
   "outputs": [
    {
     "data": {
      "text/html": [
       "<div>\n",
       "<style scoped>\n",
       "    .dataframe tbody tr th:only-of-type {\n",
       "        vertical-align: middle;\n",
       "    }\n",
       "\n",
       "    .dataframe tbody tr th {\n",
       "        vertical-align: top;\n",
       "    }\n",
       "\n",
       "    .dataframe thead th {\n",
       "        text-align: right;\n",
       "    }\n",
       "</style>\n",
       "<table border=\"1\" class=\"dataframe\">\n",
       "  <thead>\n",
       "    <tr style=\"text-align: right;\">\n",
       "      <th></th>\n",
       "      <th>solar_mw</th>\n",
       "      <th>wind-direction</th>\n",
       "      <th>wind-speed</th>\n",
       "      <th>humidity</th>\n",
       "      <th>average-wind-speed-(period)</th>\n",
       "      <th>average-pressure-(period)</th>\n",
       "      <th>temperature</th>\n",
       "    </tr>\n",
       "    <tr>\n",
       "      <th>Datetime</th>\n",
       "      <th></th>\n",
       "      <th></th>\n",
       "      <th></th>\n",
       "      <th></th>\n",
       "      <th></th>\n",
       "      <th></th>\n",
       "      <th></th>\n",
       "    </tr>\n",
       "  </thead>\n",
       "  <tbody>\n",
       "    <tr>\n",
       "      <th>2018-01-05 00:00:00</th>\n",
       "      <td>8153</td>\n",
       "      <td>NaN</td>\n",
       "      <td>NaN</td>\n",
       "      <td>NaN</td>\n",
       "      <td>NaN</td>\n",
       "      <td>NaN</td>\n",
       "      <td>NaN</td>\n",
       "    </tr>\n",
       "    <tr>\n",
       "      <th>2018-01-05 01:00:00</th>\n",
       "      <td>7658</td>\n",
       "      <td>NaN</td>\n",
       "      <td>NaN</td>\n",
       "      <td>NaN</td>\n",
       "      <td>NaN</td>\n",
       "      <td>NaN</td>\n",
       "      <td>NaN</td>\n",
       "    </tr>\n",
       "    <tr>\n",
       "      <th>2018-01-05 02:00:00</th>\n",
       "      <td>7354</td>\n",
       "      <td>NaN</td>\n",
       "      <td>NaN</td>\n",
       "      <td>NaN</td>\n",
       "      <td>NaN</td>\n",
       "      <td>NaN</td>\n",
       "      <td>NaN</td>\n",
       "    </tr>\n",
       "    <tr>\n",
       "      <th>2018-01-05 03:00:00</th>\n",
       "      <td>7210</td>\n",
       "      <td>NaN</td>\n",
       "      <td>NaN</td>\n",
       "      <td>NaN</td>\n",
       "      <td>NaN</td>\n",
       "      <td>NaN</td>\n",
       "      <td>NaN</td>\n",
       "    </tr>\n",
       "    <tr>\n",
       "      <th>2018-01-05 04:00:00</th>\n",
       "      <td>7132</td>\n",
       "      <td>NaN</td>\n",
       "      <td>NaN</td>\n",
       "      <td>NaN</td>\n",
       "      <td>NaN</td>\n",
       "      <td>NaN</td>\n",
       "      <td>NaN</td>\n",
       "    </tr>\n",
       "    <tr>\n",
       "      <th>...</th>\n",
       "      <td>...</td>\n",
       "      <td>...</td>\n",
       "      <td>...</td>\n",
       "      <td>...</td>\n",
       "      <td>...</td>\n",
       "      <td>...</td>\n",
       "      <td>...</td>\n",
       "    </tr>\n",
       "    <tr>\n",
       "      <th>2020-12-07 19:00:00</th>\n",
       "      <td>15966</td>\n",
       "      <td>32</td>\n",
       "      <td>10.6</td>\n",
       "      <td>90.0</td>\n",
       "      <td>21.0</td>\n",
       "      <td>29.75</td>\n",
       "      <td>58.0</td>\n",
       "    </tr>\n",
       "    <tr>\n",
       "      <th>2020-12-07 20:00:00</th>\n",
       "      <td>15285</td>\n",
       "      <td>32</td>\n",
       "      <td>10.6</td>\n",
       "      <td>72.0</td>\n",
       "      <td>20.0</td>\n",
       "      <td>29.86</td>\n",
       "      <td>58.0</td>\n",
       "    </tr>\n",
       "    <tr>\n",
       "      <th>2020-12-07 21:00:00</th>\n",
       "      <td>14633</td>\n",
       "      <td>32</td>\n",
       "      <td>10.6</td>\n",
       "      <td>78.0</td>\n",
       "      <td>7.0</td>\n",
       "      <td>29.96</td>\n",
       "      <td>58.0</td>\n",
       "    </tr>\n",
       "    <tr>\n",
       "      <th>2020-12-07 22:00:00</th>\n",
       "      <td>14087</td>\n",
       "      <td>32</td>\n",
       "      <td>10.6</td>\n",
       "      <td>83.0</td>\n",
       "      <td>5.0</td>\n",
       "      <td>29.99</td>\n",
       "      <td>58.0</td>\n",
       "    </tr>\n",
       "    <tr>\n",
       "      <th>2020-12-07 23:00:00</th>\n",
       "      <td>12907</td>\n",
       "      <td>32</td>\n",
       "      <td>10.6</td>\n",
       "      <td>90.0</td>\n",
       "      <td>3.0</td>\n",
       "      <td>30.02</td>\n",
       "      <td>58.0</td>\n",
       "    </tr>\n",
       "  </tbody>\n",
       "</table>\n",
       "<p>20000 rows × 7 columns</p>\n",
       "</div>"
      ],
      "text/plain": [
       "                     solar_mw wind-direction  wind-speed  humidity  \\\n",
       "Datetime                                                             \n",
       "2018-01-05 00:00:00      8153            NaN         NaN       NaN   \n",
       "2018-01-05 01:00:00      7658            NaN         NaN       NaN   \n",
       "2018-01-05 02:00:00      7354            NaN         NaN       NaN   \n",
       "2018-01-05 03:00:00      7210            NaN         NaN       NaN   \n",
       "2018-01-05 04:00:00      7132            NaN         NaN       NaN   \n",
       "...                       ...            ...         ...       ...   \n",
       "2020-12-07 19:00:00     15966             32        10.6      90.0   \n",
       "2020-12-07 20:00:00     15285             32        10.6      72.0   \n",
       "2020-12-07 21:00:00     14633             32        10.6      78.0   \n",
       "2020-12-07 22:00:00     14087             32        10.6      83.0   \n",
       "2020-12-07 23:00:00     12907             32        10.6      90.0   \n",
       "\n",
       "                     average-wind-speed-(period)  average-pressure-(period)  \\\n",
       "Datetime                                                                      \n",
       "2018-01-05 00:00:00                          NaN                        NaN   \n",
       "2018-01-05 01:00:00                          NaN                        NaN   \n",
       "2018-01-05 02:00:00                          NaN                        NaN   \n",
       "2018-01-05 03:00:00                          NaN                        NaN   \n",
       "2018-01-05 04:00:00                          NaN                        NaN   \n",
       "...                                          ...                        ...   \n",
       "2020-12-07 19:00:00                         21.0                      29.75   \n",
       "2020-12-07 20:00:00                         20.0                      29.86   \n",
       "2020-12-07 21:00:00                          7.0                      29.96   \n",
       "2020-12-07 22:00:00                          5.0                      29.99   \n",
       "2020-12-07 23:00:00                          3.0                      30.02   \n",
       "\n",
       "                     temperature  \n",
       "Datetime                          \n",
       "2018-01-05 00:00:00          NaN  \n",
       "2018-01-05 01:00:00          NaN  \n",
       "2018-01-05 02:00:00          NaN  \n",
       "2018-01-05 03:00:00          NaN  \n",
       "2018-01-05 04:00:00          NaN  \n",
       "...                          ...  \n",
       "2020-12-07 19:00:00         58.0  \n",
       "2020-12-07 20:00:00         58.0  \n",
       "2020-12-07 21:00:00         58.0  \n",
       "2020-12-07 22:00:00         58.0  \n",
       "2020-12-07 23:00:00         58.0  \n",
       "\n",
       "[20000 rows x 7 columns]"
      ]
     },
     "execution_count": 7,
     "metadata": {},
     "output_type": "execute_result"
    }
   ],
   "source": [
    "df[\"Datetime\"] = pd.to_datetime(df[\"Datetime\"], format='mixed')\n",
    "df.set_index(keys=[\"Datetime\"], inplace=True)\n",
    "df.sort_index(inplace=True)\n",
    "df"
   ]
  },
  {
   "cell_type": "code",
   "execution_count": 8,
   "id": "4ac40468-1d3c-4fec-9b13-98e0fc309e64",
   "metadata": {},
   "outputs": [
    {
     "data": {
      "text/plain": [
       "solar_mw                           0\n",
       "wind-direction                 17080\n",
       "wind-speed                     17080\n",
       "humidity                       17080\n",
       "average-wind-speed-(period)    17081\n",
       "average-pressure-(period)      17080\n",
       "temperature                    17080\n",
       "dtype: int64"
      ]
     },
     "execution_count": 8,
     "metadata": {},
     "output_type": "execute_result"
    }
   ],
   "source": [
    "df.isnull().sum()"
   ]
  },
  {
   "cell_type": "code",
   "execution_count": 9,
   "id": "d6c19513-c51c-4043-aad0-65f5f0572f46",
   "metadata": {},
   "outputs": [],
   "source": [
    "features = ['wind-direction', 'wind-speed',\t'humidity', 'average-wind-speed-(period)', 'average-pressure-(period)',\t'temperature']\n",
    "target = \"solar_mw\""
   ]
  },
  {
   "cell_type": "code",
   "execution_count": 10,
   "id": "2b4894de-ed02-4f97-ac76-4c8f93586556",
   "metadata": {},
   "outputs": [
    {
     "name": "stderr",
     "output_type": "stream",
     "text": [
      "C:\\Users\\spase\\AppData\\Local\\Temp\\ipykernel_11764\\2750109340.py:2: FutureWarning: Series.interpolate with object dtype is deprecated and will raise in a future version. Call obj.infer_objects(copy=False) before interpolating instead.\n",
      "  df[feature] = df[feature].interpolate(method=\"linear\")\n"
     ]
    }
   ],
   "source": [
    "for feature in features:\n",
    "    df[feature] = df[feature].interpolate(method=\"linear\")"
   ]
  },
  {
   "cell_type": "code",
   "execution_count": 11,
   "id": "210f9134-55e4-4d3c-9fcc-462bc1790874",
   "metadata": {},
   "outputs": [
    {
     "data": {
      "text/plain": [
       "solar_mw                           0\n",
       "wind-direction                 17080\n",
       "wind-speed                     14960\n",
       "humidity                       14960\n",
       "average-wind-speed-(period)    14960\n",
       "average-pressure-(period)      14960\n",
       "temperature                    14960\n",
       "dtype: int64"
      ]
     },
     "execution_count": 11,
     "metadata": {},
     "output_type": "execute_result"
    }
   ],
   "source": [
    "df.isnull().sum()"
   ]
  },
  {
   "cell_type": "code",
   "execution_count": 12,
   "id": "0ae8fb68-e534-4121-9bea-7560cb778cb8",
   "metadata": {},
   "outputs": [],
   "source": [
    "for feature in features:\n",
    "    df[feature] = df[feature].bfill()"
   ]
  },
  {
   "cell_type": "code",
   "execution_count": 13,
   "id": "668fc199-46c2-4535-ba93-a4a3f91ae512",
   "metadata": {},
   "outputs": [
    {
     "data": {
      "text/plain": [
       "solar_mw                       0\n",
       "wind-direction                 0\n",
       "wind-speed                     0\n",
       "humidity                       0\n",
       "average-wind-speed-(period)    0\n",
       "average-pressure-(period)      0\n",
       "temperature                    0\n",
       "dtype: int64"
      ]
     },
     "execution_count": 13,
     "metadata": {},
     "output_type": "execute_result"
    }
   ],
   "source": [
    "df.isnull().sum()"
   ]
  },
  {
   "cell_type": "code",
   "execution_count": 16,
   "id": "b903d315-dd28-4e1a-b0f1-f20139021a7e",
   "metadata": {},
   "outputs": [
    {
     "data": {
      "text/plain": [
       "array(['29', '30', '27', '28', '26', '31', '32', '15', '12', '24', '17',\n",
       "       '7', '19', '14', '10', '6', '33', '18', '20', 'am', '3', '21',\n",
       "       '16', '23', '9', '5', '34', '36', '25', '1', '4', '8', '11', '13',\n",
       "       '2', '22'], dtype=object)"
      ]
     },
     "execution_count": 16,
     "metadata": {},
     "output_type": "execute_result"
    }
   ],
   "source": [
    "df['wind-direction'].unique()"
   ]
  },
  {
   "cell_type": "code",
   "execution_count": 17,
   "id": "9f6a96e9-2e09-4dd2-9cf7-20b30f1413fa",
   "metadata": {},
   "outputs": [],
   "source": [
    "from sklearn.preprocessing import LabelEncoder\n",
    "encoder = LabelEncoder()\n",
    "df['wind-direction'] = encoder.fit_transform(df['wind-direction'])"
   ]
  },
  {
   "cell_type": "code",
   "execution_count": 18,
   "id": "5412c0ff-7084-4029-9d8e-fc08c1a450c7",
   "metadata": {},
   "outputs": [
    {
     "data": {
      "text/html": [
       "<div>\n",
       "<style scoped>\n",
       "    .dataframe tbody tr th:only-of-type {\n",
       "        vertical-align: middle;\n",
       "    }\n",
       "\n",
       "    .dataframe tbody tr th {\n",
       "        vertical-align: top;\n",
       "    }\n",
       "\n",
       "    .dataframe thead th {\n",
       "        text-align: right;\n",
       "    }\n",
       "</style>\n",
       "<table border=\"1\" class=\"dataframe\">\n",
       "  <thead>\n",
       "    <tr style=\"text-align: right;\">\n",
       "      <th></th>\n",
       "      <th>solar_mw</th>\n",
       "      <th>wind-direction</th>\n",
       "      <th>wind-speed</th>\n",
       "      <th>humidity</th>\n",
       "      <th>average-wind-speed-(period)</th>\n",
       "      <th>average-pressure-(period)</th>\n",
       "      <th>temperature</th>\n",
       "    </tr>\n",
       "    <tr>\n",
       "      <th>Datetime</th>\n",
       "      <th></th>\n",
       "      <th></th>\n",
       "      <th></th>\n",
       "      <th></th>\n",
       "      <th></th>\n",
       "      <th></th>\n",
       "      <th></th>\n",
       "    </tr>\n",
       "  </thead>\n",
       "  <tbody>\n",
       "    <tr>\n",
       "      <th>2018-01-05 00:00:00</th>\n",
       "      <td>7721.666667</td>\n",
       "      <td>21.0</td>\n",
       "      <td>10.5</td>\n",
       "      <td>81.000000</td>\n",
       "      <td>8.000000</td>\n",
       "      <td>29.940000</td>\n",
       "      <td>62.0</td>\n",
       "    </tr>\n",
       "    <tr>\n",
       "      <th>2018-01-05 03:00:00</th>\n",
       "      <td>7162.666667</td>\n",
       "      <td>21.0</td>\n",
       "      <td>10.5</td>\n",
       "      <td>81.000000</td>\n",
       "      <td>8.000000</td>\n",
       "      <td>29.940000</td>\n",
       "      <td>62.0</td>\n",
       "    </tr>\n",
       "    <tr>\n",
       "      <th>2018-01-05 06:00:00</th>\n",
       "      <td>7567.000000</td>\n",
       "      <td>21.0</td>\n",
       "      <td>10.5</td>\n",
       "      <td>81.000000</td>\n",
       "      <td>8.000000</td>\n",
       "      <td>29.940000</td>\n",
       "      <td>62.0</td>\n",
       "    </tr>\n",
       "    <tr>\n",
       "      <th>2018-01-05 09:00:00</th>\n",
       "      <td>8784.000000</td>\n",
       "      <td>21.0</td>\n",
       "      <td>10.5</td>\n",
       "      <td>81.000000</td>\n",
       "      <td>8.000000</td>\n",
       "      <td>29.940000</td>\n",
       "      <td>62.0</td>\n",
       "    </tr>\n",
       "    <tr>\n",
       "      <th>2018-01-05 12:00:00</th>\n",
       "      <td>9046.333333</td>\n",
       "      <td>21.0</td>\n",
       "      <td>10.5</td>\n",
       "      <td>81.000000</td>\n",
       "      <td>8.000000</td>\n",
       "      <td>29.940000</td>\n",
       "      <td>62.0</td>\n",
       "    </tr>\n",
       "    <tr>\n",
       "      <th>...</th>\n",
       "      <td>...</td>\n",
       "      <td>...</td>\n",
       "      <td>...</td>\n",
       "      <td>...</td>\n",
       "      <td>...</td>\n",
       "      <td>...</td>\n",
       "      <td>...</td>\n",
       "    </tr>\n",
       "    <tr>\n",
       "      <th>2020-12-07 09:00:00</th>\n",
       "      <td>12665.000000</td>\n",
       "      <td>19.0</td>\n",
       "      <td>13.3</td>\n",
       "      <td>70.000000</td>\n",
       "      <td>16.333333</td>\n",
       "      <td>30.163333</td>\n",
       "      <td>55.0</td>\n",
       "    </tr>\n",
       "    <tr>\n",
       "      <th>2020-12-07 12:00:00</th>\n",
       "      <td>14748.000000</td>\n",
       "      <td>19.0</td>\n",
       "      <td>13.3</td>\n",
       "      <td>68.000000</td>\n",
       "      <td>14.000000</td>\n",
       "      <td>30.103333</td>\n",
       "      <td>55.0</td>\n",
       "    </tr>\n",
       "    <tr>\n",
       "      <th>2020-12-07 15:00:00</th>\n",
       "      <td>15940.333333</td>\n",
       "      <td>23.0</td>\n",
       "      <td>12.4</td>\n",
       "      <td>83.000000</td>\n",
       "      <td>8.333333</td>\n",
       "      <td>29.976667</td>\n",
       "      <td>56.0</td>\n",
       "    </tr>\n",
       "    <tr>\n",
       "      <th>2020-12-07 18:00:00</th>\n",
       "      <td>15849.333333</td>\n",
       "      <td>25.0</td>\n",
       "      <td>10.6</td>\n",
       "      <td>83.000000</td>\n",
       "      <td>18.000000</td>\n",
       "      <td>29.820000</td>\n",
       "      <td>58.0</td>\n",
       "    </tr>\n",
       "    <tr>\n",
       "      <th>2020-12-07 21:00:00</th>\n",
       "      <td>13875.666667</td>\n",
       "      <td>25.0</td>\n",
       "      <td>10.6</td>\n",
       "      <td>83.666667</td>\n",
       "      <td>5.000000</td>\n",
       "      <td>29.990000</td>\n",
       "      <td>58.0</td>\n",
       "    </tr>\n",
       "  </tbody>\n",
       "</table>\n",
       "<p>8544 rows × 7 columns</p>\n",
       "</div>"
      ],
      "text/plain": [
       "                         solar_mw  wind-direction  wind-speed   humidity  \\\n",
       "Datetime                                                                   \n",
       "2018-01-05 00:00:00   7721.666667            21.0        10.5  81.000000   \n",
       "2018-01-05 03:00:00   7162.666667            21.0        10.5  81.000000   \n",
       "2018-01-05 06:00:00   7567.000000            21.0        10.5  81.000000   \n",
       "2018-01-05 09:00:00   8784.000000            21.0        10.5  81.000000   \n",
       "2018-01-05 12:00:00   9046.333333            21.0        10.5  81.000000   \n",
       "...                           ...             ...         ...        ...   \n",
       "2020-12-07 09:00:00  12665.000000            19.0        13.3  70.000000   \n",
       "2020-12-07 12:00:00  14748.000000            19.0        13.3  68.000000   \n",
       "2020-12-07 15:00:00  15940.333333            23.0        12.4  83.000000   \n",
       "2020-12-07 18:00:00  15849.333333            25.0        10.6  83.000000   \n",
       "2020-12-07 21:00:00  13875.666667            25.0        10.6  83.666667   \n",
       "\n",
       "                     average-wind-speed-(period)  average-pressure-(period)  \\\n",
       "Datetime                                                                      \n",
       "2018-01-05 00:00:00                     8.000000                  29.940000   \n",
       "2018-01-05 03:00:00                     8.000000                  29.940000   \n",
       "2018-01-05 06:00:00                     8.000000                  29.940000   \n",
       "2018-01-05 09:00:00                     8.000000                  29.940000   \n",
       "2018-01-05 12:00:00                     8.000000                  29.940000   \n",
       "...                                          ...                        ...   \n",
       "2020-12-07 09:00:00                    16.333333                  30.163333   \n",
       "2020-12-07 12:00:00                    14.000000                  30.103333   \n",
       "2020-12-07 15:00:00                     8.333333                  29.976667   \n",
       "2020-12-07 18:00:00                    18.000000                  29.820000   \n",
       "2020-12-07 21:00:00                     5.000000                  29.990000   \n",
       "\n",
       "                     temperature  \n",
       "Datetime                          \n",
       "2018-01-05 00:00:00         62.0  \n",
       "2018-01-05 03:00:00         62.0  \n",
       "2018-01-05 06:00:00         62.0  \n",
       "2018-01-05 09:00:00         62.0  \n",
       "2018-01-05 12:00:00         62.0  \n",
       "...                          ...  \n",
       "2020-12-07 09:00:00         55.0  \n",
       "2020-12-07 12:00:00         55.0  \n",
       "2020-12-07 15:00:00         56.0  \n",
       "2020-12-07 18:00:00         58.0  \n",
       "2020-12-07 21:00:00         58.0  \n",
       "\n",
       "[8544 rows x 7 columns]"
      ]
     },
     "execution_count": 18,
     "metadata": {},
     "output_type": "execute_result"
    }
   ],
   "source": [
    "df = df.groupby(pd.Grouper(freq=\"3h\")).mean()\n",
    "df"
   ]
  },
  {
   "cell_type": "code",
   "execution_count": 19,
   "id": "2bdcf31e-8285-4200-b94a-faef40a65ad9",
   "metadata": {},
   "outputs": [],
   "source": [
    "import seaborn as sns"
   ]
  },
  {
   "cell_type": "code",
   "execution_count": 20,
   "id": "fddf303e-06c0-4f54-af11-c45f84a71401",
   "metadata": {},
   "outputs": [
    {
     "data": {
      "text/plain": [
       "<Axes: >"
      ]
     },
     "execution_count": 20,
     "metadata": {},
     "output_type": "execute_result"
    },
    {
     "data": {
      "image/png": "[encoded data removed]",
      "text/plain": [
       "<Figure size 640x480 with 2 Axes>"
      ]
     },
     "metadata": {},
     "output_type": "display_data"
    }
   ],
   "source": [
    "sns.heatmap(df.corr(), annot=True, fmt=\".2f\")"
   ]
  },
  {
   "cell_type": "code",
   "execution_count": 21,
   "id": "abeca57a-fc61-4725-9b47-577bc258fa1a",
   "metadata": {},
   "outputs": [
    {
     "data": {
      "text/plain": [
       "[5, 4, 3, 2, 1]"
      ]
     },
     "execution_count": 21,
     "metadata": {},
     "output_type": "execute_result"
    }
   ],
   "source": [
    "lags = range(5, 0, -1)\n",
    "list(lags)"
   ]
  },
  {
   "cell_type": "code",
   "execution_count": 22,
   "id": "135342fc-0f46-4ef0-87b0-90207843d91b",
   "metadata": {},
   "outputs": [
    {
     "data": {
      "text/html": [
       "<div>\n",
       "<style scoped>\n",
       "    .dataframe tbody tr th:only-of-type {\n",
       "        vertical-align: middle;\n",
       "    }\n",
       "\n",
       "    .dataframe tbody tr th {\n",
       "        vertical-align: top;\n",
       "    }\n",
       "\n",
       "    .dataframe thead th {\n",
       "        text-align: right;\n",
       "    }\n",
       "</style>\n",
       "<table border=\"1\" class=\"dataframe\">\n",
       "  <thead>\n",
       "    <tr style=\"text-align: right;\">\n",
       "      <th></th>\n",
       "      <th>solar_mw</th>\n",
       "      <th>wind-direction</th>\n",
       "      <th>wind-speed</th>\n",
       "      <th>humidity</th>\n",
       "      <th>average-wind-speed-(period)</th>\n",
       "      <th>average-pressure-(period)</th>\n",
       "      <th>temperature</th>\n",
       "      <th>wind-direction_5</th>\n",
       "      <th>wind-speed_5</th>\n",
       "      <th>humidity_5</th>\n",
       "      <th>...</th>\n",
       "      <th>average-pressure-(period)_2</th>\n",
       "      <th>temperature_2</th>\n",
       "      <th>solar_mw_2</th>\n",
       "      <th>wind-direction_1</th>\n",
       "      <th>wind-speed_1</th>\n",
       "      <th>humidity_1</th>\n",
       "      <th>average-wind-speed-(period)_1</th>\n",
       "      <th>average-pressure-(period)_1</th>\n",
       "      <th>temperature_1</th>\n",
       "      <th>solar_mw_1</th>\n",
       "    </tr>\n",
       "    <tr>\n",
       "      <th>Datetime</th>\n",
       "      <th></th>\n",
       "      <th></th>\n",
       "      <th></th>\n",
       "      <th></th>\n",
       "      <th></th>\n",
       "      <th></th>\n",
       "      <th></th>\n",
       "      <th></th>\n",
       "      <th></th>\n",
       "      <th></th>\n",
       "      <th></th>\n",
       "      <th></th>\n",
       "      <th></th>\n",
       "      <th></th>\n",
       "      <th></th>\n",
       "      <th></th>\n",
       "      <th></th>\n",
       "      <th></th>\n",
       "      <th></th>\n",
       "      <th></th>\n",
       "      <th></th>\n",
       "    </tr>\n",
       "  </thead>\n",
       "  <tbody>\n",
       "    <tr>\n",
       "      <th>2018-01-05 00:00:00</th>\n",
       "      <td>7721.666667</td>\n",
       "      <td>21.0</td>\n",
       "      <td>10.5</td>\n",
       "      <td>81.000000</td>\n",
       "      <td>8.000000</td>\n",
       "      <td>29.940000</td>\n",
       "      <td>62.0</td>\n",
       "      <td>NaN</td>\n",
       "      <td>NaN</td>\n",
       "      <td>NaN</td>\n",
       "      <td>...</td>\n",
       "      <td>NaN</td>\n",
       "      <td>NaN</td>\n",
       "      <td>NaN</td>\n",
       "      <td>NaN</td>\n",
       "      <td>NaN</td>\n",
       "      <td>NaN</td>\n",
       "      <td>NaN</td>\n",
       "      <td>NaN</td>\n",
       "      <td>NaN</td>\n",
       "      <td>NaN</td>\n",
       "    </tr>\n",
       "    <tr>\n",
       "      <th>2018-01-05 03:00:00</th>\n",
       "      <td>7162.666667</td>\n",
       "      <td>21.0</td>\n",
       "      <td>10.5</td>\n",
       "      <td>81.000000</td>\n",
       "      <td>8.000000</td>\n",
       "      <td>29.940000</td>\n",
       "      <td>62.0</td>\n",
       "      <td>NaN</td>\n",
       "      <td>NaN</td>\n",
       "      <td>NaN</td>\n",
       "      <td>...</td>\n",
       "      <td>NaN</td>\n",
       "      <td>NaN</td>\n",
       "      <td>NaN</td>\n",
       "      <td>21.0</td>\n",
       "      <td>10.5</td>\n",
       "      <td>81.0</td>\n",
       "      <td>8.000000</td>\n",
       "      <td>29.940000</td>\n",
       "      <td>62.0</td>\n",
       "      <td>7721.666667</td>\n",
       "    </tr>\n",
       "    <tr>\n",
       "      <th>2018-01-05 06:00:00</th>\n",
       "      <td>7567.000000</td>\n",
       "      <td>21.0</td>\n",
       "      <td>10.5</td>\n",
       "      <td>81.000000</td>\n",
       "      <td>8.000000</td>\n",
       "      <td>29.940000</td>\n",
       "      <td>62.0</td>\n",
       "      <td>NaN</td>\n",
       "      <td>NaN</td>\n",
       "      <td>NaN</td>\n",
       "      <td>...</td>\n",
       "      <td>29.940000</td>\n",
       "      <td>62.0</td>\n",
       "      <td>7721.666667</td>\n",
       "      <td>21.0</td>\n",
       "      <td>10.5</td>\n",
       "      <td>81.0</td>\n",
       "      <td>8.000000</td>\n",
       "      <td>29.940000</td>\n",
       "      <td>62.0</td>\n",
       "      <td>7162.666667</td>\n",
       "    </tr>\n",
       "    <tr>\n",
       "      <th>2018-01-05 09:00:00</th>\n",
       "      <td>8784.000000</td>\n",
       "      <td>21.0</td>\n",
       "      <td>10.5</td>\n",
       "      <td>81.000000</td>\n",
       "      <td>8.000000</td>\n",
       "      <td>29.940000</td>\n",
       "      <td>62.0</td>\n",
       "      <td>NaN</td>\n",
       "      <td>NaN</td>\n",
       "      <td>NaN</td>\n",
       "      <td>...</td>\n",
       "      <td>29.940000</td>\n",
       "      <td>62.0</td>\n",
       "      <td>7162.666667</td>\n",
       "      <td>21.0</td>\n",
       "      <td>10.5</td>\n",
       "      <td>81.0</td>\n",
       "      <td>8.000000</td>\n",
       "      <td>29.940000</td>\n",
       "      <td>62.0</td>\n",
       "      <td>7567.000000</td>\n",
       "    </tr>\n",
       "    <tr>\n",
       "      <th>2018-01-05 12:00:00</th>\n",
       "      <td>9046.333333</td>\n",
       "      <td>21.0</td>\n",
       "      <td>10.5</td>\n",
       "      <td>81.000000</td>\n",
       "      <td>8.000000</td>\n",
       "      <td>29.940000</td>\n",
       "      <td>62.0</td>\n",
       "      <td>NaN</td>\n",
       "      <td>NaN</td>\n",
       "      <td>NaN</td>\n",
       "      <td>...</td>\n",
       "      <td>29.940000</td>\n",
       "      <td>62.0</td>\n",
       "      <td>7567.000000</td>\n",
       "      <td>21.0</td>\n",
       "      <td>10.5</td>\n",
       "      <td>81.0</td>\n",
       "      <td>8.000000</td>\n",
       "      <td>29.940000</td>\n",
       "      <td>62.0</td>\n",
       "      <td>8784.000000</td>\n",
       "    </tr>\n",
       "    <tr>\n",
       "      <th>...</th>\n",
       "      <td>...</td>\n",
       "      <td>...</td>\n",
       "      <td>...</td>\n",
       "      <td>...</td>\n",
       "      <td>...</td>\n",
       "      <td>...</td>\n",
       "      <td>...</td>\n",
       "      <td>...</td>\n",
       "      <td>...</td>\n",
       "      <td>...</td>\n",
       "      <td>...</td>\n",
       "      <td>...</td>\n",
       "      <td>...</td>\n",
       "      <td>...</td>\n",
       "      <td>...</td>\n",
       "      <td>...</td>\n",
       "      <td>...</td>\n",
       "      <td>...</td>\n",
       "      <td>...</td>\n",
       "      <td>...</td>\n",
       "      <td>...</td>\n",
       "    </tr>\n",
       "    <tr>\n",
       "      <th>2020-12-07 09:00:00</th>\n",
       "      <td>12665.000000</td>\n",
       "      <td>19.0</td>\n",
       "      <td>13.3</td>\n",
       "      <td>70.000000</td>\n",
       "      <td>16.333333</td>\n",
       "      <td>30.163333</td>\n",
       "      <td>55.0</td>\n",
       "      <td>27.0</td>\n",
       "      <td>1.900000</td>\n",
       "      <td>34.333333</td>\n",
       "      <td>...</td>\n",
       "      <td>30.256667</td>\n",
       "      <td>53.0</td>\n",
       "      <td>9791.666667</td>\n",
       "      <td>19.0</td>\n",
       "      <td>3.8</td>\n",
       "      <td>82.0</td>\n",
       "      <td>3.000000</td>\n",
       "      <td>30.223333</td>\n",
       "      <td>53.0</td>\n",
       "      <td>10584.000000</td>\n",
       "    </tr>\n",
       "    <tr>\n",
       "      <th>2020-12-07 12:00:00</th>\n",
       "      <td>14748.000000</td>\n",
       "      <td>19.0</td>\n",
       "      <td>13.3</td>\n",
       "      <td>68.000000</td>\n",
       "      <td>14.000000</td>\n",
       "      <td>30.103333</td>\n",
       "      <td>55.0</td>\n",
       "      <td>27.0</td>\n",
       "      <td>1.900000</td>\n",
       "      <td>70.333333</td>\n",
       "      <td>...</td>\n",
       "      <td>30.223333</td>\n",
       "      <td>53.0</td>\n",
       "      <td>10584.000000</td>\n",
       "      <td>19.0</td>\n",
       "      <td>13.3</td>\n",
       "      <td>70.0</td>\n",
       "      <td>16.333333</td>\n",
       "      <td>30.163333</td>\n",
       "      <td>55.0</td>\n",
       "      <td>12665.000000</td>\n",
       "    </tr>\n",
       "    <tr>\n",
       "      <th>2020-12-07 15:00:00</th>\n",
       "      <td>15940.333333</td>\n",
       "      <td>23.0</td>\n",
       "      <td>12.4</td>\n",
       "      <td>83.000000</td>\n",
       "      <td>8.333333</td>\n",
       "      <td>29.976667</td>\n",
       "      <td>56.0</td>\n",
       "      <td>19.0</td>\n",
       "      <td>4.066667</td>\n",
       "      <td>60.666667</td>\n",
       "      <td>...</td>\n",
       "      <td>30.163333</td>\n",
       "      <td>55.0</td>\n",
       "      <td>12665.000000</td>\n",
       "      <td>19.0</td>\n",
       "      <td>13.3</td>\n",
       "      <td>68.0</td>\n",
       "      <td>14.000000</td>\n",
       "      <td>30.103333</td>\n",
       "      <td>55.0</td>\n",
       "      <td>14748.000000</td>\n",
       "    </tr>\n",
       "    <tr>\n",
       "      <th>2020-12-07 18:00:00</th>\n",
       "      <td>15849.333333</td>\n",
       "      <td>25.0</td>\n",
       "      <td>10.6</td>\n",
       "      <td>83.000000</td>\n",
       "      <td>18.000000</td>\n",
       "      <td>29.820000</td>\n",
       "      <td>58.0</td>\n",
       "      <td>19.0</td>\n",
       "      <td>3.800000</td>\n",
       "      <td>58.333333</td>\n",
       "      <td>...</td>\n",
       "      <td>30.103333</td>\n",
       "      <td>55.0</td>\n",
       "      <td>14748.000000</td>\n",
       "      <td>23.0</td>\n",
       "      <td>12.4</td>\n",
       "      <td>83.0</td>\n",
       "      <td>8.333333</td>\n",
       "      <td>29.976667</td>\n",
       "      <td>56.0</td>\n",
       "      <td>15940.333333</td>\n",
       "    </tr>\n",
       "    <tr>\n",
       "      <th>2020-12-07 21:00:00</th>\n",
       "      <td>13875.666667</td>\n",
       "      <td>25.0</td>\n",
       "      <td>10.6</td>\n",
       "      <td>83.666667</td>\n",
       "      <td>5.000000</td>\n",
       "      <td>29.990000</td>\n",
       "      <td>58.0</td>\n",
       "      <td>19.0</td>\n",
       "      <td>3.800000</td>\n",
       "      <td>82.000000</td>\n",
       "      <td>...</td>\n",
       "      <td>29.976667</td>\n",
       "      <td>56.0</td>\n",
       "      <td>15940.333333</td>\n",
       "      <td>25.0</td>\n",
       "      <td>10.6</td>\n",
       "      <td>83.0</td>\n",
       "      <td>18.000000</td>\n",
       "      <td>29.820000</td>\n",
       "      <td>58.0</td>\n",
       "      <td>15849.333333</td>\n",
       "    </tr>\n",
       "  </tbody>\n",
       "</table>\n",
       "<p>8544 rows × 42 columns</p>\n",
       "</div>"
      ],
      "text/plain": [
       "                         solar_mw  wind-direction  wind-speed   humidity  \\\n",
       "Datetime                                                                   \n",
       "2018-01-05 00:00:00   7721.666667            21.0        10.5  81.000000   \n",
       "2018-01-05 03:00:00   7162.666667            21.0        10.5  81.000000   \n",
       "2018-01-05 06:00:00   7567.000000            21.0        10.5  81.000000   \n",
       "2018-01-05 09:00:00   8784.000000            21.0        10.5  81.000000   \n",
       "2018-01-05 12:00:00   9046.333333            21.0        10.5  81.000000   \n",
       "...                           ...             ...         ...        ...   \n",
       "2020-12-07 09:00:00  12665.000000            19.0        13.3  70.000000   \n",
       "2020-12-07 12:00:00  14748.000000            19.0        13.3  68.000000   \n",
       "2020-12-07 15:00:00  15940.333333            23.0        12.4  83.000000   \n",
       "2020-12-07 18:00:00  15849.333333            25.0        10.6  83.000000   \n",
       "2020-12-07 21:00:00  13875.666667            25.0        10.6  83.666667   \n",
       "\n",
       "                     average-wind-speed-(period)  average-pressure-(period)  \\\n",
       "Datetime                                                                      \n",
       "2018-01-05 00:00:00                     8.000000                  29.940000   \n",
       "2018-01-05 03:00:00                     8.000000                  29.940000   \n",
       "2018-01-05 06:00:00                     8.000000                  29.940000   \n",
       "2018-01-05 09:00:00                     8.000000                  29.940000   \n",
       "2018-01-05 12:00:00                     8.000000                  29.940000   \n",
       "...                                          ...                        ...   \n",
       "2020-12-07 09:00:00                    16.333333                  30.163333   \n",
       "2020-12-07 12:00:00                    14.000000                  30.103333   \n",
       "2020-12-07 15:00:00                     8.333333                  29.976667   \n",
       "2020-12-07 18:00:00                    18.000000                  29.820000   \n",
       "2020-12-07 21:00:00                     5.000000                  29.990000   \n",
       "\n",
       "                     temperature  wind-direction_5  wind-speed_5  humidity_5  \\\n",
       "Datetime                                                                       \n",
       "2018-01-05 00:00:00         62.0               NaN           NaN         NaN   \n",
       "2018-01-05 03:00:00         62.0               NaN           NaN         NaN   \n",
       "2018-01-05 06:00:00         62.0               NaN           NaN         NaN   \n",
       "2018-01-05 09:00:00         62.0               NaN           NaN         NaN   \n",
       "2018-01-05 12:00:00         62.0               NaN           NaN         NaN   \n",
       "...                          ...               ...           ...         ...   \n",
       "2020-12-07 09:00:00         55.0              27.0      1.900000   34.333333   \n",
       "2020-12-07 12:00:00         55.0              27.0      1.900000   70.333333   \n",
       "2020-12-07 15:00:00         56.0              19.0      4.066667   60.666667   \n",
       "2020-12-07 18:00:00         58.0              19.0      3.800000   58.333333   \n",
       "2020-12-07 21:00:00         58.0              19.0      3.800000   82.000000   \n",
       "\n",
       "                     ...  average-pressure-(period)_2  temperature_2  \\\n",
       "Datetime             ...                                               \n",
       "2018-01-05 00:00:00  ...                          NaN            NaN   \n",
       "2018-01-05 03:00:00  ...                          NaN            NaN   \n",
       "2018-01-05 06:00:00  ...                    29.940000           62.0   \n",
       "2018-01-05 09:00:00  ...                    29.940000           62.0   \n",
       "2018-01-05 12:00:00  ...                    29.940000           62.0   \n",
       "...                  ...                          ...            ...   \n",
       "2020-12-07 09:00:00  ...                    30.256667           53.0   \n",
       "2020-12-07 12:00:00  ...                    30.223333           53.0   \n",
       "2020-12-07 15:00:00  ...                    30.163333           55.0   \n",
       "2020-12-07 18:00:00  ...                    30.103333           55.0   \n",
       "2020-12-07 21:00:00  ...                    29.976667           56.0   \n",
       "\n",
       "                       solar_mw_2  wind-direction_1  wind-speed_1  humidity_1  \\\n",
       "Datetime                                                                        \n",
       "2018-01-05 00:00:00           NaN               NaN           NaN         NaN   \n",
       "2018-01-05 03:00:00           NaN              21.0          10.5        81.0   \n",
       "2018-01-05 06:00:00   7721.666667              21.0          10.5        81.0   \n",
       "2018-01-05 09:00:00   7162.666667              21.0          10.5        81.0   \n",
       "2018-01-05 12:00:00   7567.000000              21.0          10.5        81.0   \n",
       "...                           ...               ...           ...         ...   \n",
       "2020-12-07 09:00:00   9791.666667              19.0           3.8        82.0   \n",
       "2020-12-07 12:00:00  10584.000000              19.0          13.3        70.0   \n",
       "2020-12-07 15:00:00  12665.000000              19.0          13.3        68.0   \n",
       "2020-12-07 18:00:00  14748.000000              23.0          12.4        83.0   \n",
       "2020-12-07 21:00:00  15940.333333              25.0          10.6        83.0   \n",
       "\n",
       "                     average-wind-speed-(period)_1  \\\n",
       "Datetime                                             \n",
       "2018-01-05 00:00:00                            NaN   \n",
       "2018-01-05 03:00:00                       8.000000   \n",
       "2018-01-05 06:00:00                       8.000000   \n",
       "2018-01-05 09:00:00                       8.000000   \n",
       "2018-01-05 12:00:00                       8.000000   \n",
       "...                                            ...   \n",
       "2020-12-07 09:00:00                       3.000000   \n",
       "2020-12-07 12:00:00                      16.333333   \n",
       "2020-12-07 15:00:00                      14.000000   \n",
       "2020-12-07 18:00:00                       8.333333   \n",
       "2020-12-07 21:00:00                      18.000000   \n",
       "\n",
       "                     average-pressure-(period)_1  temperature_1    solar_mw_1  \n",
       "Datetime                                                                       \n",
       "2018-01-05 00:00:00                          NaN            NaN           NaN  \n",
       "2018-01-05 03:00:00                    29.940000           62.0   7721.666667  \n",
       "2018-01-05 06:00:00                    29.940000           62.0   7162.666667  \n",
       "2018-01-05 09:00:00                    29.940000           62.0   7567.000000  \n",
       "2018-01-05 12:00:00                    29.940000           62.0   8784.000000  \n",
       "...                                          ...            ...           ...  \n",
       "2020-12-07 09:00:00                    30.223333           53.0  10584.000000  \n",
       "2020-12-07 12:00:00                    30.163333           55.0  12665.000000  \n",
       "2020-12-07 15:00:00                    30.103333           55.0  14748.000000  \n",
       "2020-12-07 18:00:00                    29.976667           56.0  15940.333333  \n",
       "2020-12-07 21:00:00                    29.820000           58.0  15849.333333  \n",
       "\n",
       "[8544 rows x 42 columns]"
      ]
     },
     "execution_count": 22,
     "metadata": {},
     "output_type": "execute_result"
    }
   ],
   "source": [
    "for lag in lags:\n",
    "    for column in features + [target]:\n",
    "        df[f\"{column}_{lag}\"] = df[column].shift(lag)\n",
    "df"
   ]
  },
  {
   "cell_type": "code",
   "execution_count": 23,
   "id": "04394c16-c2ec-4410-ad60-12ac75fa1a9f",
   "metadata": {},
   "outputs": [],
   "source": [
    "df.drop(columns=features, inplace=True)"
   ]
  },
  {
   "cell_type": "code",
   "execution_count": 24,
   "id": "cd7f9d00-8631-47e7-b300-ddb51d5d0f33",
   "metadata": {},
   "outputs": [],
   "source": [
    "df.dropna(axis=0, inplace=True)"
   ]
  },
  {
   "cell_type": "code",
   "execution_count": 25,
   "id": "bfbd649c-4d73-4ed0-9fb1-65140043b3ce",
   "metadata": {},
   "outputs": [],
   "source": [
    "from sklearn.model_selection import train_test_split"
   ]
  },
  {
   "cell_type": "code",
   "execution_count": 26,
   "id": "92fe9e72-77f1-4fcb-8e66-2710ce8316b5",
   "metadata": {},
   "outputs": [],
   "source": [
    "X, y = df.drop(columns=[target]), df[target]"
   ]
  },
  {
   "cell_type": "code",
   "execution_count": 27,
   "id": "4c0682ef-33c6-45df-ac7b-df0377cfc24f",
   "metadata": {},
   "outputs": [],
   "source": [
    "train_X, test_X, train_y, test_y = train_test_split(X, y, test_size=0.20, shuffle=False)"
   ]
  },
  {
   "cell_type": "code",
   "execution_count": 28,
   "id": "73434c0d-5e69-41ea-bf91-d5d74d13d76c",
   "metadata": {},
   "outputs": [],
   "source": [
    "from sklearn.preprocessing import MinMaxScaler"
   ]
  },
  {
   "cell_type": "code",
   "execution_count": 29,
   "id": "92035ff7-5d20-43b3-85b6-ec45a96c5680",
   "metadata": {},
   "outputs": [],
   "source": [
    "scaler = MinMaxScaler()\n",
    "train_X = scaler.fit_transform(train_X)\n",
    "test_X = scaler.transform(test_X)"
   ]
  },
  {
   "cell_type": "code",
   "execution_count": 30,
   "id": "8cc7a830-625b-4115-b430-d0ee3d972318",
   "metadata": {},
   "outputs": [],
   "source": [
    "scaler = MinMaxScaler()\n",
    "train_y = scaler.fit_transform(train_y.to_numpy().reshape(-1, 1))"
   ]
  },
  {
   "cell_type": "code",
   "execution_count": 31,
   "id": "e5caf595-e1c4-480e-8f54-819da72002f3",
   "metadata": {},
   "outputs": [
    {
     "data": {
      "text/plain": [
       "(5234, 5, 7)"
      ]
     },
     "execution_count": 31,
     "metadata": {},
     "output_type": "execute_result"
    }
   ],
   "source": [
    "lag = 5\n",
    "(train_X.shape[0], lag, (train_X.shape[1] // lag))"
   ]
  },
  {
   "cell_type": "code",
   "execution_count": 32,
   "id": "fd02d257-21fe-4091-b133-68fb4256be22",
   "metadata": {},
   "outputs": [],
   "source": [
    "train_X = train_X.reshape((train_X.shape[0], lag, (train_X.shape[1] // lag)))\n",
    "test_X = test_X.reshape((test_X.shape[0], lag, (test_X.shape[1] // lag)))"
   ]
  },
  {
   "cell_type": "code",
   "execution_count": 33,
   "id": "f7bf18b6-9d18-4745-9647-acabddee1b4e",
   "metadata": {},
   "outputs": [],
   "source": [
    "from keras.models import Sequential\n",
    "from keras.layers import Input, LSTM, Dense"
   ]
  },
  {
   "cell_type": "code",
   "execution_count": 39,
   "id": "2c47c87c-8eff-4a3d-a847-c205ba48348c",
   "metadata": {},
   "outputs": [],
   "source": [
    "model = Sequential([\n",
    "    Input((train_X.shape[1], train_X.shape[2],)),\n",
    "    LSTM(64, activation=\"relu\", return_sequences=True),\n",
    "    LSTM(32, activation=\"relu\", return_sequences=True),\n",
    "    LSTM(16, activation=\"relu\"),\n",
    "    Dense(1, activation=\"linear\")\n",
    "])"
   ]
  },
  {
   "cell_type": "code",
   "execution_count": 40,
   "id": "33615793-95f0-4e3a-9025-92b8b9a40773",
   "metadata": {},
   "outputs": [
    {
     "data": {
      "text/html": [
       "<pre style=\"white-space:pre;overflow-x:auto;line-height:normal;font-family:Menlo,'DejaVu Sans Mono',consolas,'Courier New',monospace\"><span style=\"font-weight: bold\">Model: \"sequential_1\"</span>\n",
       "</pre>\n"
      ],
      "text/plain": [
       "\u001b[1mModel: \"sequential_1\"\u001b[0m\n"
      ]
     },
     "metadata": {},
     "output_type": "display_data"
    },
    {
     "data": {
      "text/html": [
       "<pre style=\"white-space:pre;overflow-x:auto;line-height:normal;font-family:Menlo,'DejaVu Sans Mono',consolas,'Courier New',monospace\">┏━━━━━━━━━━━━━━━━━━━━━━━━━━━━━━━━━━━━━━┳━━━━━━━━━━━━━━━━━━━━━━━━━━━━━┳━━━━━━━━━━━━━━━━━┓\n",
       "┃<span style=\"font-weight: bold\"> Layer (type)                         </span>┃<span style=\"font-weight: bold\"> Output Shape                </span>┃<span style=\"font-weight: bold\">         Param # </span>┃\n",
       "┡━━━━━━━━━━━━━━━━━━━━━━━━━━━━━━━━━━━━━━╇━━━━━━━━━━━━━━━━━━━━━━━━━━━━━╇━━━━━━━━━━━━━━━━━┩\n",
       "│ lstm_3 (<span style=\"color: #0087ff; text-decoration-color: #0087ff\">LSTM</span>)                        │ (<span style=\"color: #00d7ff; text-decoration-color: #00d7ff\">None</span>, <span style=\"color: #00af00; text-decoration-color: #00af00\">5</span>, <span style=\"color: #00af00; text-decoration-color: #00af00\">64</span>)               │          <span style=\"color: #00af00; text-decoration-color: #00af00\">18,432</span> │\n",
       "├──────────────────────────────────────┼─────────────────────────────┼─────────────────┤\n",
       "│ lstm_4 (<span style=\"color: #0087ff; text-decoration-color: #0087ff\">LSTM</span>)                        │ (<span style=\"color: #00d7ff; text-decoration-color: #00d7ff\">None</span>, <span style=\"color: #00af00; text-decoration-color: #00af00\">5</span>, <span style=\"color: #00af00; text-decoration-color: #00af00\">32</span>)               │          <span style=\"color: #00af00; text-decoration-color: #00af00\">12,416</span> │\n",
       "├──────────────────────────────────────┼─────────────────────────────┼─────────────────┤\n",
       "│ lstm_5 (<span style=\"color: #0087ff; text-decoration-color: #0087ff\">LSTM</span>)                        │ (<span style=\"color: #00d7ff; text-decoration-color: #00d7ff\">None</span>, <span style=\"color: #00af00; text-decoration-color: #00af00\">16</span>)                  │           <span style=\"color: #00af00; text-decoration-color: #00af00\">3,136</span> │\n",
       "├──────────────────────────────────────┼─────────────────────────────┼─────────────────┤\n",
       "│ dense_1 (<span style=\"color: #0087ff; text-decoration-color: #0087ff\">Dense</span>)                      │ (<span style=\"color: #00d7ff; text-decoration-color: #00d7ff\">None</span>, <span style=\"color: #00af00; text-decoration-color: #00af00\">1</span>)                   │              <span style=\"color: #00af00; text-decoration-color: #00af00\">17</span> │\n",
       "└──────────────────────────────────────┴─────────────────────────────┴─────────────────┘\n",
       "</pre>\n"
      ],
      "text/plain": [
       "┏━━━━━━━━━━━━━━━━━━━━━━━━━━━━━━━━━━━━━━┳━━━━━━━━━━━━━━━━━━━━━━━━━━━━━┳━━━━━━━━━━━━━━━━━┓\n",
       "┃\u001b[1m \u001b[0m\u001b[1mLayer (type)                        \u001b[0m\u001b[1m \u001b[0m┃\u001b[1m \u001b[0m\u001b[1mOutput Shape               \u001b[0m\u001b[1m \u001b[0m┃\u001b[1m \u001b[0m\u001b[1m        Param #\u001b[0m\u001b[1m \u001b[0m┃\n",
       "┡━━━━━━━━━━━━━━━━━━━━━━━━━━━━━━━━━━━━━━╇━━━━━━━━━━━━━━━━━━━━━━━━━━━━━╇━━━━━━━━━━━━━━━━━┩\n",
       "│ lstm_3 (\u001b[38;5;33mLSTM\u001b[0m)                        │ (\u001b[38;5;45mNone\u001b[0m, \u001b[38;5;34m5\u001b[0m, \u001b[38;5;34m64\u001b[0m)               │          \u001b[38;5;34m18,432\u001b[0m │\n",
       "├──────────────────────────────────────┼─────────────────────────────┼─────────────────┤\n",
       "│ lstm_4 (\u001b[38;5;33mLSTM\u001b[0m)                        │ (\u001b[38;5;45mNone\u001b[0m, \u001b[38;5;34m5\u001b[0m, \u001b[38;5;34m32\u001b[0m)               │          \u001b[38;5;34m12,416\u001b[0m │\n",
       "├──────────────────────────────────────┼─────────────────────────────┼─────────────────┤\n",
       "│ lstm_5 (\u001b[38;5;33mLSTM\u001b[0m)                        │ (\u001b[38;5;45mNone\u001b[0m, \u001b[38;5;34m16\u001b[0m)                  │           \u001b[38;5;34m3,136\u001b[0m │\n",
       "├──────────────────────────────────────┼─────────────────────────────┼─────────────────┤\n",
       "│ dense_1 (\u001b[38;5;33mDense\u001b[0m)                      │ (\u001b[38;5;45mNone\u001b[0m, \u001b[38;5;34m1\u001b[0m)                   │              \u001b[38;5;34m17\u001b[0m │\n",
       "└──────────────────────────────────────┴─────────────────────────────┴─────────────────┘\n"
      ]
     },
     "metadata": {},
     "output_type": "display_data"
    },
    {
     "data": {
      "text/html": [
       "<pre style=\"white-space:pre;overflow-x:auto;line-height:normal;font-family:Menlo,'DejaVu Sans Mono',consolas,'Courier New',monospace\"><span style=\"font-weight: bold\"> Total params: </span><span style=\"color: #00af00; text-decoration-color: #00af00\">34,001</span> (132.82 KB)\n",
       "</pre>\n"
      ],
      "text/plain": [
       "\u001b[1m Total params: \u001b[0m\u001b[38;5;34m34,001\u001b[0m (132.82 KB)\n"
      ]
     },
     "metadata": {},
     "output_type": "display_data"
    },
    {
     "data": {
      "text/html": [
       "<pre style=\"white-space:pre;overflow-x:auto;line-height:normal;font-family:Menlo,'DejaVu Sans Mono',consolas,'Courier New',monospace\"><span style=\"font-weight: bold\"> Trainable params: </span><span style=\"color: #00af00; text-decoration-color: #00af00\">34,001</span> (132.82 KB)\n",
       "</pre>\n"
      ],
      "text/plain": [
       "\u001b[1m Trainable params: \u001b[0m\u001b[38;5;34m34,001\u001b[0m (132.82 KB)\n"
      ]
     },
     "metadata": {},
     "output_type": "display_data"
    },
    {
     "data": {
      "text/html": [
       "<pre style=\"white-space:pre;overflow-x:auto;line-height:normal;font-family:Menlo,'DejaVu Sans Mono',consolas,'Courier New',monospace\"><span style=\"font-weight: bold\"> Non-trainable params: </span><span style=\"color: #00af00; text-decoration-color: #00af00\">0</span> (0.00 B)\n",
       "</pre>\n"
      ],
      "text/plain": [
       "\u001b[1m Non-trainable params: \u001b[0m\u001b[38;5;34m0\u001b[0m (0.00 B)\n"
      ]
     },
     "metadata": {},
     "output_type": "display_data"
    }
   ],
   "source": [
    "model.summary()"
   ]
  },
  {
   "cell_type": "code",
   "execution_count": 41,
   "id": "ad739ba1-7d07-44b3-b1d1-4968149649fd",
   "metadata": {},
   "outputs": [],
   "source": [
    "model.compile(\n",
    "    loss=\"mean_squared_error\",\n",
    "    optimizer=\"adam\",\n",
    "    metrics=[\"mean_squared_error\"],\n",
    ")"
   ]
  },
  {
   "cell_type": "code",
   "execution_count": 42,
   "id": "5db5c361-b473-4533-9018-4fed8b2b6408",
   "metadata": {},
   "outputs": [
    {
     "name": "stdout",
     "output_type": "stream",
     "text": [
      "Epoch 1/30\n",
      "\u001b[1m66/66\u001b[0m \u001b[32m━━━━━━━━━━━━━━━━━━━━\u001b[0m\u001b[37m\u001b[0m \u001b[1m5s\u001b[0m 23ms/step - loss: 0.0938 - mean_squared_error: 0.0938 - val_loss: 0.0329 - val_mean_squared_error: 0.0329\n",
      "Epoch 2/30\n",
      "\u001b[1m66/66\u001b[0m \u001b[32m━━━━━━━━━━━━━━━━━━━━\u001b[0m\u001b[37m\u001b[0m \u001b[1m1s\u001b[0m 15ms/step - loss: 0.0399 - mean_squared_error: 0.0399 - val_loss: 0.0309 - val_mean_squared_error: 0.0309\n",
      "Epoch 3/30\n",
      "\u001b[1m66/66\u001b[0m \u001b[32m━━━━━━━━━━━━━━━━━━━━\u001b[0m\u001b[37m\u001b[0m \u001b[1m1s\u001b[0m 15ms/step - loss: 0.0386 - mean_squared_error: 0.0386 - val_loss: 0.0296 - val_mean_squared_error: 0.0296\n",
      "Epoch 4/30\n",
      "\u001b[1m66/66\u001b[0m \u001b[32m━━━━━━━━━━━━━━━━━━━━\u001b[0m\u001b[37m\u001b[0m \u001b[1m1s\u001b[0m 14ms/step - loss: 0.0378 - mean_squared_error: 0.0378 - val_loss: 0.0286 - val_mean_squared_error: 0.0286\n",
      "Epoch 5/30\n",
      "\u001b[1m66/66\u001b[0m \u001b[32m━━━━━━━━━━━━━━━━━━━━\u001b[0m\u001b[37m\u001b[0m \u001b[1m1s\u001b[0m 16ms/step - loss: 0.0372 - mean_squared_error: 0.0372 - val_loss: 0.0278 - val_mean_squared_error: 0.0278\n",
      "Epoch 6/30\n",
      "\u001b[1m66/66\u001b[0m \u001b[32m━━━━━━━━━━━━━━━━━━━━\u001b[0m\u001b[37m\u001b[0m \u001b[1m1s\u001b[0m 14ms/step - loss: 0.0367 - mean_squared_error: 0.0367 - val_loss: 0.0270 - val_mean_squared_error: 0.0270\n",
      "Epoch 7/30\n",
      "\u001b[1m66/66\u001b[0m \u001b[32m━━━━━━━━━━━━━━━━━━━━\u001b[0m\u001b[37m\u001b[0m \u001b[1m1s\u001b[0m 16ms/step - loss: 0.0362 - mean_squared_error: 0.0362 - val_loss: 0.0264 - val_mean_squared_error: 0.0264\n",
      "Epoch 8/30\n",
      "\u001b[1m66/66\u001b[0m \u001b[32m━━━━━━━━━━━━━━━━━━━━\u001b[0m\u001b[37m\u001b[0m \u001b[1m1s\u001b[0m 14ms/step - loss: 0.0358 - mean_squared_error: 0.0358 - val_loss: 0.0257 - val_mean_squared_error: 0.0257\n",
      "Epoch 9/30\n",
      "\u001b[1m66/66\u001b[0m \u001b[32m━━━━━━━━━━━━━━━━━━━━\u001b[0m\u001b[37m\u001b[0m \u001b[1m1s\u001b[0m 13ms/step - loss: 0.0357 - mean_squared_error: 0.0357 - val_loss: 0.0257 - val_mean_squared_error: 0.0257\n",
      "Epoch 10/30\n",
      "\u001b[1m66/66\u001b[0m \u001b[32m━━━━━━━━━━━━━━━━━━━━\u001b[0m\u001b[37m\u001b[0m \u001b[1m1s\u001b[0m 14ms/step - loss: 0.0350 - mean_squared_error: 0.0350 - val_loss: 0.0246 - val_mean_squared_error: 0.0246\n",
      "Epoch 11/30\n",
      "\u001b[1m66/66\u001b[0m \u001b[32m━━━━━━━━━━━━━━━━━━━━\u001b[0m\u001b[37m\u001b[0m \u001b[1m1s\u001b[0m 15ms/step - loss: 0.0341 - mean_squared_error: 0.0341 - val_loss: 0.0220 - val_mean_squared_error: 0.0220\n",
      "Epoch 12/30\n",
      "\u001b[1m66/66\u001b[0m \u001b[32m━━━━━━━━━━━━━━━━━━━━\u001b[0m\u001b[37m\u001b[0m \u001b[1m1s\u001b[0m 15ms/step - loss: 0.0317 - mean_squared_error: 0.0317 - val_loss: 0.0220 - val_mean_squared_error: 0.0220\n",
      "Epoch 13/30\n",
      "\u001b[1m66/66\u001b[0m \u001b[32m━━━━━━━━━━━━━━━━━━━━\u001b[0m\u001b[37m\u001b[0m \u001b[1m1s\u001b[0m 15ms/step - loss: 0.0286 - mean_squared_error: 0.0286 - val_loss: 0.0150 - val_mean_squared_error: 0.0150\n",
      "Epoch 14/30\n",
      "\u001b[1m66/66\u001b[0m \u001b[32m━━━━━━━━━━━━━━━━━━━━\u001b[0m\u001b[37m\u001b[0m \u001b[1m1s\u001b[0m 15ms/step - loss: 0.0174 - mean_squared_error: 0.0174 - val_loss: 0.0174 - val_mean_squared_error: 0.0174\n",
      "Epoch 15/30\n",
      "\u001b[1m66/66\u001b[0m \u001b[32m━━━━━━━━━━━━━━━━━━━━\u001b[0m\u001b[37m\u001b[0m \u001b[1m1s\u001b[0m 15ms/step - loss: 0.0192 - mean_squared_error: 0.0192 - val_loss: 0.0122 - val_mean_squared_error: 0.0122\n",
      "Epoch 16/30\n",
      "\u001b[1m66/66\u001b[0m \u001b[32m━━━━━━━━━━━━━━━━━━━━\u001b[0m\u001b[37m\u001b[0m \u001b[1m1s\u001b[0m 13ms/step - loss: 0.0126 - mean_squared_error: 0.0126 - val_loss: 0.0114 - val_mean_squared_error: 0.0114\n",
      "Epoch 17/30\n",
      "\u001b[1m66/66\u001b[0m \u001b[32m━━━━━━━━━━━━━━━━━━━━\u001b[0m\u001b[37m\u001b[0m \u001b[1m1s\u001b[0m 15ms/step - loss: 0.0104 - mean_squared_error: 0.0104 - val_loss: 0.0100 - val_mean_squared_error: 0.0100\n",
      "Epoch 18/30\n",
      "\u001b[1m66/66\u001b[0m \u001b[32m━━━━━━━━━━━━━━━━━━━━\u001b[0m\u001b[37m\u001b[0m \u001b[1m1s\u001b[0m 15ms/step - loss: 0.0080 - mean_squared_error: 0.0080 - val_loss: 0.0095 - val_mean_squared_error: 0.0095\n",
      "Epoch 19/30\n",
      "\u001b[1m66/66\u001b[0m \u001b[32m━━━━━━━━━━━━━━━━━━━━\u001b[0m\u001b[37m\u001b[0m \u001b[1m1s\u001b[0m 15ms/step - loss: 0.0069 - mean_squared_error: 0.0069 - val_loss: 0.0093 - val_mean_squared_error: 0.0093\n",
      "Epoch 20/30\n",
      "\u001b[1m66/66\u001b[0m \u001b[32m━━━━━━━━━━━━━━━━━━━━\u001b[0m\u001b[37m\u001b[0m \u001b[1m1s\u001b[0m 15ms/step - loss: 0.0064 - mean_squared_error: 0.0064 - val_loss: 0.0092 - val_mean_squared_error: 0.0092\n",
      "Epoch 21/30\n",
      "\u001b[1m66/66\u001b[0m \u001b[32m━━━━━━━━━━━━━━━━━━━━\u001b[0m\u001b[37m\u001b[0m \u001b[1m1s\u001b[0m 14ms/step - loss: 0.0061 - mean_squared_error: 0.0061 - val_loss: 0.0092 - val_mean_squared_error: 0.0092\n",
      "Epoch 22/30\n",
      "\u001b[1m66/66\u001b[0m \u001b[32m━━━━━━━━━━━━━━━━━━━━\u001b[0m\u001b[37m\u001b[0m \u001b[1m1s\u001b[0m 15ms/step - loss: 0.0059 - mean_squared_error: 0.0059 - val_loss: 0.0090 - val_mean_squared_error: 0.0090\n",
      "Epoch 23/30\n",
      "\u001b[1m66/66\u001b[0m \u001b[32m━━━━━━━━━━━━━━━━━━━━\u001b[0m\u001b[37m\u001b[0m \u001b[1m1s\u001b[0m 15ms/step - loss: 0.0057 - mean_squared_error: 0.0057 - val_loss: 0.0089 - val_mean_squared_error: 0.0089\n",
      "Epoch 24/30\n",
      "\u001b[1m66/66\u001b[0m \u001b[32m━━━━━━━━━━━━━━━━━━━━\u001b[0m\u001b[37m\u001b[0m \u001b[1m1s\u001b[0m 15ms/step - loss: 0.0056 - mean_squared_error: 0.0056 - val_loss: 0.0089 - val_mean_squared_error: 0.0089\n",
      "Epoch 25/30\n",
      "\u001b[1m66/66\u001b[0m \u001b[32m━━━━━━━━━━━━━━━━━━━━\u001b[0m\u001b[37m\u001b[0m \u001b[1m1s\u001b[0m 15ms/step - loss: 0.0055 - mean_squared_error: 0.0055 - val_loss: 0.0089 - val_mean_squared_error: 0.0089\n",
      "Epoch 26/30\n",
      "\u001b[1m66/66\u001b[0m \u001b[32m━━━━━━━━━━━━━━━━━━━━\u001b[0m\u001b[37m\u001b[0m \u001b[1m1s\u001b[0m 14ms/step - loss: 0.0054 - mean_squared_error: 0.0054 - val_loss: 0.0089 - val_mean_squared_error: 0.0089\n",
      "Epoch 27/30\n",
      "\u001b[1m66/66\u001b[0m \u001b[32m━━━━━━━━━━━━━━━━━━━━\u001b[0m\u001b[37m\u001b[0m \u001b[1m1s\u001b[0m 15ms/step - loss: 0.0053 - mean_squared_error: 0.0053 - val_loss: 0.0089 - val_mean_squared_error: 0.0089\n",
      "Epoch 28/30\n",
      "\u001b[1m66/66\u001b[0m \u001b[32m━━━━━━━━━━━━━━━━━━━━\u001b[0m\u001b[37m\u001b[0m \u001b[1m1s\u001b[0m 15ms/step - loss: 0.0052 - mean_squared_error: 0.0052 - val_loss: 0.0089 - val_mean_squared_error: 0.0089\n",
      "Epoch 29/30\n",
      "\u001b[1m66/66\u001b[0m \u001b[32m━━━━━━━━━━━━━━━━━━━━\u001b[0m\u001b[37m\u001b[0m \u001b[1m1s\u001b[0m 14ms/step - loss: 0.0051 - mean_squared_error: 0.0051 - val_loss: 0.0089 - val_mean_squared_error: 0.0089\n",
      "Epoch 30/30\n",
      "\u001b[1m66/66\u001b[0m \u001b[32m━━━━━━━━━━━━━━━━━━━━\u001b[0m\u001b[37m\u001b[0m \u001b[1m1s\u001b[0m 15ms/step - loss: 0.0051 - mean_squared_error: 0.0051 - val_loss: 0.0089 - val_mean_squared_error: 0.0089\n"
     ]
    }
   ],
   "source": [
    "history = model.fit(train_X, train_y, validation_split=0.20, epochs=30, batch_size=64, shuffle=False)"
   ]
  },
  {
   "cell_type": "code",
   "execution_count": 43,
   "id": "8381b30e-f5fb-4fb6-9722-085b317c44c5",
   "metadata": {},
   "outputs": [
    {
     "data": {
      "text/plain": [
       "<Axes: >"
      ]
     },
     "execution_count": 43,
     "metadata": {},
     "output_type": "execute_result"
    },
    {
     "data": {
      "image/png": "[encoded data removed]",
      "text/plain": [
       "<Figure size 640x480 with 1 Axes>"
      ]
     },
     "metadata": {},
     "output_type": "display_data"
    }
   ],
   "source": [
    "sns.lineplot(history.history[\"loss\"], label=\"loss\")\n",
    "sns.lineplot(history.history[\"val_loss\"], label=\"val_loss\")"
   ]
  },
  {
   "cell_type": "code",
   "execution_count": 44,
   "id": "7af17ae1-5fa0-4146-a63b-3a74b80cd832",
   "metadata": {},
   "outputs": [
    {
     "name": "stdout",
     "output_type": "stream",
     "text": [
      "\u001b[1m41/41\u001b[0m \u001b[32m━━━━━━━━━━━━━━━━━━━━\u001b[0m\u001b[37m\u001b[0m \u001b[1m1s\u001b[0m 16ms/step\n"
     ]
    }
   ],
   "source": [
    "pred_y = model.predict(test_X)"
   ]
  },
  {
   "cell_type": "code",
   "execution_count": 45,
   "id": "ced774aa-f71f-46d4-88a5-3f8e757e6457",
   "metadata": {},
   "outputs": [],
   "source": [
    "pred_y = scaler.inverse_transform(pred_y)"
   ]
  },
  {
   "cell_type": "code",
   "execution_count": 46,
   "id": "d0b03b9a-7b04-4c6f-9123-072b702d3ed7",
   "metadata": {},
   "outputs": [
    {
     "data": {
      "text/plain": [
       "(np.float64(941.2008020893018),\n",
       " np.float64(1631846.4725050724),\n",
       " 0.7340426009312087)"
      ]
     },
     "execution_count": 46,
     "metadata": {},
     "output_type": "execute_result"
    }
   ],
   "source": [
    "from sklearn.metrics import mean_absolute_error, mean_squared_error, r2_score\n",
    "(mean_absolute_error(test_y, pred_y), mean_squared_error(test_y, pred_y), r2_score(test_y, pred_y))"
   ]
  },
  {
   "cell_type": "code",
   "execution_count": 47,
   "id": "26e5f04e-ff44-4ae6-bee3-0c6b7a310e76",
   "metadata": {},
   "outputs": [
    {
     "data": {
      "text/plain": [
       "<Axes: xlabel='Datetime'>"
      ]
     },
     "execution_count": 47,
     "metadata": {},
     "output_type": "execute_result"
    },
    {
     "data": {
      "image/png": "[encoded data removed]",
      "text/plain": [
       "<Figure size 640x480 with 1 Axes>"
      ]
     },
     "metadata": {},
     "output_type": "display_data"
    }
   ],
   "source": [
    "sns.lineplot(x=test_y.index, y=test_y.values)\n",
    "sns.lineplot(x=test_y.index, y=pred_y.flatten())"
   ]
  },
  {
   "cell_type": "code",
   "execution_count": null,
   "id": "5f038ed8-f573-42c2-92b1-1ca4069b68d8",
   "metadata": {},
   "outputs": [],
   "source": []
  }
 ],
 "metadata": {
  "kernelspec": {
   "display_name": "Python 3 (ipykernel)",
   "language": "python",
   "name": "python3"
  },
  "language_info": {
   "codemirror_mode": {
    "name": "ipython",
    "version": 3
   },
   "file_extension": ".py",
   "mimetype": "text/x-python",
   "name": "python",
   "nbconvert_exporter": "python",
   "pygments_lexer": "ipython3",
   "version": "3.12.4"
  }
 },
 "nbformat": 4,
 "nbformat_minor": 5
}
