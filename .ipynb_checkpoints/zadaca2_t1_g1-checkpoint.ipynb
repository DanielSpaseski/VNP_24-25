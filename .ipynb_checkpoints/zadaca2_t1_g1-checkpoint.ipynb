{
  "nbformat": 4,
  "nbformat_minor": 0,
  "metadata": {
    "colab": {
      "provenance": []
    },
    "kernelspec": {
      "name": "python3",
      "display_name": "Python 3"
    },
    "language_info": {
      "name": "python"
    }
  },
  "cells": [
    {
      "cell_type": "markdown",
      "source": [
        "# Task 2\n",
        "\n",
        "Perform hyper-parameter tuning on the DecisionTree algorithm in order to predict the target column \"smoking\". Use 5-fold cross-validation for the hyper-parameter tuning, tune the parameters \"criterion\", \"max_depth\", and \"min_samples_split\". Provide at least 3 values for each parameter."
      ],
      "metadata": {
        "id": "sRbkPJAzQPY5"
      }
    },
    {
      "cell_type": "markdown",
      "source": [
        "## Dataset description\n",
        "\n",
        "### Features\n",
        "\n",
        "* id - patient identifier\n",
        "* age - patient age\n",
        "* height(cm) - patient height in cm\n",
        "* weight(kg) - patient weight in kg\n",
        "* waist(cm) - patient waist diameter in cm\n",
        "* eyesight(left) - patient eyesight left eye\n",
        "* eyesight(right) - patient eyesight right eye\n",
        "* hearing(left) - patient hearing condition left ear\n",
        "* hearing(right) - patient hearing condition right ear\n",
        "* systolic - patient systolic blood pressure\n",
        "* relaxation - patient relaxation blood pressure\n",
        "* fasting blood sugar - patient blood sugar level\n",
        "* Cholesterol - patient cholesterol level\n",
        "* triglyceride - patient triglyceride level\n",
        "* HDL - patient high-density lipoprotein cholesterol level\n",
        "* LDL - patient low-density lipoprotein cholesterol level\n",
        "* hemoglobin - patient hemoglobin level\n",
        "* Urine protein - patinet protein in urine level\n",
        "* serum creatinine - patient serum creatinine level\n",
        "* AST - patient aspartate aminotransferase level\n",
        "* ALT - patient Alanine transaminase level\n",
        "* Gtp - patient Guanosine-5'-triphosphate level\n",
        "* dental caries - patient dental status\n",
        "\n",
        "\n",
        "\n",
        "### Target variable\n",
        "smoking"
      ],
      "metadata": {
        "id": "JUbFeMNUQneg"
      }
    },
    {
      "cell_type": "markdown",
      "source": [
        "### Download the dataset"
      ],
      "metadata": {
        "id": "4bEbqyd3SXnC"
      }
    },
    {
      "cell_type": "code",
      "execution_count": null,
      "metadata": {
        "id": "_TYfTvvBPTnK"
      },
      "outputs": [],
      "source": [
        "! gdown 1tUjwr64Sgv9DlImHSa5exj0Cv6Ngl6CC"
      ]
    },
    {
      "cell_type": "markdown",
      "source": [
        "### Read the dataset"
      ],
      "metadata": {
        "id": "QQIRVprQSa0p"
      }
    },
    {
      "cell_type": "code",
      "source": [],
      "metadata": {
        "id": "XpO_W79nSc-D"
      },
      "execution_count": null,
      "outputs": []
    },
    {
      "cell_type": "markdown",
      "source": [
        "### Check if dataset is balanced, or if not applicable give your reasons why\n",
        "\n"
      ],
      "metadata": {
        "id": "jGbC7XczWhMZ"
      }
    },
    {
      "cell_type": "code",
      "source": [],
      "metadata": {
        "id": "DCSbhKw4Wh5x"
      },
      "execution_count": null,
      "outputs": []
    },
    {
      "cell_type": "markdown",
      "source": [
        "### Perform all necessary transformations of the data"
      ],
      "metadata": {
        "id": "AO0vT8RtScsx"
      }
    },
    {
      "cell_type": "code",
      "source": [],
      "metadata": {
        "id": "iqdpakElSgoX"
      },
      "execution_count": null,
      "outputs": []
    },
    {
      "cell_type": "markdown",
      "source": [
        "### Hyper-parameter tuning and cross-validation"
      ],
      "metadata": {
        "id": "ybeI7j5OShTc"
      }
    },
    {
      "cell_type": "markdown",
      "source": [
        "Choose a metric to optimize, choose hyper parameter values to experiment with, perform 5-fold cross-validation."
      ],
      "metadata": {
        "id": "9aDMYqXmSsWK"
      }
    },
    {
      "cell_type": "code",
      "source": [],
      "metadata": {
        "id": "HHdPIOGdSliO"
      },
      "execution_count": null,
      "outputs": []
    },
    {
      "cell_type": "markdown",
      "source": [
        "### Evaluate the performance of the best model using multiple metrics"
      ],
      "metadata": {
        "id": "1aPsXvKiSl6p"
      }
    },
    {
      "cell_type": "markdown",
      "source": [
        "Calculate metrics\n",
        "\n",
        "Display a confusion matrix if applicable"
      ],
      "metadata": {
        "id": "SEfLc5YYTKEj"
      }
    },
    {
      "cell_type": "code",
      "source": [],
      "metadata": {
        "id": "6cYbpPX3SrvE"
      },
      "execution_count": null,
      "outputs": []
    }
  ]
}